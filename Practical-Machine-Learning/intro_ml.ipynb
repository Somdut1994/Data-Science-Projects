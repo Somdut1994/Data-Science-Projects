{
 "cells": [
  {
   "cell_type": "code",
   "execution_count": null,
   "id": "2cb7bfdd",
   "metadata": {
    "slideshow": null
   },
   "outputs": [],
   "source": [
    "import seaborn as sns\n",
    "sns.set()"
   ]
  },
  {
   "cell_type": "code",
   "execution_count": null,
   "id": "2eef36a6",
   "metadata": {
    "slideshow": null
   },
   "outputs": [],
   "source": [
    "from static_grader import grader"
   ]
  },
  {
   "cell_type": "markdown",
   "id": "3057ac75",
   "metadata": {
    "slideshow": null
   },
   "source": [
    "# Part 1: Regression\n",
    "\n",
    "We'll start by looking at some [demographic and socioeconomic data](https://catalog.data.gov/dataset/rural-veterans-by-state-2015) from the Department of Veterans Affairs.  Our goal is to build a linear model that predicts an individual's household income.  Let's load in the data:"
   ]
  },
  {
   "cell_type": "code",
   "execution_count": null,
   "id": "a8292970",
   "metadata": {
    "slideshow": null
   },
   "outputs": [],
   "source": [
    "!aws s3 sync s3://dataincubator-course/mldata/ . --exclude '*' --include 'vet_data.csv'"
   ]
  },
  {
   "cell_type": "markdown",
   "id": "aebf0035",
   "metadata": {
    "slideshow": null
   },
   "source": [
    "Scikit-learn is pretty flexible when it comes to data formats, so there is no right way to import the data.  Using [Pandas](https://pandas.pydata.org/) DataFrames makes it easier to keep track of feature names, although you may use NumPy arrays or even Python lists.\n",
    "\n",
    "**Note:**  If you train a scikit-learn transformer or predictor using a DataFrame having strings for column names, it will expect a DataFrame having those column names as input to the `transform` or `predict` method.  "
   ]
  },
  {
   "cell_type": "code",
   "execution_count": null,
   "id": "14a938db",
   "metadata": {
    "slideshow": null
   },
   "outputs": [],
   "source": [
    "import numpy as np\n",
    "import pandas as pd\n",
    "\n",
    "vet_data = pd.read_csv(\"./vet_data.csv\", index_col=0)\n",
    "\n",
    "print(type(vet_data))\n",
    "vet_data.shape"
   ]
  },
  {
   "cell_type": "markdown",
   "id": "1f4f8e6b",
   "metadata": {
    "slideshow": null
   },
   "source": [
    "You can get a nice preview of the data in a DataFrame with its `.head()` method."
   ]
  },
  {
   "cell_type": "code",
   "execution_count": null,
   "id": "283352be",
   "metadata": {
    "slideshow": null
   },
   "outputs": [],
   "source": [
    "vet_data.head()"
   ]
  },
  {
   "cell_type": "markdown",
   "id": "d4e39f22",
   "metadata": {
    "slideshow": null
   },
   "source": [
    "Column descriptions can be found in this slightly unwieldy [data dictionary](https://www.va.gov/data/VAOpenDataMigration2019/Data-Dictionary-Apps-for-Ag.pdf).  "
   ]
  },
  {
   "cell_type": "markdown",
   "id": "cc1acfe1",
   "metadata": {
    "slideshow": null
   },
   "source": [
    "## Question 1: Age Model\n",
    "\n",
    "We'll start with the first two columns in the data set.  `HINCP` is household income in dollars, and `AGEP` is each individual's age in years.  Use scikit-learn's [`LinearRegression`](http://scikit-learn.org/stable/modules/generated/sklearn.linear_model.LinearRegression.html) to make a simple model that predicts income based on age.  \n",
    "\n",
    "In this case our feature matrix `X` and our label vector `y` are just the `HINCP` and `AGEP` columns from the data set.  Note that scikit-learn expects `X` to be a 2-dimensional `ndarray` or a DataFrame and `y` to be a 1-dimensional `ndarray` or a Series, so we'll select these columns in slightly different ways. \n",
    "\n",
    "The grader will be giving you a pandas DataFrame as input for its test data.  Therefore, we'll train our model using a DataFrame (for `X` and a Series for `y`).   "
   ]
  },
  {
   "cell_type": "code",
   "execution_count": null,
   "id": "37575e9a",
   "metadata": {
    "slideshow": null
   },
   "outputs": [],
   "source": [
    "from sklearn.linear_model import LinearRegression\n",
    "\n",
    "X = vet_data[['AGEP']] # List of columns gives a DataFrame\n",
    "y = vet_data['HINCP']  # Single column gives a Series"
   ]
  },
  {
   "cell_type": "markdown",
   "id": "721e9d0e",
   "metadata": {
    "slideshow": null
   },
   "source": [
    "Now create and fit a `LinearRegression` object, and pass its `predict` method to the grader for scoring."
   ]
  },
  {
   "cell_type": "code",
   "execution_count": null,
   "id": "2b954177",
   "metadata": {
    "slideshow": null
   },
   "outputs": [],
   "source": [
    "age_est = ..."
   ]
  },
  {
   "cell_type": "code",
   "execution_count": null,
   "id": "daa36988",
   "metadata": {
    "slideshow": null
   },
   "outputs": [],
   "source": [
    "grader.score('intro_ml__age_model', age_est.predict)"
   ]
  },
  {
   "cell_type": "markdown",
   "id": "bc0833a4",
   "metadata": {
    "slideshow": null
   },
   "source": [
    "Regressors in scikit-learn have a `.score` method which returns an $R^2$ score.  Let's see how well we did."
   ]
  },
  {
   "cell_type": "code",
   "execution_count": null,
   "id": "c3799d7d",
   "metadata": {
    "slideshow": null
   },
   "outputs": [],
   "source": [
    "age_est.score(X, y)"
   ]
  },
  {
   "cell_type": "markdown",
   "id": "cc6957dc",
   "metadata": {
    "slideshow": null
   },
   "source": [
    "Here the low $R^2$ score indicates underfitting.  In other words, our model isn't very good.  This isn't surprising, since we've ignored most of our data.  Furthermore, age and income may not be linearly correlated (try plotting them)! We'll get better results by including more features and using more sophisticated models.  "
   ]
  },
  {
   "cell_type": "markdown",
   "id": "6a2b13ab",
   "metadata": {
    "slideshow": null
   },
   "source": [
    "## Question 2: Full Linear Model\n",
    "\n",
    "Next, we'll build a linear model that uses all of the features in the data set instead of just one.  "
   ]
  },
  {
   "cell_type": "code",
   "execution_count": null,
   "id": "7c7a0e76",
   "metadata": {
    "slideshow": null
   },
   "outputs": [],
   "source": [
    "X = vet_data.drop('HINCP', axis=1)\n",
    "y = vet_data['HINCP']"
   ]
  },
  {
   "cell_type": "markdown",
   "id": "f50a1daf",
   "metadata": {
    "slideshow": null
   },
   "source": [
    "This might seem like a repeat of the previous question, but there's a problem: all of the other features in our data set are categorical!  \n",
    "\n",
    "For example, the `marital` column represents marital status using the following codes:\n",
    "\n",
    "> 1: married\n",
    "\n",
    "> 2: divorced\n",
    "\n",
    "> 3: widowed, separated\n",
    "\n",
    "> 4: never married\n",
    "\n",
    "The numerical order of these labels isn't meaningful (someone who's divorced isn't more married than someone who's separated), so it doesn't make sense to feed them directly into a linear model.  A better alternative is to use one hot encoding, effectively creating a new indicator variable for each label.\n",
    "\n",
    "We can do this using scikit-learn's [`OneHotEncoder`](http://scikit-learn.org/stable/modules/generated/sklearn.preprocessing.OneHotEncoder.html).  "
   ]
  },
  {
   "cell_type": "code",
   "execution_count": null,
   "id": "6d6f60fc",
   "metadata": {
    "slideshow": null
   },
   "outputs": [],
   "source": [
    "from sklearn.preprocessing import OneHotEncoder"
   ]
  },
  {
   "cell_type": "markdown",
   "id": "56684847",
   "metadata": {
    "slideshow": null
   },
   "source": [
    "As an example, suppose we have a matrix with two categorical features.  The first feature takes on the values {1,2,3,4} while the second takes on the values {10,20}."
   ]
  },
  {
   "cell_type": "code",
   "execution_count": null,
   "id": "7a367bd1",
   "metadata": {
    "slideshow": null
   },
   "outputs": [],
   "source": [
    "cat_feats = np.array([[1,10],[2,20],[3,10],[4,20],[3,10],[2,20],[1,10]])\n",
    "cat_feats"
   ]
  },
  {
   "cell_type": "markdown",
   "id": "d883b2c6",
   "metadata": {
    "slideshow": null
   },
   "source": [
    "Now let's run this through a one-hot encoder."
   ]
  },
  {
   "cell_type": "code",
   "execution_count": null,
   "id": "0619e1e8",
   "metadata": {
    "slideshow": null
   },
   "outputs": [],
   "source": [
    "OneHotEncoder(categories='auto', sparse_output=False).fit_transform(cat_feats)"
   ]
  },
  {
   "cell_type": "markdown",
   "id": "5bd01f85",
   "metadata": {
    "slideshow": null
   },
   "source": [
    "Note that the first four columns encode four values taken by the first feature, while the final two columns of the output represent the two values taken by the second feature.\n",
    "\n",
    "**Question:** Why is it necessary to fit the `OneHotEncoder`?\n",
    "\n",
    "Create a transformer to do one hot encoding on our feature matrix `X`.  \n",
    "\n",
    "We don't want to encode the `AGEP` column since that feature is already continuous.  The preferred way to do this in scikit-learn (since version 0.20) is to use the [`ColumnTransformer`](https://scikit-learn.org/stable/modules/generated/sklearn.compose.ColumnTransformer.html).  This is a method that lets us define several transformers that might work on different columns of our feature matrix, and paste those results together into a new feature matrix.  Columns unused in any of the transformers can either be dropped (the default), or \"passed through\", i.e. pasted (unchanged) into the resulting feature matrix.  (For those familiar with it, this is similar to the [`FeatureUnion`](https://scikit-learn.org/stable/modules/generated/sklearn.pipeline.FeatureUnion.html) in scikit-learn.)  There is only a single transformer we are applying in this case, but we will use the `ColumnTransformer` in any event with the \"pass through\" option so that the `AGEP` column isn't transformed, but is included in our output feature matrix.  \n",
    "\n",
    "You should also be aware of the `sparse` argument of [`OneHotEncoder`](http://scikit-learn.org/stable/modules/generated/sklearn.preprocessing.OneHotEncoder.html), which controls whether the output is a sparse matrix or a NumPy array.  Sparse output is more memory efficient, and it's the default, but other functions may not accept it as input.\n",
    "\n",
    "A `ColumnTransformer` takes a list of tuples of the form `(name, transformer, column(s))` where the columns for the particular transformer are specified as a list.  Don't forget to specify a proper parameter value for `remainder` in the `ColumnTransformer` to get the `AGEP` column in the output feature matrix.  "
   ]
  },
  {
   "cell_type": "code",
   "execution_count": null,
   "id": "42db9e71",
   "metadata": {
    "slideshow": null
   },
   "outputs": [],
   "source": [
    "from sklearn.compose import ColumnTransformer\n",
    "\n",
    "one_hot_transformer = ColumnTransformer(  ...  )"
   ]
  },
  {
   "cell_type": "markdown",
   "id": "6e4eba6d",
   "metadata": {
    "slideshow": null
   },
   "source": [
    "The `.fit` method of the `ColumnTransformer` method calls `.fit` for each of the component transformers.  Similarly, `.transform` calls the `.transform` for each component and then pastes the resulting outputs into the new feature matrix.  "
   ]
  },
  {
   "cell_type": "code",
   "execution_count": null,
   "id": "702b33ba",
   "metadata": {
    "slideshow": null
   },
   "outputs": [],
   "source": [
    "one_hot_transformer.fit_transform(X)"
   ]
  },
  {
   "cell_type": "markdown",
   "id": "a1ad1ebd",
   "metadata": {
    "slideshow": null
   },
   "source": [
    "Now we could apply this transformer to our data using its `.fit_transform` method, but applying transformers directly generally isn't good practice:\n",
    "\n",
    "* Storing the original data set and the transformed data set as two different objects clutters our workspace.  There's a non-trivial chance that we'll confuse one for the other. \n",
    "* We'll need to apply the transformer again each time we encounter new data (for example, to make predictions).  This is an extra step that we might forget, and it also means that we're repeating code.\n",
    "* Both of these problems are compounded when we want to apply many transformers in sequence.    \n",
    "\n",
    "Instead, we should use scikit-learn's [`Pipeline`](http://scikit-learn.org/stable/modules/generated/sklearn.pipeline.Pipeline.html) function to organize our transformers and estimator into a single object which only needs to be applied to the data once.  \n",
    "\n",
    "Try building a pipeline that combines our `one_hot_transformer` with a `LinearRegression()` estimator."
   ]
  },
  {
   "cell_type": "code",
   "execution_count": null,
   "id": "5acc3ac0",
   "metadata": {
    "slideshow": null
   },
   "outputs": [],
   "source": [
    "from sklearn.pipeline import Pipeline\n",
    "\n",
    "linear_est = ..."
   ]
  },
  {
   "cell_type": "code",
   "execution_count": null,
   "id": "e6eba090",
   "metadata": {
    "slideshow": null
   },
   "outputs": [],
   "source": [
    "grader.score('intro_ml__linear_model', linear_est.predict)"
   ]
  },
  {
   "cell_type": "markdown",
   "id": "01d379b3",
   "metadata": {
    "slideshow": null
   },
   "source": [
    "## Question 3: Polynomial Features\n",
    "\n",
    "Linear models cannot detect interactions between features. One way around this limitation is to create new features that encode the interactions we're interested in.  For example, we can use the values given by the product of each pair (or tuple) of features.  This is exactly what scikit-learn's [`PolynomialFeatures`](http://scikit-learn.org/stable/modules/generated/sklearn.preprocessing.PolynomialFeatures.html) transformer does.    "
   ]
  },
  {
   "cell_type": "code",
   "execution_count": null,
   "id": "ba1c1ef6",
   "metadata": {
    "slideshow": null
   },
   "outputs": [],
   "source": [
    "from sklearn.preprocessing import PolynomialFeatures\n",
    "\n",
    "polynomial_transformer = PolynomialFeatures(degree=2, interaction_only=True, include_bias=False)\n",
    "\n",
    "# For example, if our original features are x,y,z, then the new features are xy,xz,yz\n",
    "polynomial_transformer.fit_transform([[2,3,5]])"
   ]
  },
  {
   "cell_type": "markdown",
   "id": "f9c66ef0",
   "metadata": {
    "slideshow": null
   },
   "source": [
    "If we apply `one_hot_transformer` and `polynomial_transformer` in sequence, then we'll have more features to build a linear model on top of. Let's do just that.\n",
    "\n",
    "1. Create a `Pipeline` object of the described two step process\n",
    "1. Fit the `Pipeline` object with the training data, `X`\n",
    "1. Once fitted, transform the sample data created below"
   ]
  },
  {
   "cell_type": "code",
   "execution_count": null,
   "id": "9373dbef",
   "metadata": {
    "slideshow": null
   },
   "outputs": [],
   "source": [
    "sample_data = pd.DataFrame([\n",
    "    [ 31.,   2.,   3.,   1.,   2.,   2.,   1.,   1.,   2.,   3.,   0.,   2.,   2.,   1.,   1.],\n",
    "    [ 20.,   2.,   3.,   1.,   1.,   3.,   1.,   4.,   2.,   1.,   0.,   2.,   1.,   2.,   1.],\n",
    "    [ 22.,   2.,   3.,   1.,   2.,   4.,   1.,   1.,   1.,   3.,   1.,   2.,   2.,   1.,   1.],\n",
    "    [ 73.,   1.,   3.,   1.,   1.,   1.,   1.,   1.,   2.,   3.,   0.,   1.,   1.,   1.,   1.],\n",
    "    [ 68.,   2.,   3.,   1.,   2.,   1.,   1.,   3.,   2.,   3.,   0.,   1.,   1.,   1.,   1.]\n",
    "], columns=X.columns)"
   ]
  },
  {
   "cell_type": "code",
   "execution_count": null,
   "id": "46b952f6",
   "metadata": {
    "slideshow": null
   },
   "outputs": [],
   "source": [
    "pipe_poly = ...\n",
    "sample_data_transformed = ..."
   ]
  },
  {
   "cell_type": "markdown",
   "id": "75a3ec8f",
   "metadata": {
    "slideshow": null
   },
   "source": [
    "Your answer should have 5 rows and 1128 columns for the transformed `sample_data`."
   ]
  },
  {
   "cell_type": "code",
   "execution_count": null,
   "id": "0138aa13",
   "metadata": {
    "slideshow": null
   },
   "outputs": [],
   "source": [
    "# What data should be fit on, and what data transformed?\n",
    "grader.check(sample_data_transformed.shape == (5, 1128))"
   ]
  },
  {
   "cell_type": "code",
   "execution_count": null,
   "id": "17e3d76c",
   "metadata": {
    "slideshow": null
   },
   "outputs": [],
   "source": [
    "grader.score('intro_ml__trans_data', sample_data_transformed)"
   ]
  },
  {
   "cell_type": "markdown",
   "id": "a6f44cb6",
   "metadata": {
    "slideshow": null
   },
   "source": [
    "If you look at the output, you may notice that most of the entries are zero!    "
   ]
  },
  {
   "cell_type": "code",
   "execution_count": null,
   "id": "7171d506",
   "metadata": {
    "slideshow": null
   },
   "outputs": [],
   "source": [
    "# The percentage of non-zero elements in our output.\n",
    "100 * (sample_data_transformed != 0).sum() / (5 * 1128)"
   ]
  },
  {
   "cell_type": "markdown",
   "id": "b74c8e4c",
   "metadata": {
    "slideshow": null
   },
   "source": [
    "Unfortunately, this is an inevitable consequence of using `OneHotEncoder` and `PolynomialFeatures` together.  Most of the variables coming from one hot encoding are equal to zero most of the time, and it follows that the cross terms will equal zero with an even greater frequency.  For this reason, `PolynomialFeatures` is usually used with features which are continuous to begin with.\n",
    "\n",
    "This doesn't mean that our transformed data is useless, but variables that are zero most of the time aren't contributing as much to our model, and giving them too much weight may contribute to overfitting.  In our case, a better approach is to switch to a non-linear model."
   ]
  },
  {
   "cell_type": "markdown",
   "id": "e96ef243",
   "metadata": {
    "slideshow": null
   },
   "source": [
    "## Question 4: Decision Tree Regressor\n",
    "\n",
    "A decision tree is a binary tree that sorts data into groups by comparing observations to reference values one feature at a time.  Different features can be considered at different nodes, so decision trees are capable of encoding non-linear behavior, effectively capturing interactions between features.  \n",
    "\n",
    "Decision trees can also make a sequence of splits based on a single feature, effectively approximating non-linear functions of a single variable.  This is especially relevant because of the `AGEP` variable that we discussed above.  Intuition should tell us that the dependence of income on age is not linear.  So we'll have better luck with a non-linear model.\n",
    "\n",
    "Create a new model using [`DecisionTreeRegressor`](http://scikit-learn.org/stable/modules/generated/sklearn.tree.DecisionTreeRegressor.html)."
   ]
  },
  {
   "cell_type": "code",
   "execution_count": null,
   "id": "5b64ac23",
   "metadata": {
    "slideshow": null
   },
   "outputs": [],
   "source": [
    "from sklearn.tree import DecisionTreeRegressor\n",
    "\n",
    "tree_est = ..."
   ]
  },
  {
   "cell_type": "markdown",
   "id": "e376bea9",
   "metadata": {
    "slideshow": null
   },
   "source": [
    "Some things to consider:\n",
    "\n",
    "* By default, a decision tree will keep growing until it has pure leaves.  For regression, this can mean that we get a different leaf for each sample.  Obviously this is a recipe for overfitting, so we should limit the growth of the tree by setting hyperparameters like `max_depth` or `min_samples_leaf`.  [`GridSearchCV`](http://scikit-learn.org/stable/modules/generated/sklearn.model_selection.GridSearchCV.html) can help you find the optimal values.  \n",
    "* Is one hot encoding still necessary?  Why or why not?"
   ]
  },
  {
   "cell_type": "code",
   "execution_count": null,
   "id": "4ff5899f",
   "metadata": {
    "slideshow": null
   },
   "outputs": [],
   "source": [
    "grader.score('intro_ml__tree_model', tree_est.predict)"
   ]
  },
  {
   "cell_type": "markdown",
   "id": "94397d12",
   "metadata": {
    "slideshow": null
   },
   "source": [
    "# Part 2: Classification\n",
    "\n",
    "Next we'll look at delay and cancellation data for airline flights from 2008.  We'll only consider flights from two airline carriers: Southwest Airlines and American Airlines.  Our goal is to build a classifier that predicts which carrier each flight belongs to.\n",
    "\n",
    "Let's start by loading in the data."
   ]
  },
  {
   "cell_type": "code",
   "execution_count": null,
   "id": "b5d5109d",
   "metadata": {
    "slideshow": null
   },
   "outputs": [],
   "source": [
    "!aws s3 sync s3://dataincubator-course/mldata/ . --exclude '*' --include 'ml_flight_data.csv'"
   ]
  },
  {
   "cell_type": "code",
   "execution_count": null,
   "id": "99c4af2b",
   "metadata": {
    "slideshow": null
   },
   "outputs": [],
   "source": [
    "flight_data = pd.read_csv(\"./ml_flight_data.csv\", index_col=0)\n",
    "\n",
    "print(type(flight_data), flight_data.shape)\n",
    "\n",
    "flight_data.head()"
   ]
  },
  {
   "cell_type": "markdown",
   "id": "37b61cd3",
   "metadata": {
    "slideshow": null
   },
   "source": [
    "A brief description of the columns can be found [here](http://stat-computing.org/dataexpo/2009/the-data.html).  For convenience, we've converted times from `hhmm` format to hours and dropped some columns.  All features can be treated as continuous.\n",
    "\n",
    "To start, we'll select the appropriate columns to get our feature and label sets, `X` and `y`.  Depending on your strategy for model selection and evaluation, you may wish to further split these into test and training sets using scikit-learn's [`train_test_split`](http://scikit-learn.org/stable/modules/generated/sklearn.model_selection.train_test_split.html)."
   ]
  },
  {
   "cell_type": "code",
   "execution_count": null,
   "id": "367f7676",
   "metadata": {
    "slideshow": null
   },
   "outputs": [],
   "source": [
    "X = flight_data.drop('Carrier', axis=1)\n",
    "y = flight_data['Carrier']"
   ]
  },
  {
   "cell_type": "markdown",
   "id": "7327597e",
   "metadata": {
    "slideshow": null
   },
   "source": [
    "## Question 5: Logistic Regression Model\n",
    "\n",
    "We'll start by building a classifier that uses Logistic Regression.  Practically speaking, this could be very similar to the models that we built before, but we have a new challenge to deal with: our data has missing values.\n",
    "\n",
    "In a different situation, we might want to drop rows or columns, but this often means throwing out good data, and we may not have the luxury of ignoring incomplete observations when the time comes to apply our model.  Here we'll assign a value to each missing field based on the other values in the same column.  We suggest using the [`SimpleImputer`](https://scikit-learn.org/stable/modules/generated/sklearn.impute.SimpleImputer.html) transformer from scikit-learn's  `impute` module.  \n",
    "\n",
    "It should be noted that the behavior of `SimpleImputer` is somewhat limited.  If we wanted to use a more complicated strategy to impute values (or to use different strategies for different columns), then we'd need to write a custom transformer.  Another strategy to be aware of is filling in random values.  This is a middle ground between imputation and dropping rows/columns.          "
   ]
  },
  {
   "cell_type": "code",
   "execution_count": null,
   "id": "3e0c1c4a",
   "metadata": {
    "slideshow": null
   },
   "outputs": [],
   "source": [
    "from sklearn.impute import SimpleImputer\n",
    "from sklearn.linear_model import LogisticRegression\n",
    "\n",
    "log_est = ..."
   ]
  },
  {
   "cell_type": "markdown",
   "id": "6584b850",
   "metadata": {
    "slideshow": null
   },
   "source": [
    "Once you have a working pipeline, try modifying it to improve performance.\n",
    "\n",
    "* Consider the [`StandardScaler`](http://scikit-learn.org/stable/modules/generated/sklearn.preprocessing.StandardScaler.html) transformer.  Is it appropriate to use it here?   \n",
    "* You can use [`GridSearchCV`](http://scikit-learn.org/stable/modules/generated/sklearn.model_selection.GridSearchCV.html) to do hyperparameter selection.  `LogisticRegression` has hyperparameter, `C`, which controls regularization, and `SimpleImputer` has an argument, `strategy`, that controls how imputed values are calculated.     "
   ]
  },
  {
   "cell_type": "code",
   "execution_count": null,
   "id": "67b32d23",
   "metadata": {
    "slideshow": null
   },
   "outputs": [],
   "source": [
    "grader.score('intro_ml__log_model', log_est.predict)"
   ]
  },
  {
   "cell_type": "markdown",
   "id": "4e8aa873",
   "metadata": {
    "slideshow": null
   },
   "source": [
    "## Question 6: Feature Importance\n",
    "\n",
    "One way to gain insight into our machine learning models is to look at how much influence each variable has on their predictions.  In a broad sense, variables with more influence are more important because they have more predictive power.  For example, with linear or logistic regression we can measure importance by looking at the coefficients learned by the model.  If our features were normalized to begin with, then the coefficients with the greatest absolute value correspond to the most predictive features.  \n",
    "\n",
    "In this question, we'll use the `.coef_` attribute of `LogisticRegression` to get the coefficients from the estimator we built in the previous step.  Keep in mind that we need to do feature scaling to get a fair comparison of the coefficients, so you may need to modify your pipeline to include `StandardScaler`.\n",
    "\n",
    "Then write a function that returns a list of the five most important features, together with their coefficients.  Depending on how you built your estimator, you may need to do some digging to access the `LogisticRegression` component.  The `best_estimator_` attribute of [`GridSearchCV`](http://scikit-learn.org/stable/modules/generated/sklearn.model_selection.GridSearchCV.html) and the `named_steps` attribute of [`Pipeline`](http://scikit-learn.org/stable/modules/generated/sklearn.pipeline.Pipeline.html) may come in handy.  "
   ]
  },
  {
   "cell_type": "code",
   "execution_count": null,
   "id": "60f9e98d",
   "metadata": {
    "slideshow": null
   },
   "outputs": [],
   "source": [
    "column_names = list(flight_data.drop('Carrier', axis=1)) \n",
    "\n",
    "top_5 = [('Distance', 0.421220771945)] * 5\n",
    "\n",
    "grader.score('intro_ml__feature_importances', top_5)"
   ]
  },
  {
   "cell_type": "markdown",
   "id": "3ef6fd99",
   "metadata": {
    "slideshow": null
   },
   "source": [
    "*Copyright &copy; 2022 Pragmatic Institute. This content is licensed solely for personal use. Redistribution or publication of this material is strictly prohibited.*"
   ]
  }
 ],
 "metadata": {
  "kernelspec": {
   "display_name": "Python 3 (ipykernel)",
   "language": "python",
   "name": "python3"
  },
  "nbclean": true
 },
 "nbformat": 4,
 "nbformat_minor": 5
}
