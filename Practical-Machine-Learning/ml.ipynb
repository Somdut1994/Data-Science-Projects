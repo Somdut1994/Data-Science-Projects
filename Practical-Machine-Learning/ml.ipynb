{
 "cells": [
  {
   "cell_type": "code",
   "execution_count": 1,
   "id": "2c9930ba",
   "metadata": {
    "slideshow": null
   },
   "outputs": [],
   "source": [
    "import seaborn as sns\n",
    "sns.set()"
   ]
  },
  {
   "cell_type": "code",
   "execution_count": 2,
   "id": "3c410baf",
   "metadata": {
    "slideshow": null
   },
   "outputs": [],
   "source": [
    "from static_grader import grader"
   ]
  },
  {
   "cell_type": "markdown",
   "id": "8f949541",
   "metadata": {
    "slideshow": null
   },
   "source": [
    "# ML: Predicting Star Ratings\n"
   ]
  },
  {
   "cell_type": "markdown",
   "id": "07a6e8d0",
   "metadata": {
    "slideshow": null
   },
   "source": [
    "Our objective is to predict a new venue's popularity from information available when the venue opens.  We will do this by machine learning from a data set of venue popularities provided by Yelp.  The data set contains meta data about the venue (where it is located, the type of food served, etc.).  It also contains a star rating. Note that the venues are not limited to restaurants. This tutorial will walk you through one way to build a machine learning algorithm.\n"
   ]
  },
  {
   "cell_type": "markdown",
   "id": "c2e234d6",
   "metadata": {
    "slideshow": null
   },
   "source": [
    "## Metrics and scoring"
   ]
  },
  {
   "cell_type": "markdown",
   "id": "625fd637",
   "metadata": {
    "slideshow": null
   },
   "source": [
    "For most questions, you are asked to submit your models `predict` method to the grader. The grader uses a test set to evaluate your model's performance against our reference solution, using the $R^2$ score. It **is** possible to receive a score greater than one, indicating that you've beaten our reference model. We compare our model's score on a test set to your score on the same test set. See how high you can go!"
   ]
  },
  {
   "cell_type": "markdown",
   "id": "a5fe8953",
   "metadata": {
    "slideshow": null
   },
   "source": [
    "## Download and parse the incoming data\n"
   ]
  },
  {
   "cell_type": "markdown",
   "id": "84329c18",
   "metadata": {
    "slideshow": null
   },
   "source": [
    "We start by downloading the data set from Amazon S3:"
   ]
  },
  {
   "cell_type": "code",
   "execution_count": 3,
   "id": "51c6044c",
   "metadata": {
    "slideshow": null
   },
   "outputs": [],
   "source": [
    "!aws s3 sync s3://dataincubator-course/mldata/ . --exclude '*' --include 'yelp_train_academic_dataset_business.json.gz'"
   ]
  },
  {
   "cell_type": "markdown",
   "id": "0c3c81b9",
   "metadata": {
    "slideshow": null
   },
   "source": [
    "The training data are a series of JSON objects, in a Gzipped file. Python supports Gzipped files natively: [`gzip.open`](https://docs.python.org/3/library/gzip.html) has the same interface as `open`, but handles `.gz` files automatically.\n",
    "\n",
    "The built-in `json` package has a `loads` function that converts a JSON string into a Python dictionary. We could call that once for each row of the file. [`ujson`](http://docs.micropython.org/en/latest/library/ujson.html) has the same interface as the built-in `json` package, but is *substantially* faster (at the cost of non-robust handling of malformed JSON). We will use that inside a list comprehension to get a list of dictionaries:"
   ]
  },
  {
   "cell_type": "code",
   "execution_count": 4,
   "id": "555fd10d",
   "metadata": {
    "slideshow": null
   },
   "outputs": [],
   "source": [
    "import ujson as json\n",
    "import gzip\n",
    "\n",
    "with gzip.open('yelp_train_academic_dataset_business.json.gz') as f:\n",
    "    data = [json.loads(line) for line in f]"
   ]
  },
  {
   "cell_type": "markdown",
   "id": "cda87f47",
   "metadata": {
    "slideshow": null
   },
   "source": [
    "In scikit-learn, the labels to be predicted, in this case, the stars, are always kept in a separate data structure than the features. Let's get in this habit now, by creating a separate list of the ratings."
   ]
  },
  {
   "cell_type": "code",
   "execution_count": 5,
   "id": "62a9e50d",
   "metadata": {
    "slideshow": null
   },
   "outputs": [],
   "source": [
    "star_ratings = [row['stars'] for row in data]"
   ]
  },
  {
   "cell_type": "markdown",
   "id": "569bc903",
   "metadata": {
    "slideshow": null
   },
   "source": [
    "A few things to consider:"
   ]
  },
  {
   "cell_type": "markdown",
   "id": "56ed8f49",
   "metadata": {
    "slideshow": null
   },
   "source": [
    "1. The test set used by the grader will be in the same form as `data`. For this miniproject, it will be a list of dictionaries. The models you will build will need to handle data of this type; we'll discuss this more further in the questions.\n",
    "1. You may find it useful to serialize your trained model using either [`dill`](https://pypi.python.org/pypi/dill) or [`joblib`](http://scikit-learn.org/stable/modules/model_persistence.html). That way, you can reload your model after restarting the Jupyter notebook without needing to retrain it.\n",
    "1. There are obvious mistakes in the data; there is no need to try to correct them."
   ]
  },
  {
   "cell_type": "markdown",
   "id": "804213b7",
   "metadata": {
    "slideshow": null
   },
   "source": [
    "# Questions\n"
   ]
  },
  {
   "cell_type": "markdown",
   "id": "9a96582f",
   "metadata": {
    "slideshow": null
   },
   "source": [
    "## Question 1: city_avg"
   ]
  },
  {
   "cell_type": "markdown",
   "id": "5ee951ca",
   "metadata": {
    "slideshow": null
   },
   "source": [
    "The venues belong to different cities.  You can imagine that the ratings in some cities are probably higher than others.  We wish to build an estimator to make a prediction based on this, but first we need to work out the average rating for each city.  For this problem, create a list of tuples (city name, star rating), one for each city in the data set. There are many ways to do this; please feel free to experiment on your own.  If you get stuck, the steps below attempt to guide you through the process.\n",
    "\n",
    "A simple approach is to go through all of the dictionaries in our array, calculating the sum of the star ratings and the number of venues for each city. At the end, we can just divide the stars by the count to get the average. We could create a separate sum and count variable for each city, but that will get tedious quickly. A better approach is to create a dictionary for each. The key will be the city name, and the value the running sum or running count.\n",
    "\n",
    "One slight annoyance of this approach is that we will have to test whether a key exists in the dictionary before adding to the running tally.  The `collections` module's `defaultdict` class works around this by providing default values for keys that haven't been used. Thus, if we do"
   ]
  },
  {
   "cell_type": "code",
   "execution_count": 6,
   "id": "f72ed63e",
   "metadata": {
    "slideshow": null
   },
   "outputs": [],
   "source": [
    "from collections import defaultdict\n",
    "\n",
    "star_sum = defaultdict(float)\n",
    "count = defaultdict(int)"
   ]
  },
  {
   "cell_type": "markdown",
   "id": "bcedfb62",
   "metadata": {
    "slideshow": null
   },
   "source": [
    "we can increment any key of `star_sum` or `count` without first worrying whether the key exists. We need to go through the `data` and `star_ratings` list together, which we can do with the `zip` function."
   ]
  },
  {
   "cell_type": "code",
   "execution_count": 7,
   "id": "1eb4d306",
   "metadata": {
    "slideshow": null
   },
   "outputs": [],
   "source": [
    "for row, stars in zip(data, star_ratings):\n",
    "    # increment the running sum in star_sum\n",
    "    # increment the running count in count\n",
    "    star_sum[row['city']]+=stars\n",
    "    count[row['city']]+=1"
   ]
  },
  {
   "cell_type": "markdown",
   "id": "5c77693a",
   "metadata": {
    "slideshow": null
   },
   "source": [
    "Now we can calculate the average ratings.  Again, a dictionary makes a good container."
   ]
  },
  {
   "cell_type": "code",
   "execution_count": 8,
   "id": "1c5a0591",
   "metadata": {
    "slideshow": null
   },
   "outputs": [
    {
     "name": "stdout",
     "output_type": "stream",
     "text": [
      "167\n"
     ]
    }
   ],
   "source": [
    "avg_stars = dict()\n",
    "for city in star_sum:\n",
    "    # calculate average star rating and store in avg_stars\n",
    "    avg_stars[city]=star_sum[city]/count[city]\n",
    "print(len(avg_stars))"
   ]
  },
  {
   "cell_type": "markdown",
   "id": "ab4c5551",
   "metadata": {
    "slideshow": null
   },
   "source": [
    "There should be 167 different cities:"
   ]
  },
  {
   "cell_type": "code",
   "execution_count": 9,
   "id": "309195eb",
   "metadata": {
    "slideshow": null
   },
   "outputs": [
    {
     "data": {
      "text/plain": [
       "True"
      ]
     },
     "execution_count": 9,
     "metadata": {},
     "output_type": "execute_result"
    }
   ],
   "source": [
    "# Check to see that we have 167 entries in the dictionary.\n",
    "grader.check(len(avg_stars) == 167)"
   ]
  },
  {
   "cell_type": "markdown",
   "id": "84928ee4",
   "metadata": {
    "slideshow": null
   },
   "source": [
    "We can get that list of tuples by converting the returned view object from the `items` method into a list."
   ]
  },
  {
   "cell_type": "code",
   "execution_count": 10,
   "id": "7161cc64",
   "metadata": {
    "slideshow": null
   },
   "outputs": [
    {
     "name": "stdout",
     "output_type": "stream",
     "text": [
      "==================\n",
      "Your score: 1.0000\n",
      "==================\n"
     ]
    }
   ],
   "source": [
    "grader.score('ml__city_avg', list(avg_stars.items()))"
   ]
  },
  {
   "cell_type": "markdown",
   "id": "76bf7fc2",
   "metadata": {
    "slideshow": null
   },
   "source": [
    "## Question 2: city_model"
   ]
  },
  {
   "cell_type": "markdown",
   "id": "c0472572",
   "metadata": {
    "slideshow": null
   },
   "source": [
    "Now, let's build a custom estimator that will make a prediction based solely on the city of a venue.  It is tempting to hard-code the answers from the previous section into this model, but we're going to resist and do things properly.\n",
    "\n",
    "This custom estimator will have a `fit` method.  It will receive `data` as its argument `X` and `star_ratings` as `y`, and should repeat the calculation of the previous problem there.  Then the `predict` method can look up the average rating for the city of each record it receives."
   ]
  },
  {
   "cell_type": "code",
   "execution_count": 12,
   "id": "7fbd1323",
   "metadata": {
    "slideshow": null
   },
   "outputs": [],
   "source": [
    "from sklearn.base import BaseEstimator, RegressorMixin\n",
    "\n",
    "class CityRegressor(BaseEstimator, RegressorMixin):\n",
    "    \n",
    "    def __init__(self):\n",
    "        self.avg_stars = dict()\n",
    "        self.genAverage=[0, 0]\n",
    "        for city in star_sum:\n",
    "            self.genAverage[0]+=star_sum[city]\n",
    "            self.genAverage[1]+=count[city]\n",
    "        self.genAverage=(self.genAverage[0]/self.genAverage[1])\n",
    "    \n",
    "    def fit(self, X, y):\n",
    "        # Store the average rating per city in self.avg_stars\n",
    "        self.avg_stars=avg_stars\n",
    "        return self\n",
    "    \n",
    "    def predict(self, X):\n",
    "        res=[]\n",
    "        for info in X:\n",
    "            if info['city'] not in self.avg_stars:\n",
    "                res.append(self.genAverage)\n",
    "            else:\n",
    "                res.append(self.avg_stars[info['city']])\n",
    "        return res\n",
    "        \n",
    "        "
   ]
  },
  {
   "cell_type": "markdown",
   "id": "b4b2ef21",
   "metadata": {
    "slideshow": null
   },
   "source": [
    "Now we can create an instance of our regressor and train it."
   ]
  },
  {
   "cell_type": "code",
   "execution_count": 13,
   "id": "39e38f7f",
   "metadata": {
    "slideshow": null
   },
   "outputs": [
    {
     "data": {
      "text/html": [
       "<style>#sk-container-id-1 {color: black;background-color: white;}#sk-container-id-1 pre{padding: 0;}#sk-container-id-1 div.sk-toggleable {background-color: white;}#sk-container-id-1 label.sk-toggleable__label {cursor: pointer;display: block;width: 100%;margin-bottom: 0;padding: 0.3em;box-sizing: border-box;text-align: center;}#sk-container-id-1 label.sk-toggleable__label-arrow:before {content: \"▸\";float: left;margin-right: 0.25em;color: #696969;}#sk-container-id-1 label.sk-toggleable__label-arrow:hover:before {color: black;}#sk-container-id-1 div.sk-estimator:hover label.sk-toggleable__label-arrow:before {color: black;}#sk-container-id-1 div.sk-toggleable__content {max-height: 0;max-width: 0;overflow: hidden;text-align: left;background-color: #f0f8ff;}#sk-container-id-1 div.sk-toggleable__content pre {margin: 0.2em;color: black;border-radius: 0.25em;background-color: #f0f8ff;}#sk-container-id-1 input.sk-toggleable__control:checked~div.sk-toggleable__content {max-height: 200px;max-width: 100%;overflow: auto;}#sk-container-id-1 input.sk-toggleable__control:checked~label.sk-toggleable__label-arrow:before {content: \"▾\";}#sk-container-id-1 div.sk-estimator input.sk-toggleable__control:checked~label.sk-toggleable__label {background-color: #d4ebff;}#sk-container-id-1 div.sk-label input.sk-toggleable__control:checked~label.sk-toggleable__label {background-color: #d4ebff;}#sk-container-id-1 input.sk-hidden--visually {border: 0;clip: rect(1px 1px 1px 1px);clip: rect(1px, 1px, 1px, 1px);height: 1px;margin: -1px;overflow: hidden;padding: 0;position: absolute;width: 1px;}#sk-container-id-1 div.sk-estimator {font-family: monospace;background-color: #f0f8ff;border: 1px dotted black;border-radius: 0.25em;box-sizing: border-box;margin-bottom: 0.5em;}#sk-container-id-1 div.sk-estimator:hover {background-color: #d4ebff;}#sk-container-id-1 div.sk-parallel-item::after {content: \"\";width: 100%;border-bottom: 1px solid gray;flex-grow: 1;}#sk-container-id-1 div.sk-label:hover label.sk-toggleable__label {background-color: #d4ebff;}#sk-container-id-1 div.sk-serial::before {content: \"\";position: absolute;border-left: 1px solid gray;box-sizing: border-box;top: 0;bottom: 0;left: 50%;z-index: 0;}#sk-container-id-1 div.sk-serial {display: flex;flex-direction: column;align-items: center;background-color: white;padding-right: 0.2em;padding-left: 0.2em;position: relative;}#sk-container-id-1 div.sk-item {position: relative;z-index: 1;}#sk-container-id-1 div.sk-parallel {display: flex;align-items: stretch;justify-content: center;background-color: white;position: relative;}#sk-container-id-1 div.sk-item::before, #sk-container-id-1 div.sk-parallel-item::before {content: \"\";position: absolute;border-left: 1px solid gray;box-sizing: border-box;top: 0;bottom: 0;left: 50%;z-index: -1;}#sk-container-id-1 div.sk-parallel-item {display: flex;flex-direction: column;z-index: 1;position: relative;background-color: white;}#sk-container-id-1 div.sk-parallel-item:first-child::after {align-self: flex-end;width: 50%;}#sk-container-id-1 div.sk-parallel-item:last-child::after {align-self: flex-start;width: 50%;}#sk-container-id-1 div.sk-parallel-item:only-child::after {width: 0;}#sk-container-id-1 div.sk-dashed-wrapped {border: 1px dashed gray;margin: 0 0.4em 0.5em 0.4em;box-sizing: border-box;padding-bottom: 0.4em;background-color: white;}#sk-container-id-1 div.sk-label label {font-family: monospace;font-weight: bold;display: inline-block;line-height: 1.2em;}#sk-container-id-1 div.sk-label-container {text-align: center;}#sk-container-id-1 div.sk-container {/* jupyter's `normalize.less` sets `[hidden] { display: none; }` but bootstrap.min.css set `[hidden] { display: none !important; }` so we also need the `!important` here to be able to override the default hidden behavior on the sphinx rendered scikit-learn.org. See: https://github.com/scikit-learn/scikit-learn/issues/21755 */display: inline-block !important;position: relative;}#sk-container-id-1 div.sk-text-repr-fallback {display: none;}</style><div id=\"sk-container-id-1\" class=\"sk-top-container\"><div class=\"sk-text-repr-fallback\"><pre>CityRegressor()</pre><b>In a Jupyter environment, please rerun this cell to show the HTML representation or trust the notebook. <br />On GitHub, the HTML representation is unable to render, please try loading this page with nbviewer.org.</b></div><div class=\"sk-container\" hidden><div class=\"sk-item\"><div class=\"sk-estimator sk-toggleable\"><input class=\"sk-toggleable__control sk-hidden--visually\" id=\"sk-estimator-id-1\" type=\"checkbox\" checked><label for=\"sk-estimator-id-1\" class=\"sk-toggleable__label sk-toggleable__label-arrow\">CityRegressor</label><div class=\"sk-toggleable__content\"><pre>CityRegressor()</pre></div></div></div></div></div>"
      ],
      "text/plain": [
       "CityRegressor()"
      ]
     },
     "execution_count": 13,
     "metadata": {},
     "output_type": "execute_result"
    }
   ],
   "source": [
    "city_model = CityRegressor()\n",
    "city_model.fit(data, star_ratings)"
   ]
  },
  {
   "cell_type": "markdown",
   "id": "704029ac",
   "metadata": {
    "slideshow": null
   },
   "source": [
    "And let's see if it works."
   ]
  },
  {
   "cell_type": "code",
   "execution_count": 14,
   "id": "a6a2776e",
   "metadata": {
    "slideshow": null
   },
   "outputs": [
    {
     "data": {
      "text/plain": [
       "[3.6702903946388683, 3.75, 3.75, 3.75, 3.75]"
      ]
     },
     "execution_count": 14,
     "metadata": {},
     "output_type": "execute_result"
    }
   ],
   "source": [
    "city_model.predict(data[:5])"
   ]
  },
  {
   "cell_type": "markdown",
   "id": "6a2b8633",
   "metadata": {
    "slideshow": null
   },
   "source": [
    "There is a problem, however.  What happens if we're asked to estimate the rating of a venue in a city that's not in our training set?"
   ]
  },
  {
   "cell_type": "code",
   "execution_count": 15,
   "id": "147890b2",
   "metadata": {
    "slideshow": null
   },
   "outputs": [
    {
     "data": {
      "text/plain": [
       "[3.6702903946388683, 3.6729137013021247, 3.6457337883959045]"
      ]
     },
     "execution_count": 15,
     "metadata": {},
     "output_type": "execute_result"
    }
   ],
   "source": [
    "city_model.predict([{'city': 'Phoenix'}, {'city': 'Timbuktu'}, {'city': 'Madison'}])"
   ]
  },
  {
   "cell_type": "markdown",
   "id": "bfc1b09b",
   "metadata": {
    "slideshow": null
   },
   "source": [
    "Your model should always return a number, even if the city was not in the training data. Make sure it does before submitting your model's predict method to the grader."
   ]
  },
  {
   "cell_type": "code",
   "execution_count": 16,
   "id": "d3026997",
   "metadata": {
    "slideshow": null
   },
   "outputs": [
    {
     "name": "stdout",
     "output_type": "stream",
     "text": [
      "==================\n",
      "Your score: 1.0000\n",
      "==================\n"
     ]
    }
   ],
   "source": [
    "grader.score('ml__city_model', city_model.predict)"
   ]
  },
  {
   "cell_type": "markdown",
   "id": "e8ad666f",
   "metadata": {
    "slideshow": null
   },
   "source": [
    "## Question 3: lat_long_model"
   ]
  },
  {
   "cell_type": "markdown",
   "id": "e886d047",
   "metadata": {
    "slideshow": null
   },
   "source": [
    "You can imagine that a city-based model might not be sufficiently fine-grained. For example, we know that some neighborhoods are trendier than others.  Use the latitude and longitude of a venue as features that help you understand neighborhood dynamics.\n",
    "\n",
    "Since we need to select the appropriate columns from our dictionaries to build our latitude-longitude model, we will have to use scikit-learn's [`ColumnTransformer`](https://scikit-learn.org/stable/modules/generated/sklearn.compose.ColumnTransformer.html). However, the `ColumnTransformer` works with either NumPy arrays or pandas data frames. While we can convert our training data into a data frame easily, the test set the grader uses is a list of dictionaries. Thus, our first estimator in our workflow should be a transformer that converts a list of dictionaries into a pandas data frame."
   ]
  },
  {
   "cell_type": "code",
   "execution_count": 17,
   "id": "bac4a211",
   "metadata": {
    "slideshow": null
   },
   "outputs": [],
   "source": [
    "import pandas as pd\n",
    "from sklearn.base import TransformerMixin\n",
    "\n",
    "class ToDataFrame(BaseEstimator, TransformerMixin):\n",
    "    def fit(self, X, y=None):\n",
    "        # This transformer doesn't need to learn anything about the data,\n",
    "        # so it can just return self without any further processing\n",
    "        return self\n",
    "    \n",
    "    def transform(self, X):\n",
    "        # Return a pandas data frame from X\n",
    "        return pd.DataFrame.from_dict(X)"
   ]
  },
  {
   "cell_type": "markdown",
   "id": "edbe5dcf",
   "metadata": {
    "slideshow": null
   },
   "source": [
    "Let's test out the transformer."
   ]
  },
  {
   "cell_type": "code",
   "execution_count": 18,
   "id": "0eac9412",
   "metadata": {
    "slideshow": null
   },
   "outputs": [
    {
     "data": {
      "text/plain": [
       "True"
      ]
     },
     "execution_count": 18,
     "metadata": {},
     "output_type": "execute_result"
    }
   ],
   "source": [
    "to_data_frame = ToDataFrame()\n",
    "X_t = to_data_frame.fit_transform(data[:5])\n",
    "\n",
    "# Check that our transformer properly transform the input data into a data frame\n",
    "grader.check((X_t == pd.DataFrame(data[:5])).all(axis=None))"
   ]
  },
  {
   "cell_type": "markdown",
   "id": "60b7367d",
   "metadata": {
    "slideshow": null
   },
   "source": [
    "Now we are ready to use `ColumnTransformer` and test it out."
   ]
  },
  {
   "cell_type": "code",
   "execution_count": 19,
   "id": "263367c4",
   "metadata": {
    "slideshow": null
   },
   "outputs": [
    {
     "data": {
      "text/plain": [
       "True"
      ]
     },
     "execution_count": 19,
     "metadata": {},
     "output_type": "execute_result"
    }
   ],
   "source": [
    "import numpy as np\n",
    "from sklearn.compose import ColumnTransformer\n",
    "\n",
    "selector = ColumnTransformer([('latitude', 'passthrough', ['latitude']), ('longitude', 'passthrough', ['longitude'])])\n",
    "expected = np.array([data[0]['latitude'], data[0]['longitude']])\n",
    "\n",
    "# Check that our selector returns just two columns, the latitude and longitude\n",
    "grader.check((selector.fit_transform(X_t)[0] == expected).all())"
   ]
  },
  {
   "cell_type": "markdown",
   "id": "721d1b9e",
   "metadata": {
    "slideshow": null
   },
   "source": [
    "Now, let's feed the output of the transformer in to a `KNeighborsRegressor`. As a sanity check, we'll test it with the first 5 rows."
   ]
  },
  {
   "cell_type": "code",
   "execution_count": 20,
   "id": "3c57396e",
   "metadata": {
    "slideshow": null
   },
   "outputs": [
    {
     "data": {
      "text/plain": [
       "array([4. , 4.2, 4. , 3.8, 4.2])"
      ]
     },
     "execution_count": 20,
     "metadata": {},
     "output_type": "execute_result"
    }
   ],
   "source": [
    "from sklearn.neighbors import KNeighborsRegressor\n",
    "\n",
    "# Training the model\n",
    "data_transform = to_data_frame.transform(data)\n",
    "data_transform = selector.fit_transform(data_transform)\n",
    "knn = KNeighborsRegressor(n_neighbors=5)\n",
    "knn.fit(data_transform, star_ratings)\n",
    "\n",
    "# Making predictions\n",
    "test_data = data[:5]\n",
    "test_data_transform = to_data_frame.transform(test_data)\n",
    "test_data_transform = selector.transform(test_data_transform)\n",
    "knn.predict(test_data_transform)"
   ]
  },
  {
   "cell_type": "markdown",
   "id": "48da59ed",
   "metadata": {
    "slideshow": null
   },
   "source": [
    "We are not ready to submit to the grader; there are two things we still need to do:\n",
    "1. Wrap all the steps necessary to go from our data (list of dictionaries) to predicted ratings\n",
    "1. Determine the optimal value for our predictor's hyperparameter\n",
    "\n",
    "For the first point, we will use a pipeline, ensuring that our model applies all the required transformations given the form of the input data. Remember that a pipeline is made with a list of `(step_name, estimator)` tuples."
   ]
  },
  {
   "cell_type": "code",
   "execution_count": 21,
   "id": "bc4b3edd",
   "metadata": {
    "slideshow": null
   },
   "outputs": [],
   "source": [
    "from sklearn.pipeline import Pipeline\n",
    "\n",
    "pipe = Pipeline([('to_df', ToDataFrame()), ('filter', selector), ('kNN', KNeighborsRegressor(n_neighbors=5))])"
   ]
  },
  {
   "cell_type": "markdown",
   "id": "0f255ec7",
   "metadata": {
    "slideshow": null
   },
   "source": [
    "Now let's fit and predict."
   ]
  },
  {
   "cell_type": "code",
   "execution_count": 22,
   "id": "cb6d4a3a",
   "metadata": {
    "slideshow": null
   },
   "outputs": [
    {
     "data": {
      "text/plain": [
       "array([4. , 4.2, 4. , 3.8, 4.2])"
      ]
     },
     "execution_count": 22,
     "metadata": {},
     "output_type": "execute_result"
    }
   ],
   "source": [
    "pipe.fit(data, star_ratings)\n",
    "pipe.predict(data[:5])"
   ]
  },
  {
   "cell_type": "markdown",
   "id": "97cf4c5b",
   "metadata": {
    "slideshow": null
   },
   "source": [
    "Let's now focus on the second point. The `KNeighborsRegressor` takes the `n_neighbors` hyperparameter, which tells it how many nearest neighbors to average together when making a prediction. There is no reason to believe that 5 is the optimum value. We will need to determine a better value for this hyperparameter. A common approach is to use a hyperparameter searching tool such as [`GridSearchCV`](http://scikit-learn.org/stable/modules/generated/sklearn.model_selection.GridSearchCV.html#sklearn.model_selection.GridSearchCV). You may need to refer back to the notebooks about the ways to interface searching tools and pipelines."
   ]
  },
  {
   "cell_type": "markdown",
   "id": "459c801b",
   "metadata": {
    "slideshow": null
   },
   "source": [
    "You should consider whether the data needs to be shuffled as it might not have been randomized. For example, the data could be ordered by a certain feature or by the labels. If you perform a train/test split with [`train_test_split`](http://scikit-learn.org/stable/modules/generated/sklearn.model_selection.train_test_split.html#sklearn.model_selection.train_test_split), the data is shuffled by default. However, when using `GridSearchCV`, the folds are not shuffled when you use the default K-folds cross-validation.\n",
    "\n",
    "The code below will plot a rolling mean of the star ratings. Do you need to shuffle the data?"
   ]
  },
  {
   "cell_type": "code",
   "execution_count": 23,
   "id": "28302475",
   "metadata": {
    "slideshow": null
   },
   "outputs": [
    {
     "data": {
      "image/png": "[encoded data removed]",
      "text/plain": [
       "<Figure size 640x480 with 1 Axes>"
      ]
     },
     "metadata": {},
     "output_type": "display_data"
    }
   ],
   "source": [
    "from pandas import Series\n",
    "import matplotlib.pyplot as plt\n",
    "\n",
    "plt.plot(Series.rolling(Series(star_ratings), window=1000).mean());"
   ]
  },
  {
   "cell_type": "markdown",
   "id": "d36bbf86",
   "metadata": {
    "slideshow": null
   },
   "source": [
    "Once you've found a good value of `n_neighbors`, submit the model to the grader. Note, \"good\" is a relative measure here. The reference solution has an $R^2$ score of only 0.02. There is just rather little signal available for modeling."
   ]
  },
  {
   "cell_type": "code",
   "execution_count": 24,
   "id": "7a21f0b4",
   "metadata": {
    "slideshow": null
   },
   "outputs": [
    {
     "data": {
      "text/html": [
       "<style>#sk-container-id-2 {color: black;background-color: white;}#sk-container-id-2 pre{padding: 0;}#sk-container-id-2 div.sk-toggleable {background-color: white;}#sk-container-id-2 label.sk-toggleable__label {cursor: pointer;display: block;width: 100%;margin-bottom: 0;padding: 0.3em;box-sizing: border-box;text-align: center;}#sk-container-id-2 label.sk-toggleable__label-arrow:before {content: \"▸\";float: left;margin-right: 0.25em;color: #696969;}#sk-container-id-2 label.sk-toggleable__label-arrow:hover:before {color: black;}#sk-container-id-2 div.sk-estimator:hover label.sk-toggleable__label-arrow:before {color: black;}#sk-container-id-2 div.sk-toggleable__content {max-height: 0;max-width: 0;overflow: hidden;text-align: left;background-color: #f0f8ff;}#sk-container-id-2 div.sk-toggleable__content pre {margin: 0.2em;color: black;border-radius: 0.25em;background-color: #f0f8ff;}#sk-container-id-2 input.sk-toggleable__control:checked~div.sk-toggleable__content {max-height: 200px;max-width: 100%;overflow: auto;}#sk-container-id-2 input.sk-toggleable__control:checked~label.sk-toggleable__label-arrow:before {content: \"▾\";}#sk-container-id-2 div.sk-estimator input.sk-toggleable__control:checked~label.sk-toggleable__label {background-color: #d4ebff;}#sk-container-id-2 div.sk-label input.sk-toggleable__control:checked~label.sk-toggleable__label {background-color: #d4ebff;}#sk-container-id-2 input.sk-hidden--visually {border: 0;clip: rect(1px 1px 1px 1px);clip: rect(1px, 1px, 1px, 1px);height: 1px;margin: -1px;overflow: hidden;padding: 0;position: absolute;width: 1px;}#sk-container-id-2 div.sk-estimator {font-family: monospace;background-color: #f0f8ff;border: 1px dotted black;border-radius: 0.25em;box-sizing: border-box;margin-bottom: 0.5em;}#sk-container-id-2 div.sk-estimator:hover {background-color: #d4ebff;}#sk-container-id-2 div.sk-parallel-item::after {content: \"\";width: 100%;border-bottom: 1px solid gray;flex-grow: 1;}#sk-container-id-2 div.sk-label:hover label.sk-toggleable__label {background-color: #d4ebff;}#sk-container-id-2 div.sk-serial::before {content: \"\";position: absolute;border-left: 1px solid gray;box-sizing: border-box;top: 0;bottom: 0;left: 50%;z-index: 0;}#sk-container-id-2 div.sk-serial {display: flex;flex-direction: column;align-items: center;background-color: white;padding-right: 0.2em;padding-left: 0.2em;position: relative;}#sk-container-id-2 div.sk-item {position: relative;z-index: 1;}#sk-container-id-2 div.sk-parallel {display: flex;align-items: stretch;justify-content: center;background-color: white;position: relative;}#sk-container-id-2 div.sk-item::before, #sk-container-id-2 div.sk-parallel-item::before {content: \"\";position: absolute;border-left: 1px solid gray;box-sizing: border-box;top: 0;bottom: 0;left: 50%;z-index: -1;}#sk-container-id-2 div.sk-parallel-item {display: flex;flex-direction: column;z-index: 1;position: relative;background-color: white;}#sk-container-id-2 div.sk-parallel-item:first-child::after {align-self: flex-end;width: 50%;}#sk-container-id-2 div.sk-parallel-item:last-child::after {align-self: flex-start;width: 50%;}#sk-container-id-2 div.sk-parallel-item:only-child::after {width: 0;}#sk-container-id-2 div.sk-dashed-wrapped {border: 1px dashed gray;margin: 0 0.4em 0.5em 0.4em;box-sizing: border-box;padding-bottom: 0.4em;background-color: white;}#sk-container-id-2 div.sk-label label {font-family: monospace;font-weight: bold;display: inline-block;line-height: 1.2em;}#sk-container-id-2 div.sk-label-container {text-align: center;}#sk-container-id-2 div.sk-container {/* jupyter's `normalize.less` sets `[hidden] { display: none; }` but bootstrap.min.css set `[hidden] { display: none !important; }` so we also need the `!important` here to be able to override the default hidden behavior on the sphinx rendered scikit-learn.org. See: https://github.com/scikit-learn/scikit-learn/issues/21755 */display: inline-block !important;position: relative;}#sk-container-id-2 div.sk-text-repr-fallback {display: none;}</style><div id=\"sk-container-id-2\" class=\"sk-top-container\"><div class=\"sk-text-repr-fallback\"><pre>Pipeline(steps=[(&#x27;to_df&#x27;, ToDataFrame()),\n",
       "                (&#x27;filter&#x27;,\n",
       "                 ColumnTransformer(transformers=[(&#x27;latitude&#x27;, &#x27;passthrough&#x27;,\n",
       "                                                  [&#x27;latitude&#x27;]),\n",
       "                                                 (&#x27;longitude&#x27;, &#x27;passthrough&#x27;,\n",
       "                                                  [&#x27;longitude&#x27;])])),\n",
       "                (&#x27;grid-search&#x27;,\n",
       "                 GridSearchCV(cv=10, estimator=KNeighborsRegressor(),\n",
       "                              param_grid={&#x27;n_neighbors&#x27;: [5, 10, 50, 100, 150,\n",
       "                                                          200, 500, 1000]}))])</pre><b>In a Jupyter environment, please rerun this cell to show the HTML representation or trust the notebook. <br />On GitHub, the HTML representation is unable to render, please try loading this page with nbviewer.org.</b></div><div class=\"sk-container\" hidden><div class=\"sk-item sk-dashed-wrapped\"><div class=\"sk-label-container\"><div class=\"sk-label sk-toggleable\"><input class=\"sk-toggleable__control sk-hidden--visually\" id=\"sk-estimator-id-2\" type=\"checkbox\" ><label for=\"sk-estimator-id-2\" class=\"sk-toggleable__label sk-toggleable__label-arrow\">Pipeline</label><div class=\"sk-toggleable__content\"><pre>Pipeline(steps=[(&#x27;to_df&#x27;, ToDataFrame()),\n",
       "                (&#x27;filter&#x27;,\n",
       "                 ColumnTransformer(transformers=[(&#x27;latitude&#x27;, &#x27;passthrough&#x27;,\n",
       "                                                  [&#x27;latitude&#x27;]),\n",
       "                                                 (&#x27;longitude&#x27;, &#x27;passthrough&#x27;,\n",
       "                                                  [&#x27;longitude&#x27;])])),\n",
       "                (&#x27;grid-search&#x27;,\n",
       "                 GridSearchCV(cv=10, estimator=KNeighborsRegressor(),\n",
       "                              param_grid={&#x27;n_neighbors&#x27;: [5, 10, 50, 100, 150,\n",
       "                                                          200, 500, 1000]}))])</pre></div></div></div><div class=\"sk-serial\"><div class=\"sk-item\"><div class=\"sk-estimator sk-toggleable\"><input class=\"sk-toggleable__control sk-hidden--visually\" id=\"sk-estimator-id-3\" type=\"checkbox\" ><label for=\"sk-estimator-id-3\" class=\"sk-toggleable__label sk-toggleable__label-arrow\">ToDataFrame</label><div class=\"sk-toggleable__content\"><pre>ToDataFrame()</pre></div></div></div><div class=\"sk-item sk-dashed-wrapped\"><div class=\"sk-label-container\"><div class=\"sk-label sk-toggleable\"><input class=\"sk-toggleable__control sk-hidden--visually\" id=\"sk-estimator-id-4\" type=\"checkbox\" ><label for=\"sk-estimator-id-4\" class=\"sk-toggleable__label sk-toggleable__label-arrow\">filter: ColumnTransformer</label><div class=\"sk-toggleable__content\"><pre>ColumnTransformer(transformers=[(&#x27;latitude&#x27;, &#x27;passthrough&#x27;, [&#x27;latitude&#x27;]),\n",
       "                                (&#x27;longitude&#x27;, &#x27;passthrough&#x27;, [&#x27;longitude&#x27;])])</pre></div></div></div><div class=\"sk-parallel\"><div class=\"sk-parallel-item\"><div class=\"sk-item\"><div class=\"sk-label-container\"><div class=\"sk-label sk-toggleable\"><input class=\"sk-toggleable__control sk-hidden--visually\" id=\"sk-estimator-id-5\" type=\"checkbox\" ><label for=\"sk-estimator-id-5\" class=\"sk-toggleable__label sk-toggleable__label-arrow\">latitude</label><div class=\"sk-toggleable__content\"><pre>[&#x27;latitude&#x27;]</pre></div></div></div><div class=\"sk-serial\"><div class=\"sk-item\"><div class=\"sk-estimator sk-toggleable\"><input class=\"sk-toggleable__control sk-hidden--visually\" id=\"sk-estimator-id-6\" type=\"checkbox\" ><label for=\"sk-estimator-id-6\" class=\"sk-toggleable__label sk-toggleable__label-arrow\">passthrough</label><div class=\"sk-toggleable__content\"><pre>passthrough</pre></div></div></div></div></div></div><div class=\"sk-parallel-item\"><div class=\"sk-item\"><div class=\"sk-label-container\"><div class=\"sk-label sk-toggleable\"><input class=\"sk-toggleable__control sk-hidden--visually\" id=\"sk-estimator-id-7\" type=\"checkbox\" ><label for=\"sk-estimator-id-7\" class=\"sk-toggleable__label sk-toggleable__label-arrow\">longitude</label><div class=\"sk-toggleable__content\"><pre>[&#x27;longitude&#x27;]</pre></div></div></div><div class=\"sk-serial\"><div class=\"sk-item\"><div class=\"sk-estimator sk-toggleable\"><input class=\"sk-toggleable__control sk-hidden--visually\" id=\"sk-estimator-id-8\" type=\"checkbox\" ><label for=\"sk-estimator-id-8\" class=\"sk-toggleable__label sk-toggleable__label-arrow\">passthrough</label><div class=\"sk-toggleable__content\"><pre>passthrough</pre></div></div></div></div></div></div></div></div><div class=\"sk-item sk-dashed-wrapped\"><div class=\"sk-label-container\"><div class=\"sk-label sk-toggleable\"><input class=\"sk-toggleable__control sk-hidden--visually\" id=\"sk-estimator-id-9\" type=\"checkbox\" ><label for=\"sk-estimator-id-9\" class=\"sk-toggleable__label sk-toggleable__label-arrow\">grid-search: GridSearchCV</label><div class=\"sk-toggleable__content\"><pre>GridSearchCV(cv=10, estimator=KNeighborsRegressor(),\n",
       "             param_grid={&#x27;n_neighbors&#x27;: [5, 10, 50, 100, 150, 200, 500, 1000]})</pre></div></div></div><div class=\"sk-parallel\"><div class=\"sk-parallel-item\"><div class=\"sk-item\"><div class=\"sk-label-container\"><div class=\"sk-label sk-toggleable\"><input class=\"sk-toggleable__control sk-hidden--visually\" id=\"sk-estimator-id-10\" type=\"checkbox\" ><label for=\"sk-estimator-id-10\" class=\"sk-toggleable__label sk-toggleable__label-arrow\">estimator: KNeighborsRegressor</label><div class=\"sk-toggleable__content\"><pre>KNeighborsRegressor()</pre></div></div></div><div class=\"sk-serial\"><div class=\"sk-item\"><div class=\"sk-estimator sk-toggleable\"><input class=\"sk-toggleable__control sk-hidden--visually\" id=\"sk-estimator-id-11\" type=\"checkbox\" ><label for=\"sk-estimator-id-11\" class=\"sk-toggleable__label sk-toggleable__label-arrow\">KNeighborsRegressor</label><div class=\"sk-toggleable__content\"><pre>KNeighborsRegressor()</pre></div></div></div></div></div></div></div></div></div></div></div></div>"
      ],
      "text/plain": [
       "Pipeline(steps=[('to_df', ToDataFrame()),\n",
       "                ('filter',\n",
       "                 ColumnTransformer(transformers=[('latitude', 'passthrough',\n",
       "                                                  ['latitude']),\n",
       "                                                 ('longitude', 'passthrough',\n",
       "                                                  ['longitude'])])),\n",
       "                ('grid-search',\n",
       "                 GridSearchCV(cv=10, estimator=KNeighborsRegressor(),\n",
       "                              param_grid={'n_neighbors': [5, 10, 50, 100, 150,\n",
       "                                                          200, 500, 1000]}))])"
      ]
     },
     "execution_count": 24,
     "metadata": {},
     "output_type": "execute_result"
    }
   ],
   "source": [
    "from sklearn.model_selection import GridSearchCV\n",
    "parameters = {'n_neighbors':[5, 10, 50, 100, 150, 200, 500, 1000]}\n",
    "lat_long_model = Pipeline([('to_df', ToDataFrame()), ('filter', selector), ('grid-search', GridSearchCV(KNeighborsRegressor(), parameters, cv=10))])\n",
    "lat_long_model.fit(data, star_ratings)\n"
   ]
  },
  {
   "cell_type": "code",
   "execution_count": 25,
   "id": "4ad1f6ce",
   "metadata": {
    "slideshow": null
   },
   "outputs": [
    {
     "name": "stdout",
     "output_type": "stream",
     "text": [
      "==================\n",
      "Your score: 0.9940\n",
      "==================\n"
     ]
    }
   ],
   "source": [
    "grader.score('ml__lat_long_model', lat_long_model.predict)  # Edit to appropriate name"
   ]
  },
  {
   "cell_type": "markdown",
   "id": "a4d1ce3a",
   "metadata": {
    "slideshow": null
   },
   "source": [
    "## Question 4: category_model"
   ]
  },
  {
   "cell_type": "markdown",
   "id": "a0d0534c",
   "metadata": {
    "slideshow": null
   },
   "source": [
    "While location is important, we could also try seeing how predictive the\n",
    "venue's category is. Build an estimator that considers only the `'categories'` field of the data.\n",
    "\n",
    "The categories come as a list of strings, but the scikit-learn's predictors all need numeric input. We ultimately want to create a column in our feature matrix to represent every category. For a given row, only the columns that represent the categories it contains will be filled with a one, otherwise, it will be filled with a zero. The described method is similar to **one-hot encoding**, however, an observation/row can contain more than one \"hot\", non-zero, column.\n",
    "\n",
    "To achieve our encoding plan, we need to use scikit-learn's provides [`DictVectorizer`](http://scikit-learn.org/stable/modules/generated/sklearn.feature_extraction.DictVectorizer.html#sklearn.feature_extraction.DictVectorizer). This transformer takes a 1-D array of dictionaries and creates a column in the output matrix for each key in the dictionary and fills it with the value associated with it. Missing keys are filled with zeros. However, we need to build a transformer that takes an array of strings and returns an array of dictionaries with keys given by those strings and values of one. For example, it should transform `X_in` into `X_out`."
   ]
  },
  {
   "cell_type": "code",
   "execution_count": 26,
   "id": "e4abd227",
   "metadata": {
    "slideshow": null
   },
   "outputs": [
    {
     "name": "stdout",
     "output_type": "stream",
     "text": [
      "0       [a]\n",
      "1    [b, c]\n",
      "dtype: object\n",
      "0            {'a': 1}\n",
      "1    {'b': 1, 'c': 1}\n",
      "dtype: object\n"
     ]
    }
   ],
   "source": [
    "X_in = pd.Series([['a'], ['b', 'c']])\n",
    "X_out = pd.Series([{'a': 1}, {'b': 1, 'c': 1}])\n",
    "\n",
    "print(X_in)\n",
    "print(X_out)"
   ]
  },
  {
   "cell_type": "code",
   "execution_count": 27,
   "id": "8f1bd70c",
   "metadata": {
    "slideshow": null
   },
   "outputs": [],
   "source": [
    "class DictEncoder(BaseEstimator, TransformerMixin):\n",
    "    \n",
    "    def fit(self, X, y=None):\n",
    "        return self\n",
    "    \n",
    "    def transform(self, X):\n",
    "        # X will be a pandas series. Return a pandas series of dictionaries\n",
    "        X_out=[]\n",
    "        for indx, items in X.items():\n",
    "            dict1={}\n",
    "            for char in items:\n",
    "                dict1[char]=1\n",
    "            X_out.append(dict1)\n",
    "        return pd.Series(X_out)\n",
    "        \n",
    "        "
   ]
  },
  {
   "cell_type": "markdown",
   "id": "968648da",
   "metadata": {
    "slideshow": null
   },
   "source": [
    "Now let's test out that our `DictEncoder` works out as expected."
   ]
  },
  {
   "cell_type": "code",
   "execution_count": 28,
   "id": "3e9fd732",
   "metadata": {
    "slideshow": null
   },
   "outputs": [
    {
     "data": {
      "text/plain": [
       "True"
      ]
     },
     "execution_count": 28,
     "metadata": {},
     "output_type": "execute_result"
    }
   ],
   "source": [
    "# Check that DictEncoder transforms a series of list of strings into the expected series of dictionaries\n",
    "grader.check((DictEncoder().fit_transform(X_in) == X_out).all())"
   ]
  },
  {
   "cell_type": "markdown",
   "id": "f4ef1d72",
   "metadata": {
    "slideshow": null
   },
   "source": [
    "Now, create a pipeline object of the two step transformation for the categories data. Afterwards, create a `ColumnTransformer` object that will use the aforementioned pipeline object to transform the `'categories'` field."
   ]
  },
  {
   "cell_type": "code",
   "execution_count": 29,
   "id": "3ba161b9",
   "metadata": {
    "slideshow": null
   },
   "outputs": [],
   "source": [
    "# d_encoder = Pipeline([('dict_encorder', DictEncoder())])\n",
    "# cate_selector = ColumnTransformer([('categories', d_encoder, [0, 1])], remainder=\"drop\")\n",
    "# x=cate_selector.fit(data)\n"
   ]
  },
  {
   "cell_type": "markdown",
   "id": "028580f9",
   "metadata": {
    "slideshow": null
   },
   "source": [
    "Finally, create a pipeline object that will\n",
    "1. Convert our list of dictionaries into a data frame\n",
    "1. Select the `'categories'` column and encode the data\n",
    "1. Train a regularized linear model such as `Ridge`\n",
    "\n",
    "There will be a large number of features, one for each category, so there is a significant danger of overfitting. Use cross validation to choose the best regularization parameter."
   ]
  },
  {
   "cell_type": "code",
   "execution_count": 30,
   "id": "f3bc7297",
   "metadata": {
    "slideshow": null
   },
   "outputs": [
    {
     "data": {
      "text/html": [
       "<style>#sk-container-id-3 {color: black;background-color: white;}#sk-container-id-3 pre{padding: 0;}#sk-container-id-3 div.sk-toggleable {background-color: white;}#sk-container-id-3 label.sk-toggleable__label {cursor: pointer;display: block;width: 100%;margin-bottom: 0;padding: 0.3em;box-sizing: border-box;text-align: center;}#sk-container-id-3 label.sk-toggleable__label-arrow:before {content: \"▸\";float: left;margin-right: 0.25em;color: #696969;}#sk-container-id-3 label.sk-toggleable__label-arrow:hover:before {color: black;}#sk-container-id-3 div.sk-estimator:hover label.sk-toggleable__label-arrow:before {color: black;}#sk-container-id-3 div.sk-toggleable__content {max-height: 0;max-width: 0;overflow: hidden;text-align: left;background-color: #f0f8ff;}#sk-container-id-3 div.sk-toggleable__content pre {margin: 0.2em;color: black;border-radius: 0.25em;background-color: #f0f8ff;}#sk-container-id-3 input.sk-toggleable__control:checked~div.sk-toggleable__content {max-height: 200px;max-width: 100%;overflow: auto;}#sk-container-id-3 input.sk-toggleable__control:checked~label.sk-toggleable__label-arrow:before {content: \"▾\";}#sk-container-id-3 div.sk-estimator input.sk-toggleable__control:checked~label.sk-toggleable__label {background-color: #d4ebff;}#sk-container-id-3 div.sk-label input.sk-toggleable__control:checked~label.sk-toggleable__label {background-color: #d4ebff;}#sk-container-id-3 input.sk-hidden--visually {border: 0;clip: rect(1px 1px 1px 1px);clip: rect(1px, 1px, 1px, 1px);height: 1px;margin: -1px;overflow: hidden;padding: 0;position: absolute;width: 1px;}#sk-container-id-3 div.sk-estimator {font-family: monospace;background-color: #f0f8ff;border: 1px dotted black;border-radius: 0.25em;box-sizing: border-box;margin-bottom: 0.5em;}#sk-container-id-3 div.sk-estimator:hover {background-color: #d4ebff;}#sk-container-id-3 div.sk-parallel-item::after {content: \"\";width: 100%;border-bottom: 1px solid gray;flex-grow: 1;}#sk-container-id-3 div.sk-label:hover label.sk-toggleable__label {background-color: #d4ebff;}#sk-container-id-3 div.sk-serial::before {content: \"\";position: absolute;border-left: 1px solid gray;box-sizing: border-box;top: 0;bottom: 0;left: 50%;z-index: 0;}#sk-container-id-3 div.sk-serial {display: flex;flex-direction: column;align-items: center;background-color: white;padding-right: 0.2em;padding-left: 0.2em;position: relative;}#sk-container-id-3 div.sk-item {position: relative;z-index: 1;}#sk-container-id-3 div.sk-parallel {display: flex;align-items: stretch;justify-content: center;background-color: white;position: relative;}#sk-container-id-3 div.sk-item::before, #sk-container-id-3 div.sk-parallel-item::before {content: \"\";position: absolute;border-left: 1px solid gray;box-sizing: border-box;top: 0;bottom: 0;left: 50%;z-index: -1;}#sk-container-id-3 div.sk-parallel-item {display: flex;flex-direction: column;z-index: 1;position: relative;background-color: white;}#sk-container-id-3 div.sk-parallel-item:first-child::after {align-self: flex-end;width: 50%;}#sk-container-id-3 div.sk-parallel-item:last-child::after {align-self: flex-start;width: 50%;}#sk-container-id-3 div.sk-parallel-item:only-child::after {width: 0;}#sk-container-id-3 div.sk-dashed-wrapped {border: 1px dashed gray;margin: 0 0.4em 0.5em 0.4em;box-sizing: border-box;padding-bottom: 0.4em;background-color: white;}#sk-container-id-3 div.sk-label label {font-family: monospace;font-weight: bold;display: inline-block;line-height: 1.2em;}#sk-container-id-3 div.sk-label-container {text-align: center;}#sk-container-id-3 div.sk-container {/* jupyter's `normalize.less` sets `[hidden] { display: none; }` but bootstrap.min.css set `[hidden] { display: none !important; }` so we also need the `!important` here to be able to override the default hidden behavior on the sphinx rendered scikit-learn.org. See: https://github.com/scikit-learn/scikit-learn/issues/21755 */display: inline-block !important;position: relative;}#sk-container-id-3 div.sk-text-repr-fallback {display: none;}</style><div id=\"sk-container-id-3\" class=\"sk-top-container\"><div class=\"sk-text-repr-fallback\"><pre>Pipeline(steps=[(&#x27;to_df&#x27;, ToDataFrame()),\n",
       "                (&#x27;select&#x27;,\n",
       "                 ColumnTransformer(transformers=[(&#x27;categories&#x27;,\n",
       "                                                  Pipeline(steps=[(&#x27;encoder&#x27;,\n",
       "                                                                   DictEncoder()),\n",
       "                                                                  (&#x27;vectorizer&#x27;,\n",
       "                                                                   DictVectorizer())]),\n",
       "                                                  &#x27;categories&#x27;)])),\n",
       "                (&#x27;grid-search_Ridge&#x27;,\n",
       "                 GridSearchCV(cv=10, estimator=Ridge(),\n",
       "                              param_grid={&#x27;alpha&#x27;: [0.001, 0.01, 0.1, 1, 5,\n",
       "                                                    10]}))])</pre><b>In a Jupyter environment, please rerun this cell to show the HTML representation or trust the notebook. <br />On GitHub, the HTML representation is unable to render, please try loading this page with nbviewer.org.</b></div><div class=\"sk-container\" hidden><div class=\"sk-item sk-dashed-wrapped\"><div class=\"sk-label-container\"><div class=\"sk-label sk-toggleable\"><input class=\"sk-toggleable__control sk-hidden--visually\" id=\"sk-estimator-id-12\" type=\"checkbox\" ><label for=\"sk-estimator-id-12\" class=\"sk-toggleable__label sk-toggleable__label-arrow\">Pipeline</label><div class=\"sk-toggleable__content\"><pre>Pipeline(steps=[(&#x27;to_df&#x27;, ToDataFrame()),\n",
       "                (&#x27;select&#x27;,\n",
       "                 ColumnTransformer(transformers=[(&#x27;categories&#x27;,\n",
       "                                                  Pipeline(steps=[(&#x27;encoder&#x27;,\n",
       "                                                                   DictEncoder()),\n",
       "                                                                  (&#x27;vectorizer&#x27;,\n",
       "                                                                   DictVectorizer())]),\n",
       "                                                  &#x27;categories&#x27;)])),\n",
       "                (&#x27;grid-search_Ridge&#x27;,\n",
       "                 GridSearchCV(cv=10, estimator=Ridge(),\n",
       "                              param_grid={&#x27;alpha&#x27;: [0.001, 0.01, 0.1, 1, 5,\n",
       "                                                    10]}))])</pre></div></div></div><div class=\"sk-serial\"><div class=\"sk-item\"><div class=\"sk-estimator sk-toggleable\"><input class=\"sk-toggleable__control sk-hidden--visually\" id=\"sk-estimator-id-13\" type=\"checkbox\" ><label for=\"sk-estimator-id-13\" class=\"sk-toggleable__label sk-toggleable__label-arrow\">ToDataFrame</label><div class=\"sk-toggleable__content\"><pre>ToDataFrame()</pre></div></div></div><div class=\"sk-item sk-dashed-wrapped\"><div class=\"sk-label-container\"><div class=\"sk-label sk-toggleable\"><input class=\"sk-toggleable__control sk-hidden--visually\" id=\"sk-estimator-id-14\" type=\"checkbox\" ><label for=\"sk-estimator-id-14\" class=\"sk-toggleable__label sk-toggleable__label-arrow\">select: ColumnTransformer</label><div class=\"sk-toggleable__content\"><pre>ColumnTransformer(transformers=[(&#x27;categories&#x27;,\n",
       "                                 Pipeline(steps=[(&#x27;encoder&#x27;, DictEncoder()),\n",
       "                                                 (&#x27;vectorizer&#x27;,\n",
       "                                                  DictVectorizer())]),\n",
       "                                 &#x27;categories&#x27;)])</pre></div></div></div><div class=\"sk-parallel\"><div class=\"sk-parallel-item\"><div class=\"sk-item\"><div class=\"sk-label-container\"><div class=\"sk-label sk-toggleable\"><input class=\"sk-toggleable__control sk-hidden--visually\" id=\"sk-estimator-id-15\" type=\"checkbox\" ><label for=\"sk-estimator-id-15\" class=\"sk-toggleable__label sk-toggleable__label-arrow\">categories</label><div class=\"sk-toggleable__content\"><pre>categories</pre></div></div></div><div class=\"sk-serial\"><div class=\"sk-item\"><div class=\"sk-serial\"><div class=\"sk-item\"><div class=\"sk-estimator sk-toggleable\"><input class=\"sk-toggleable__control sk-hidden--visually\" id=\"sk-estimator-id-16\" type=\"checkbox\" ><label for=\"sk-estimator-id-16\" class=\"sk-toggleable__label sk-toggleable__label-arrow\">DictEncoder</label><div class=\"sk-toggleable__content\"><pre>DictEncoder()</pre></div></div></div><div class=\"sk-item\"><div class=\"sk-estimator sk-toggleable\"><input class=\"sk-toggleable__control sk-hidden--visually\" id=\"sk-estimator-id-17\" type=\"checkbox\" ><label for=\"sk-estimator-id-17\" class=\"sk-toggleable__label sk-toggleable__label-arrow\">DictVectorizer</label><div class=\"sk-toggleable__content\"><pre>DictVectorizer()</pre></div></div></div></div></div></div></div></div></div></div><div class=\"sk-item sk-dashed-wrapped\"><div class=\"sk-label-container\"><div class=\"sk-label sk-toggleable\"><input class=\"sk-toggleable__control sk-hidden--visually\" id=\"sk-estimator-id-18\" type=\"checkbox\" ><label for=\"sk-estimator-id-18\" class=\"sk-toggleable__label sk-toggleable__label-arrow\">grid-search_Ridge: GridSearchCV</label><div class=\"sk-toggleable__content\"><pre>GridSearchCV(cv=10, estimator=Ridge(),\n",
       "             param_grid={&#x27;alpha&#x27;: [0.001, 0.01, 0.1, 1, 5, 10]})</pre></div></div></div><div class=\"sk-parallel\"><div class=\"sk-parallel-item\"><div class=\"sk-item\"><div class=\"sk-label-container\"><div class=\"sk-label sk-toggleable\"><input class=\"sk-toggleable__control sk-hidden--visually\" id=\"sk-estimator-id-19\" type=\"checkbox\" ><label for=\"sk-estimator-id-19\" class=\"sk-toggleable__label sk-toggleable__label-arrow\">estimator: Ridge</label><div class=\"sk-toggleable__content\"><pre>Ridge()</pre></div></div></div><div class=\"sk-serial\"><div class=\"sk-item\"><div class=\"sk-estimator sk-toggleable\"><input class=\"sk-toggleable__control sk-hidden--visually\" id=\"sk-estimator-id-20\" type=\"checkbox\" ><label for=\"sk-estimator-id-20\" class=\"sk-toggleable__label sk-toggleable__label-arrow\">Ridge</label><div class=\"sk-toggleable__content\"><pre>Ridge()</pre></div></div></div></div></div></div></div></div></div></div></div></div>"
      ],
      "text/plain": [
       "Pipeline(steps=[('to_df', ToDataFrame()),\n",
       "                ('select',\n",
       "                 ColumnTransformer(transformers=[('categories',\n",
       "                                                  Pipeline(steps=[('encoder',\n",
       "                                                                   DictEncoder()),\n",
       "                                                                  ('vectorizer',\n",
       "                                                                   DictVectorizer())]),\n",
       "                                                  'categories')])),\n",
       "                ('grid-search_Ridge',\n",
       "                 GridSearchCV(cv=10, estimator=Ridge(),\n",
       "                              param_grid={'alpha': [0.001, 0.01, 0.1, 1, 5,\n",
       "                                                    10]}))])"
      ]
     },
     "execution_count": 30,
     "metadata": {},
     "output_type": "execute_result"
    }
   ],
   "source": [
    "from sklearn.linear_model import Ridge\n",
    "from sklearn.feature_extraction import DictVectorizer\n",
    "from sklearn.feature_extraction.text import TfidfVectorizer\n",
    "\n",
    "# data_transform=ToDataFrame().fit_transform(data)\n",
    "# data_transform=ColumnTransformer([('encode', Pipeline([('encoder', DictEncoder()), ('vectorizer', DictVectorizer())]), 'categories')]).fit_transform(data_transform)\n",
    "\n",
    "                                 \n",
    "\n",
    "\n",
    "category_model=Pipeline([('to_df', ToDataFrame()), \n",
    "                         ('select', \n",
    "                          ColumnTransformer([('categories', \n",
    "                                              Pipeline([('encoder', DictEncoder()), \n",
    "                                                        ('vectorizer', DictVectorizer())]), 'categories')])),\n",
    "                         ('grid-search_Ridge', GridSearchCV(Ridge(), {'alpha':[0.001, 0.01, 0.1, 1, 5, 10]}, cv=10))])\n",
    "category_model.fit(data, star_ratings)\n"
   ]
  },
  {
   "cell_type": "code",
   "execution_count": 31,
   "id": "111f5ba2",
   "metadata": {
    "slideshow": null
   },
   "outputs": [
    {
     "name": "stdout",
     "output_type": "stream",
     "text": [
      "==================\n",
      "Your score: 0.9932\n",
      "==================\n"
     ]
    }
   ],
   "source": [
    "grader.score('ml__category_model', category_model.predict)  # Edit to appropriate name"
   ]
  },
  {
   "cell_type": "markdown",
   "id": "941cbcdd",
   "metadata": {
    "slideshow": null
   },
   "source": [
    "**Extension:** Some categories (e.g., Restaurants) are not very specific. Others (Japanese sushi) are much more so.  One way to deal with this is with an measure call term frequency-inverse document frequency (tf-idf). Add in a [`TfidfTransformer`](https://scikit-learn.org/stable/modules/generated/sklearn.feature_extraction.text.TfidfVectorizer.html) between the `DictVectorizer` and the linear model, and see if that improves performance."
   ]
  },
  {
   "cell_type": "markdown",
   "id": "76c8b7e8",
   "metadata": {
    "slideshow": null
   },
   "source": [
    "## Question 5: attribute_model"
   ]
  },
  {
   "cell_type": "markdown",
   "id": "b4ac2b5d",
   "metadata": {
    "slideshow": null
   },
   "source": [
    "There is even more information in the attributes for each venue.  Let's build an estimator based on these.\n",
    "\n",
    "Venues attributes may be nested:\n",
    "```python\n",
    "{\n",
    "  'Attire': 'casual',\n",
    "  'Accepts Credit Cards': True,\n",
    "  'Ambiance': {'casual': False, 'classy': False},\n",
    "  'Price Range': 3\n",
    "}\n",
    "```\n",
    "We wish to encode them in the same manner as our categories data using the `DictVectorizer`. Before we do so, we need to flatten the dictionary to a single level:\n",
    "```python\n",
    "{\n",
    "  'Attire_casual' : 1,\n",
    "  'Accepts Credit Cards': 1,\n",
    "  'Ambiance_casual': 0,\n",
    "  'Ambiance_classy': 0,\n",
    "  'Price Range_3': 1\n",
    "}\n",
    "```\n",
    "Build a custom transformer that flattens the dictionary for the `'attributes'` field. "
   ]
  },
  {
   "cell_type": "code",
   "execution_count": 32,
   "id": "3609ec74",
   "metadata": {},
   "outputs": [],
   "source": [
    "def flatten_dict(d, parent_key=''):\n",
    "    items = []\n",
    "    for k, v in d.items():\n",
    "        new_key = parent_key + \"_\" + k if parent_key else k\n",
    "        if isinstance(v, dict):\n",
    "            items.extend(flatten_dict(v, new_key).items())\n",
    "        else:\n",
    "            items.append((new_key, v))\n",
    "    return dict(items)\n",
    "\n",
    "def extra_flatten_dict(d):\n",
    "    d=flatten_dict(d)\n",
    "    b={}\n",
    "    for item in d:\n",
    "        if d[item] in [True, False]:\n",
    "            b[item]=int(d[item])\n",
    "        else:\n",
    "            b[f'{item}_{d[item]}']=1\n",
    "    return b"
   ]
  },
  {
   "cell_type": "code",
   "execution_count": 33,
   "id": "13eaa17e",
   "metadata": {
    "slideshow": null
   },
   "outputs": [],
   "source": [
    "class AttributeTransformer(BaseEstimator, TransformerMixin):\n",
    "# Create the transformer to handle the attributes data\n",
    "    def fit(self, X, y=None):\n",
    "        return self\n",
    "    \n",
    "    def transform(self, X):\n",
    "        # X will be a pandas series. Return a pandas series of dictionaries\n",
    "        X_out=[]\n",
    "        for indx, hashMap in X.items():\n",
    "            X_out.append(extra_flatten_dict(hashMap))\n",
    "        return pd.Series(X_out)"
   ]
  },
  {
   "cell_type": "markdown",
   "id": "af23180a",
   "metadata": {
    "slideshow": null
   },
   "source": [
    "We can check that we're getting the right number of columns _after_ vectorization to allow for different ways of constructing this. "
   ]
  },
  {
   "cell_type": "code",
   "execution_count": 34,
   "id": "06c1f899",
   "metadata": {
    "slideshow": null
   },
   "outputs": [
    {
     "data": {
      "text/plain": [
       "True"
      ]
     },
     "execution_count": 34,
     "metadata": {},
     "output_type": "execute_result"
    }
   ],
   "source": [
    "attribute_example = pd.Series([\n",
    "    {\n",
    "        'Wi-Fi': 'free',\n",
    "        'Price Range': 2,\n",
    "        'Parking': {\n",
    "            'garage': False,\n",
    "            'street': True\n",
    "        }\n",
    "    },\n",
    "    {\n",
    "        'Wi-Fi': 'no',\n",
    "        'Price Range': 3,\n",
    "        'Accepts Credit Cards': True,\n",
    "        'Take-out': False\n",
    "    },\n",
    "    {\n",
    "        'Wi-Fi': 'paid',\n",
    "        'Parking': {\n",
    "            'garage': True,\n",
    "            'valet': True\n",
    "        },\n",
    "        'Take-out': True\n",
    "    }\n",
    "])\n",
    "\n",
    "n_columns = 10\n",
    "\n",
    "test_att_transformer = AttributeTransformer()\n",
    "dictvect = DictVectorizer()\n",
    "#test_att_transformer.fit_transform(attribute_example)\n",
    "\n",
    "dictvect.fit(test_att_transformer.fit_transform(attribute_example))\n",
    "\n",
    "# If this check fails, look at your output column names. \n",
    "# Are 'Wi-Fi' and 'Price Range' being treated correctly?\n",
    "grader.check(len(dictvect.feature_names_) == n_columns)"
   ]
  },
  {
   "cell_type": "markdown",
   "id": "42b7699e",
   "metadata": {
    "slideshow": null
   },
   "source": [
    "Similar to what was done before, create a model that properly encodes the attribute data and learns to predict the ratings.\n",
    "\n",
    "You may find it difficult to find a single regressor that does well enough. A common solution is to use a linear model to fit the linear part of some data, and use a non-linear model to fit the residual that the linear model can't fit. Build a custom predictor that takes as an argument two other predictors. It should use the first to fit the raw data and the second to fit the residuals of the first."
   ]
  },
  {
   "cell_type": "code",
   "execution_count": 46,
   "id": "41d13c79",
   "metadata": {
    "slideshow": null
   },
   "outputs": [],
   "source": [
    "# Create the linear + non-linear ensemble predictor\n"
   ]
  },
  {
   "cell_type": "code",
   "execution_count": 56,
   "id": "11a0b0d3",
   "metadata": {
    "slideshow": null
   },
   "outputs": [
    {
     "name": "stdout",
     "output_type": "stream",
     "text": [
      "Fitting 10 folds for each of 4 candidates, totalling 40 fits\n",
      "[CV 1/10; 1/4] START activation=identity........................................\n",
      "[CV 1/10; 1/4] END .........activation=identity;, score=0.042 total time=   4.5s\n",
      "[CV 2/10; 1/4] START activation=identity........................................\n",
      "[CV 2/10; 1/4] END .........activation=identity;, score=0.010 total time=   4.6s\n",
      "[CV 3/10; 1/4] START activation=identity........................................\n",
      "[CV 3/10; 1/4] END .........activation=identity;, score=0.025 total time=   4.5s\n",
      "[CV 4/10; 1/4] START activation=identity........................................\n",
      "[CV 4/10; 1/4] END .........activation=identity;, score=0.003 total time=   4.9s\n",
      "[CV 5/10; 1/4] START activation=identity........................................\n",
      "[CV 5/10; 1/4] END .........activation=identity;, score=0.049 total time=   4.7s\n",
      "[CV 6/10; 1/4] START activation=identity........................................\n",
      "[CV 6/10; 1/4] END .........activation=identity;, score=0.089 total time=   4.5s\n",
      "[CV 7/10; 1/4] START activation=identity........................................\n",
      "[CV 7/10; 1/4] END .........activation=identity;, score=0.035 total time=   4.6s\n",
      "[CV 8/10; 1/4] START activation=identity........................................\n",
      "[CV 8/10; 1/4] END .........activation=identity;, score=0.038 total time=   4.5s\n",
      "[CV 9/10; 1/4] START activation=identity........................................\n",
      "[CV 9/10; 1/4] END .........activation=identity;, score=0.039 total time=   5.2s\n",
      "[CV 10/10; 1/4] START activation=identity.......................................\n",
      "[CV 10/10; 1/4] END .......activation=identity;, score=-0.045 total time=   4.8s\n",
      "[CV 1/10; 2/4] START activation=logistic........................................\n",
      "[CV 1/10; 2/4] END .........activation=logistic;, score=0.064 total time=  26.7s\n",
      "[CV 2/10; 2/4] START activation=logistic........................................\n",
      "[CV 2/10; 2/4] END .........activation=logistic;, score=0.023 total time= 2.1min\n",
      "[CV 3/10; 2/4] START activation=logistic........................................\n",
      "[CV 3/10; 2/4] END .........activation=logistic;, score=0.048 total time= 1.5min\n",
      "[CV 4/10; 2/4] START activation=logistic........................................\n",
      "[CV 4/10; 2/4] END .........activation=logistic;, score=0.058 total time= 2.4min\n",
      "[CV 5/10; 2/4] START activation=logistic........................................\n",
      "[CV 5/10; 2/4] END .........activation=logistic;, score=0.085 total time= 1.3min\n",
      "[CV 6/10; 2/4] START activation=logistic........................................\n",
      "[CV 6/10; 2/4] END .........activation=logistic;, score=0.115 total time= 2.9min\n",
      "[CV 7/10; 2/4] START activation=logistic........................................\n",
      "[CV 7/10; 2/4] END .........activation=logistic;, score=0.055 total time= 1.9min\n",
      "[CV 8/10; 2/4] START activation=logistic........................................\n",
      "[CV 8/10; 2/4] END .........activation=logistic;, score=0.052 total time= 2.9min\n",
      "[CV 9/10; 2/4] START activation=logistic........................................\n",
      "[CV 9/10; 2/4] END .........activation=logistic;, score=0.066 total time= 1.5min\n",
      "[CV 10/10; 2/4] START activation=logistic.......................................\n",
      "[CV 10/10; 2/4] END .......activation=logistic;, score=-0.001 total time= 1.7min\n",
      "[CV 1/10; 3/4] START activation=tanh............................................\n",
      "[CV 1/10; 3/4] END ............activation=tanh;, score=-0.001 total time= 2.3min\n",
      "[CV 2/10; 3/4] START activation=tanh............................................\n",
      "[CV 2/10; 3/4] END ............activation=tanh;, score=-0.006 total time= 2.3min\n",
      "[CV 3/10; 3/4] START activation=tanh............................................\n",
      "[CV 3/10; 3/4] END .............activation=tanh;, score=0.001 total time= 1.9min\n",
      "[CV 4/10; 3/4] START activation=tanh............................................\n",
      "[CV 4/10; 3/4] END .............activation=tanh;, score=0.020 total time= 2.3min\n",
      "[CV 5/10; 3/4] START activation=tanh............................................\n",
      "[CV 5/10; 3/4] END ............activation=tanh;, score=-0.058 total time= 2.0min\n",
      "[CV 6/10; 3/4] START activation=tanh............................................\n",
      "[CV 6/10; 3/4] END .............activation=tanh;, score=0.060 total time= 2.0min\n",
      "[CV 7/10; 3/4] START activation=tanh............................................\n",
      "[CV 7/10; 3/4] END .............activation=tanh;, score=0.034 total time= 1.6min\n",
      "[CV 8/10; 3/4] START activation=tanh............................................\n",
      "[CV 8/10; 3/4] END .............activation=tanh;, score=0.009 total time= 2.4min\n",
      "[CV 9/10; 3/4] START activation=tanh............................................\n",
      "[CV 9/10; 3/4] END .............activation=tanh;, score=0.009 total time= 2.8min\n",
      "[CV 10/10; 3/4] START activation=tanh...........................................\n",
      "[CV 10/10; 3/4] END ...........activation=tanh;, score=-0.055 total time= 2.0min\n",
      "[CV 1/10; 4/4] START activation=relu............................................\n",
      "[CV 1/10; 4/4] END .............activation=relu;, score=0.021 total time= 1.1min\n",
      "[CV 2/10; 4/4] START activation=relu............................................\n",
      "[CV 2/10; 4/4] END ............activation=relu;, score=-0.051 total time= 1.3min\n",
      "[CV 3/10; 4/4] START activation=relu............................................\n",
      "[CV 3/10; 4/4] END ............activation=relu;, score=-0.053 total time= 1.3min\n",
      "[CV 4/10; 4/4] START activation=relu............................................\n",
      "[CV 4/10; 4/4] END .............activation=relu;, score=0.007 total time= 1.4min\n",
      "[CV 5/10; 4/4] START activation=relu............................................\n",
      "[CV 5/10; 4/4] END ............activation=relu;, score=-0.106 total time= 1.3min\n",
      "[CV 6/10; 4/4] START activation=relu............................................\n",
      "[CV 6/10; 4/4] END .............activation=relu;, score=0.060 total time= 1.3min\n",
      "[CV 7/10; 4/4] START activation=relu............................................\n",
      "[CV 7/10; 4/4] END .............activation=relu;, score=0.012 total time=  54.4s\n",
      "[CV 8/10; 4/4] START activation=relu............................................\n",
      "[CV 8/10; 4/4] END ............activation=relu;, score=-0.020 total time= 1.1min\n",
      "[CV 9/10; 4/4] START activation=relu............................................\n",
      "[CV 9/10; 4/4] END .............activation=relu;, score=0.003 total time= 1.1min\n",
      "[CV 10/10; 4/4] START activation=relu...........................................\n",
      "[CV 10/10; 4/4] END ...........activation=relu;, score=-0.050 total time= 1.2min\n"
     ]
    },
    {
     "data": {
      "text/html": [
       "<style>#sk-container-id-9 {color: black;background-color: white;}#sk-container-id-9 pre{padding: 0;}#sk-container-id-9 div.sk-toggleable {background-color: white;}#sk-container-id-9 label.sk-toggleable__label {cursor: pointer;display: block;width: 100%;margin-bottom: 0;padding: 0.3em;box-sizing: border-box;text-align: center;}#sk-container-id-9 label.sk-toggleable__label-arrow:before {content: \"▸\";float: left;margin-right: 0.25em;color: #696969;}#sk-container-id-9 label.sk-toggleable__label-arrow:hover:before {color: black;}#sk-container-id-9 div.sk-estimator:hover label.sk-toggleable__label-arrow:before {color: black;}#sk-container-id-9 div.sk-toggleable__content {max-height: 0;max-width: 0;overflow: hidden;text-align: left;background-color: #f0f8ff;}#sk-container-id-9 div.sk-toggleable__content pre {margin: 0.2em;color: black;border-radius: 0.25em;background-color: #f0f8ff;}#sk-container-id-9 input.sk-toggleable__control:checked~div.sk-toggleable__content {max-height: 200px;max-width: 100%;overflow: auto;}#sk-container-id-9 input.sk-toggleable__control:checked~label.sk-toggleable__label-arrow:before {content: \"▾\";}#sk-container-id-9 div.sk-estimator input.sk-toggleable__control:checked~label.sk-toggleable__label {background-color: #d4ebff;}#sk-container-id-9 div.sk-label input.sk-toggleable__control:checked~label.sk-toggleable__label {background-color: #d4ebff;}#sk-container-id-9 input.sk-hidden--visually {border: 0;clip: rect(1px 1px 1px 1px);clip: rect(1px, 1px, 1px, 1px);height: 1px;margin: -1px;overflow: hidden;padding: 0;position: absolute;width: 1px;}#sk-container-id-9 div.sk-estimator {font-family: monospace;background-color: #f0f8ff;border: 1px dotted black;border-radius: 0.25em;box-sizing: border-box;margin-bottom: 0.5em;}#sk-container-id-9 div.sk-estimator:hover {background-color: #d4ebff;}#sk-container-id-9 div.sk-parallel-item::after {content: \"\";width: 100%;border-bottom: 1px solid gray;flex-grow: 1;}#sk-container-id-9 div.sk-label:hover label.sk-toggleable__label {background-color: #d4ebff;}#sk-container-id-9 div.sk-serial::before {content: \"\";position: absolute;border-left: 1px solid gray;box-sizing: border-box;top: 0;bottom: 0;left: 50%;z-index: 0;}#sk-container-id-9 div.sk-serial {display: flex;flex-direction: column;align-items: center;background-color: white;padding-right: 0.2em;padding-left: 0.2em;position: relative;}#sk-container-id-9 div.sk-item {position: relative;z-index: 1;}#sk-container-id-9 div.sk-parallel {display: flex;align-items: stretch;justify-content: center;background-color: white;position: relative;}#sk-container-id-9 div.sk-item::before, #sk-container-id-9 div.sk-parallel-item::before {content: \"\";position: absolute;border-left: 1px solid gray;box-sizing: border-box;top: 0;bottom: 0;left: 50%;z-index: -1;}#sk-container-id-9 div.sk-parallel-item {display: flex;flex-direction: column;z-index: 1;position: relative;background-color: white;}#sk-container-id-9 div.sk-parallel-item:first-child::after {align-self: flex-end;width: 50%;}#sk-container-id-9 div.sk-parallel-item:last-child::after {align-self: flex-start;width: 50%;}#sk-container-id-9 div.sk-parallel-item:only-child::after {width: 0;}#sk-container-id-9 div.sk-dashed-wrapped {border: 1px dashed gray;margin: 0 0.4em 0.5em 0.4em;box-sizing: border-box;padding-bottom: 0.4em;background-color: white;}#sk-container-id-9 div.sk-label label {font-family: monospace;font-weight: bold;display: inline-block;line-height: 1.2em;}#sk-container-id-9 div.sk-label-container {text-align: center;}#sk-container-id-9 div.sk-container {/* jupyter's `normalize.less` sets `[hidden] { display: none; }` but bootstrap.min.css set `[hidden] { display: none !important; }` so we also need the `!important` here to be able to override the default hidden behavior on the sphinx rendered scikit-learn.org. See: https://github.com/scikit-learn/scikit-learn/issues/21755 */display: inline-block !important;position: relative;}#sk-container-id-9 div.sk-text-repr-fallback {display: none;}</style><div id=\"sk-container-id-9\" class=\"sk-top-container\"><div class=\"sk-text-repr-fallback\"><pre>Pipeline(steps=[(&#x27;to_df&#x27;, ToDataFrame()),\n",
       "                (&#x27;select&#x27;,\n",
       "                 ColumnTransformer(transformers=[(&#x27;attribute-select&#x27;,\n",
       "                                                  Pipeline(steps=[(&#x27;transformer&#x27;,\n",
       "                                                                   AttributeTransformer()),\n",
       "                                                                  (&#x27;vectorizer&#x27;,\n",
       "                                                                   DictVectorizer())]),\n",
       "                                                  &#x27;attributes&#x27;)])),\n",
       "                (&#x27;grid-search_MLP&#x27;,\n",
       "                 GridSearchCV(cv=10,\n",
       "                              estimator=MLPRegressor(learning_rate=&#x27;adaptive&#x27;,\n",
       "                                                     max_iter=2000),\n",
       "                              param_grid={&#x27;activation&#x27;: [&#x27;identity&#x27;, &#x27;logistic&#x27;,\n",
       "                                                         &#x27;tanh&#x27;, &#x27;relu&#x27;]},\n",
       "                              verbose=40))])</pre><b>In a Jupyter environment, please rerun this cell to show the HTML representation or trust the notebook. <br />On GitHub, the HTML representation is unable to render, please try loading this page with nbviewer.org.</b></div><div class=\"sk-container\" hidden><div class=\"sk-item sk-dashed-wrapped\"><div class=\"sk-label-container\"><div class=\"sk-label sk-toggleable\"><input class=\"sk-toggleable__control sk-hidden--visually\" id=\"sk-estimator-id-66\" type=\"checkbox\" ><label for=\"sk-estimator-id-66\" class=\"sk-toggleable__label sk-toggleable__label-arrow\">Pipeline</label><div class=\"sk-toggleable__content\"><pre>Pipeline(steps=[(&#x27;to_df&#x27;, ToDataFrame()),\n",
       "                (&#x27;select&#x27;,\n",
       "                 ColumnTransformer(transformers=[(&#x27;attribute-select&#x27;,\n",
       "                                                  Pipeline(steps=[(&#x27;transformer&#x27;,\n",
       "                                                                   AttributeTransformer()),\n",
       "                                                                  (&#x27;vectorizer&#x27;,\n",
       "                                                                   DictVectorizer())]),\n",
       "                                                  &#x27;attributes&#x27;)])),\n",
       "                (&#x27;grid-search_MLP&#x27;,\n",
       "                 GridSearchCV(cv=10,\n",
       "                              estimator=MLPRegressor(learning_rate=&#x27;adaptive&#x27;,\n",
       "                                                     max_iter=2000),\n",
       "                              param_grid={&#x27;activation&#x27;: [&#x27;identity&#x27;, &#x27;logistic&#x27;,\n",
       "                                                         &#x27;tanh&#x27;, &#x27;relu&#x27;]},\n",
       "                              verbose=40))])</pre></div></div></div><div class=\"sk-serial\"><div class=\"sk-item\"><div class=\"sk-estimator sk-toggleable\"><input class=\"sk-toggleable__control sk-hidden--visually\" id=\"sk-estimator-id-67\" type=\"checkbox\" ><label for=\"sk-estimator-id-67\" class=\"sk-toggleable__label sk-toggleable__label-arrow\">ToDataFrame</label><div class=\"sk-toggleable__content\"><pre>ToDataFrame()</pre></div></div></div><div class=\"sk-item sk-dashed-wrapped\"><div class=\"sk-label-container\"><div class=\"sk-label sk-toggleable\"><input class=\"sk-toggleable__control sk-hidden--visually\" id=\"sk-estimator-id-68\" type=\"checkbox\" ><label for=\"sk-estimator-id-68\" class=\"sk-toggleable__label sk-toggleable__label-arrow\">select: ColumnTransformer</label><div class=\"sk-toggleable__content\"><pre>ColumnTransformer(transformers=[(&#x27;attribute-select&#x27;,\n",
       "                                 Pipeline(steps=[(&#x27;transformer&#x27;,\n",
       "                                                  AttributeTransformer()),\n",
       "                                                 (&#x27;vectorizer&#x27;,\n",
       "                                                  DictVectorizer())]),\n",
       "                                 &#x27;attributes&#x27;)])</pre></div></div></div><div class=\"sk-parallel\"><div class=\"sk-parallel-item\"><div class=\"sk-item\"><div class=\"sk-label-container\"><div class=\"sk-label sk-toggleable\"><input class=\"sk-toggleable__control sk-hidden--visually\" id=\"sk-estimator-id-69\" type=\"checkbox\" ><label for=\"sk-estimator-id-69\" class=\"sk-toggleable__label sk-toggleable__label-arrow\">attribute-select</label><div class=\"sk-toggleable__content\"><pre>attributes</pre></div></div></div><div class=\"sk-serial\"><div class=\"sk-item\"><div class=\"sk-serial\"><div class=\"sk-item\"><div class=\"sk-estimator sk-toggleable\"><input class=\"sk-toggleable__control sk-hidden--visually\" id=\"sk-estimator-id-70\" type=\"checkbox\" ><label for=\"sk-estimator-id-70\" class=\"sk-toggleable__label sk-toggleable__label-arrow\">AttributeTransformer</label><div class=\"sk-toggleable__content\"><pre>AttributeTransformer()</pre></div></div></div><div class=\"sk-item\"><div class=\"sk-estimator sk-toggleable\"><input class=\"sk-toggleable__control sk-hidden--visually\" id=\"sk-estimator-id-71\" type=\"checkbox\" ><label for=\"sk-estimator-id-71\" class=\"sk-toggleable__label sk-toggleable__label-arrow\">DictVectorizer</label><div class=\"sk-toggleable__content\"><pre>DictVectorizer()</pre></div></div></div></div></div></div></div></div></div></div><div class=\"sk-item sk-dashed-wrapped\"><div class=\"sk-label-container\"><div class=\"sk-label sk-toggleable\"><input class=\"sk-toggleable__control sk-hidden--visually\" id=\"sk-estimator-id-72\" type=\"checkbox\" ><label for=\"sk-estimator-id-72\" class=\"sk-toggleable__label sk-toggleable__label-arrow\">grid-search_MLP: GridSearchCV</label><div class=\"sk-toggleable__content\"><pre>GridSearchCV(cv=10,\n",
       "             estimator=MLPRegressor(learning_rate=&#x27;adaptive&#x27;, max_iter=2000),\n",
       "             param_grid={&#x27;activation&#x27;: [&#x27;identity&#x27;, &#x27;logistic&#x27;, &#x27;tanh&#x27;,\n",
       "                                        &#x27;relu&#x27;]},\n",
       "             verbose=40)</pre></div></div></div><div class=\"sk-parallel\"><div class=\"sk-parallel-item\"><div class=\"sk-item\"><div class=\"sk-label-container\"><div class=\"sk-label sk-toggleable\"><input class=\"sk-toggleable__control sk-hidden--visually\" id=\"sk-estimator-id-73\" type=\"checkbox\" ><label for=\"sk-estimator-id-73\" class=\"sk-toggleable__label sk-toggleable__label-arrow\">estimator: MLPRegressor</label><div class=\"sk-toggleable__content\"><pre>MLPRegressor(learning_rate=&#x27;adaptive&#x27;, max_iter=2000)</pre></div></div></div><div class=\"sk-serial\"><div class=\"sk-item\"><div class=\"sk-estimator sk-toggleable\"><input class=\"sk-toggleable__control sk-hidden--visually\" id=\"sk-estimator-id-74\" type=\"checkbox\" ><label for=\"sk-estimator-id-74\" class=\"sk-toggleable__label sk-toggleable__label-arrow\">MLPRegressor</label><div class=\"sk-toggleable__content\"><pre>MLPRegressor(learning_rate=&#x27;adaptive&#x27;, max_iter=2000)</pre></div></div></div></div></div></div></div></div></div></div></div></div>"
      ],
      "text/plain": [
       "Pipeline(steps=[('to_df', ToDataFrame()),\n",
       "                ('select',\n",
       "                 ColumnTransformer(transformers=[('attribute-select',\n",
       "                                                  Pipeline(steps=[('transformer',\n",
       "                                                                   AttributeTransformer()),\n",
       "                                                                  ('vectorizer',\n",
       "                                                                   DictVectorizer())]),\n",
       "                                                  'attributes')])),\n",
       "                ('grid-search_MLP',\n",
       "                 GridSearchCV(cv=10,\n",
       "                              estimator=MLPRegressor(learning_rate='adaptive',\n",
       "                                                     max_iter=2000),\n",
       "                              param_grid={'activation': ['identity', 'logistic',\n",
       "                                                         'tanh', 'relu']},\n",
       "                              verbose=40))])"
      ]
     },
     "execution_count": 56,
     "metadata": {},
     "output_type": "execute_result"
    }
   ],
   "source": [
    "# Create the attribute model\n",
    "from sklearn.neural_network import MLPRegressor\n",
    "import warnings\n",
    "warnings.filterwarnings('ignore')\n",
    "\n",
    "parameters={'activation': ['identity', 'logistic', 'tanh', 'relu']}\n",
    "\n",
    "attribute_model=Pipeline([('to_df', ToDataFrame()), \n",
    "                         ('select', \n",
    "                          ColumnTransformer([('attribute-select', \n",
    "                                              Pipeline([('transformer', AttributeTransformer()), \n",
    "                                                        ('vectorizer', DictVectorizer())]), 'attributes')])),\n",
    "                         ('grid-search_MLP', GridSearchCV(MLPRegressor(solver='adam', learning_rate='adaptive', max_iter=2000), parameters, cv=10, verbose=40))])\n",
    "attribute_model.fit(data, star_ratings)\n"
   ]
  },
  {
   "cell_type": "code",
   "execution_count": 57,
   "id": "6e1d6a18",
   "metadata": {
    "slideshow": null
   },
   "outputs": [
    {
     "name": "stdout",
     "output_type": "stream",
     "text": [
      "==================\n",
      "Your score: 0.9510\n",
      "==================\n"
     ]
    }
   ],
   "source": [
    "grader.score('ml__attribute_model', attribute_model.predict)  # Edit to appropriate name"
   ]
  },
  {
   "cell_type": "markdown",
   "id": "9fdfe89a",
   "metadata": {
    "slideshow": null
   },
   "source": [
    "## Question 6: full_model"
   ]
  },
  {
   "cell_type": "markdown",
   "id": "d096cad9",
   "metadata": {
    "slideshow": null
   },
   "source": [
    "So far we have only built models based on individual features.  Now we will build an ensemble regressor that averages together the estimates of the four previous regressors.\n",
    "\n",
    "In order to use the existing models as input to a predictor, we will have to turn them into transformers; a predictor can only be in the final step of a pipeline. Build a custom `ModelTransformer` class that takes a predictor as an argument. When `fit` is called, the predictor should be fit. When `transform` is called, the predictor's `predict` method should be called, and its results returned as the transformation.\n",
    "\n",
    "Note that the output of the `transform` method should be a 2-D array with a single column in order for it to work well with the scikit-learn pipeline. If you're using NumPy arrays, you can use `.reshape(-1, 1)` to create a column vector. If you are just using Python lists, you will want a list of lists of single elements."
   ]
  },
  {
   "cell_type": "code",
   "execution_count": 60,
   "id": "d31eba1c",
   "metadata": {
    "slideshow": null
   },
   "outputs": [],
   "source": [
    "class ModelTransformer(BaseEstimator, TransformerMixin):\n",
    "    \n",
    "    def __init__(self, model):\n",
    "        # What needs to be done here?\n",
    "        self.model=model\n",
    "    \n",
    "    def fit(self, X, y):\n",
    "        # Fit the stored predictor.\n",
    "        # Question: what should be returned?\n",
    "        self.model.fit(X, y)\n",
    "        return self\n",
    "    \n",
    "    def transform(self, X):\n",
    "        # Use predict on the stored predictor as a \"transformation\".\n",
    "        # Be sure to return a 2-D array.\n",
    "        X_out=[]\n",
    "        a=self.model.predict(X)\n",
    "        for item in a:\n",
    "            X_out.append([item])   \n",
    "        return X_out\n",
    "        "
   ]
  },
  {
   "cell_type": "markdown",
   "id": "b700227c",
   "metadata": {
    "slideshow": null
   },
   "source": [
    "Let's now test it out on our `city_model`."
   ]
  },
  {
   "cell_type": "code",
   "execution_count": 61,
   "id": "af6c6936",
   "metadata": {
    "slideshow": null
   },
   "outputs": [
    {
     "data": {
      "text/plain": [
       "True"
      ]
     },
     "execution_count": 61,
     "metadata": {},
     "output_type": "execute_result"
    }
   ],
   "source": [
    "city_trans = ModelTransformer(city_model)\n",
    "city_trans.fit(data, star_ratings)\n",
    "X_t = city_trans.transform(data[:5])\n",
    "\n",
    "# Check that the transformation output is a 2-D array with one column\n",
    "grader.check(np.array(X_t).shape[-1] == 1)"
   ]
  },
  {
   "cell_type": "code",
   "execution_count": 62,
   "id": "4223e251",
   "metadata": {
    "slideshow": null
   },
   "outputs": [
    {
     "data": {
      "text/plain": [
       "True"
      ]
     },
     "execution_count": 62,
     "metadata": {},
     "output_type": "execute_result"
    }
   ],
   "source": [
    "y_pred = np.array(city_model.predict(data[:5]))\n",
    "\n",
    "# Check that the transformation output is the same as the model's predictions\n",
    "grader.check((y_pred.reshape(-1, 1) == X_t).all())"
   ]
  },
  {
   "cell_type": "markdown",
   "id": "1e2e3b36",
   "metadata": {
    "slideshow": null
   },
   "source": [
    "Create an instance of `ModelTransformer` for each of the previous four models. Combine these together in a single feature matrix with a\n",
    "[`FeatureUnion`](http://scikit-learn.org/stable/modules/generated/sklearn.pipeline.FeatureUnion.html#sklearn.pipeline.FeatureUnion)."
   ]
  },
  {
   "cell_type": "code",
   "execution_count": 63,
   "id": "3ca71b54",
   "metadata": {
    "slideshow": null
   },
   "outputs": [],
   "source": [
    "from sklearn.pipeline import FeatureUnion\n",
    "\n",
    "union = FeatureUnion([\n",
    "        # FeatureUnion uses the same syntax as Pipeline\n",
    "            ('city', ModelTransformer(city_model)),\n",
    "            ('lat-long', ModelTransformer(lat_long_model)),\n",
    "            ('category', ModelTransformer(category_model)),\n",
    "            ('attribute', ModelTransformer(attribute_model))\n",
    "    ])"
   ]
  },
  {
   "cell_type": "markdown",
   "id": "bbf7e159",
   "metadata": {
    "slideshow": null
   },
   "source": [
    "Our `FeatureUnion` object should return a feature matrix with four columns."
   ]
  },
  {
   "cell_type": "code",
   "execution_count": 64,
   "id": "016e51b1",
   "metadata": {
    "slideshow": null
   },
   "outputs": [
    {
     "name": "stdout",
     "output_type": "stream",
     "text": [
      "Fitting 10 folds for each of 4 candidates, totalling 40 fits\n",
      "[CV 1/10; 1/4] START activation=identity........................................\n",
      "[CV 1/10; 1/4] END .........activation=identity;, score=0.013 total time=   4.9s\n",
      "[CV 2/10; 1/4] START activation=identity........................................\n",
      "[CV 2/10; 1/4] END .........activation=identity;, score=0.014 total time=   5.0s\n",
      "[CV 3/10; 1/4] START activation=identity........................................\n",
      "[CV 3/10; 1/4] END .........activation=identity;, score=0.039 total time=   5.2s\n",
      "[CV 4/10; 1/4] START activation=identity........................................\n",
      "[CV 4/10; 1/4] END .........activation=identity;, score=0.027 total time=   4.6s\n",
      "[CV 5/10; 1/4] START activation=identity........................................\n",
      "[CV 5/10; 1/4] END .........activation=identity;, score=0.049 total time=   5.0s\n",
      "[CV 6/10; 1/4] START activation=identity........................................\n",
      "[CV 6/10; 1/4] END .........activation=identity;, score=0.081 total time=   4.8s\n",
      "[CV 7/10; 1/4] START activation=identity........................................\n",
      "[CV 7/10; 1/4] END .........activation=identity;, score=0.044 total time=   4.8s\n",
      "[CV 8/10; 1/4] START activation=identity........................................\n",
      "[CV 8/10; 1/4] END .........activation=identity;, score=0.055 total time=   4.5s\n",
      "[CV 9/10; 1/4] START activation=identity........................................\n",
      "[CV 9/10; 1/4] END .........activation=identity;, score=0.028 total time=   4.6s\n",
      "[CV 10/10; 1/4] START activation=identity.......................................\n",
      "[CV 10/10; 1/4] END .......activation=identity;, score=-0.027 total time=   4.6s\n",
      "[CV 1/10; 2/4] START activation=logistic........................................\n",
      "[CV 1/10; 2/4] END .........activation=logistic;, score=0.052 total time= 2.1min\n",
      "[CV 2/10; 2/4] START activation=logistic........................................\n",
      "[CV 2/10; 2/4] END .........activation=logistic;, score=0.020 total time= 1.7min\n",
      "[CV 3/10; 2/4] START activation=logistic........................................\n",
      "[CV 3/10; 2/4] END .........activation=logistic;, score=0.055 total time= 2.4min\n",
      "[CV 4/10; 2/4] START activation=logistic........................................\n",
      "[CV 4/10; 2/4] END .........activation=logistic;, score=0.043 total time= 2.5min\n",
      "[CV 5/10; 2/4] START activation=logistic........................................\n",
      "[CV 5/10; 2/4] END .........activation=logistic;, score=0.057 total time= 2.1min\n",
      "[CV 6/10; 2/4] START activation=logistic........................................\n",
      "[CV 6/10; 2/4] END .........activation=logistic;, score=0.119 total time= 2.2min\n",
      "[CV 7/10; 2/4] START activation=logistic........................................\n",
      "[CV 7/10; 2/4] END .........activation=logistic;, score=0.047 total time= 2.7min\n",
      "[CV 8/10; 2/4] START activation=logistic........................................\n",
      "[CV 8/10; 2/4] END .........activation=logistic;, score=0.072 total time= 1.6min\n",
      "[CV 9/10; 2/4] START activation=logistic........................................\n",
      "[CV 9/10; 2/4] END .........activation=logistic;, score=0.063 total time= 2.1min\n",
      "[CV 10/10; 2/4] START activation=logistic.......................................\n",
      "[CV 10/10; 2/4] END .......activation=logistic;, score=-0.001 total time= 1.5min\n",
      "[CV 1/10; 3/4] START activation=tanh............................................\n",
      "[CV 1/10; 3/4] END .............activation=tanh;, score=0.025 total time= 1.7min\n",
      "[CV 2/10; 3/4] START activation=tanh............................................\n",
      "[CV 2/10; 3/4] END ............activation=tanh;, score=-0.027 total time= 2.0min\n",
      "[CV 3/10; 3/4] START activation=tanh............................................\n",
      "[CV 3/10; 3/4] END ............activation=tanh;, score=-0.021 total time= 2.3min\n",
      "[CV 4/10; 3/4] START activation=tanh............................................\n",
      "[CV 4/10; 3/4] END .............activation=tanh;, score=0.011 total time= 2.2min\n",
      "[CV 5/10; 3/4] START activation=tanh............................................\n",
      "[CV 5/10; 3/4] END ............activation=tanh;, score=-0.117 total time= 2.7min\n",
      "[CV 6/10; 3/4] START activation=tanh............................................\n",
      "[CV 6/10; 3/4] END .............activation=tanh;, score=0.078 total time= 1.9min\n",
      "[CV 7/10; 3/4] START activation=tanh............................................\n",
      "[CV 7/10; 3/4] END .............activation=tanh;, score=0.038 total time= 1.5min\n",
      "[CV 8/10; 3/4] START activation=tanh............................................\n",
      "[CV 8/10; 3/4] END .............activation=tanh;, score=0.011 total time= 2.1min\n",
      "[CV 9/10; 3/4] START activation=tanh............................................\n",
      "[CV 9/10; 3/4] END .............activation=tanh;, score=0.015 total time= 2.4min\n",
      "[CV 10/10; 3/4] START activation=tanh...........................................\n",
      "[CV 10/10; 3/4] END ...........activation=tanh;, score=-0.064 total time= 2.0min\n",
      "[CV 1/10; 4/4] START activation=relu............................................\n",
      "[CV 1/10; 4/4] END .............activation=relu;, score=0.026 total time=  58.3s\n",
      "[CV 2/10; 4/4] START activation=relu............................................\n",
      "[CV 2/10; 4/4] END ............activation=relu;, score=-0.024 total time= 1.2min\n",
      "[CV 3/10; 4/4] START activation=relu............................................\n",
      "[CV 3/10; 4/4] END ............activation=relu;, score=-0.070 total time= 1.1min\n",
      "[CV 4/10; 4/4] START activation=relu............................................\n",
      "[CV 4/10; 4/4] END .............activation=relu;, score=0.007 total time= 1.1min\n",
      "[CV 5/10; 4/4] START activation=relu............................................\n",
      "[CV 5/10; 4/4] END ............activation=relu;, score=-0.080 total time= 1.2min\n",
      "[CV 6/10; 4/4] START activation=relu............................................\n",
      "[CV 6/10; 4/4] END .............activation=relu;, score=0.057 total time= 1.0min\n",
      "[CV 7/10; 4/4] START activation=relu............................................\n",
      "[CV 7/10; 4/4] END ............activation=relu;, score=-0.003 total time= 1.5min\n",
      "[CV 8/10; 4/4] START activation=relu............................................\n",
      "[CV 8/10; 4/4] END .............activation=relu;, score=0.010 total time= 1.2min\n",
      "[CV 9/10; 4/4] START activation=relu............................................\n",
      "[CV 9/10; 4/4] END .............activation=relu;, score=0.003 total time= 1.3min\n",
      "[CV 10/10; 4/4] START activation=relu...........................................\n",
      "[CV 10/10; 4/4] END ...........activation=relu;, score=-0.068 total time= 1.4min\n"
     ]
    },
    {
     "data": {
      "text/plain": [
       "True"
      ]
     },
     "execution_count": 64,
     "metadata": {},
     "output_type": "execute_result"
    }
   ],
   "source": [
    "union.fit(data, star_ratings)\n",
    "X_t = union.transform(data[:5])\n",
    "\n",
    "# Transformed data should have 5 rows and 4 columns\n",
    "grader.check(X_t.shape == (5, 4))"
   ]
  },
  {
   "cell_type": "markdown",
   "id": "739d2451",
   "metadata": {
    "slideshow": null
   },
   "source": [
    "Finally, use a pipeline to combine the feature union with a linear regression (or another model) to weight the predictions."
   ]
  },
  {
   "cell_type": "code",
   "execution_count": null,
   "id": "681d284b",
   "metadata": {
    "slideshow": null
   },
   "outputs": [
    {
     "name": "stdout",
     "output_type": "stream",
     "text": [
      "Fitting 10 folds for each of 4 candidates, totalling 40 fits\n",
      "[CV 1/10; 1/4] START activation=identity........................................\n",
      "[CV 1/10; 1/4] END .........activation=identity;, score=0.049 total time=   4.6s\n",
      "[CV 2/10; 1/4] START activation=identity........................................\n",
      "[CV 2/10; 1/4] END ........activation=identity;, score=-0.004 total time=   4.5s\n",
      "[CV 3/10; 1/4] START activation=identity........................................\n",
      "[CV 3/10; 1/4] END .........activation=identity;, score=0.019 total time=   4.5s\n",
      "[CV 4/10; 1/4] START activation=identity........................................\n",
      "[CV 4/10; 1/4] END .........activation=identity;, score=0.019 total time=   4.5s\n",
      "[CV 5/10; 1/4] START activation=identity........................................\n",
      "[CV 5/10; 1/4] END .........activation=identity;, score=0.045 total time=   4.9s\n",
      "[CV 6/10; 1/4] START activation=identity........................................\n",
      "[CV 6/10; 1/4] END .........activation=identity;, score=0.086 total time=   4.5s\n",
      "[CV 7/10; 1/4] START activation=identity........................................\n",
      "[CV 7/10; 1/4] END .........activation=identity;, score=0.039 total time=   4.6s\n",
      "[CV 8/10; 1/4] START activation=identity........................................\n",
      "[CV 8/10; 1/4] END .........activation=identity;, score=0.054 total time=   4.8s\n",
      "[CV 9/10; 1/4] START activation=identity........................................\n",
      "[CV 9/10; 1/4] END .........activation=identity;, score=0.022 total time=   4.6s\n",
      "[CV 10/10; 1/4] START activation=identity.......................................\n",
      "[CV 10/10; 1/4] END .......activation=identity;, score=-0.040 total time=   4.6s\n",
      "[CV 1/10; 2/4] START activation=logistic........................................\n",
      "[CV 1/10; 2/4] END .........activation=logistic;, score=0.056 total time= 1.7min\n",
      "[CV 2/10; 2/4] START activation=logistic........................................\n",
      "[CV 2/10; 2/4] END .........activation=logistic;, score=0.018 total time= 1.5min\n",
      "[CV 3/10; 2/4] START activation=logistic........................................\n",
      "[CV 3/10; 2/4] END .........activation=logistic;, score=0.056 total time= 1.7min\n",
      "[CV 4/10; 2/4] START activation=logistic........................................\n",
      "[CV 4/10; 2/4] END .........activation=logistic;, score=0.054 total time= 1.9min\n",
      "[CV 5/10; 2/4] START activation=logistic........................................\n",
      "[CV 5/10; 2/4] END .........activation=logistic;, score=0.086 total time= 1.1min\n",
      "[CV 6/10; 2/4] START activation=logistic........................................\n",
      "[CV 6/10; 2/4] END .........activation=logistic;, score=0.117 total time=  30.4s\n",
      "[CV 7/10; 2/4] START activation=logistic........................................\n",
      "[CV 7/10; 2/4] END .........activation=logistic;, score=0.034 total time= 3.0min\n",
      "[CV 8/10; 2/4] START activation=logistic........................................\n",
      "[CV 8/10; 2/4] END .........activation=logistic;, score=0.060 total time= 2.0min\n",
      "[CV 9/10; 2/4] START activation=logistic........................................\n",
      "[CV 9/10; 2/4] END .........activation=logistic;, score=0.051 total time= 2.4min\n",
      "[CV 10/10; 2/4] START activation=logistic.......................................\n",
      "[CV 10/10; 2/4] END .......activation=logistic;, score=-0.013 total time= 2.2min\n",
      "[CV 1/10; 3/4] START activation=tanh............................................\n",
      "[CV 1/10; 3/4] END .............activation=tanh;, score=0.023 total time= 2.2min\n",
      "[CV 2/10; 3/4] START activation=tanh............................................\n",
      "[CV 2/10; 3/4] END .............activation=tanh;, score=0.009 total time= 1.7min\n",
      "[CV 3/10; 3/4] START activation=tanh............................................\n",
      "[CV 3/10; 3/4] END ............activation=tanh;, score=-0.025 total time= 2.2min\n",
      "[CV 4/10; 3/4] START activation=tanh............................................\n",
      "[CV 4/10; 3/4] END .............activation=tanh;, score=0.011 total time= 1.9min\n",
      "[CV 5/10; 3/4] START activation=tanh............................................\n",
      "[CV 5/10; 3/4] END ............activation=tanh;, score=-0.054 total time= 2.2min\n",
      "[CV 6/10; 3/4] START activation=tanh............................................\n",
      "[CV 6/10; 3/4] END .............activation=tanh;, score=0.072 total time= 2.2min\n",
      "[CV 7/10; 3/4] START activation=tanh............................................\n",
      "[CV 7/10; 3/4] END .............activation=tanh;, score=0.015 total time= 2.3min\n",
      "[CV 8/10; 3/4] START activation=tanh............................................\n",
      "[CV 8/10; 3/4] END .............activation=tanh;, score=0.033 total time= 1.7min\n",
      "[CV 9/10; 3/4] START activation=tanh............................................\n",
      "[CV 9/10; 3/4] END .............activation=tanh;, score=0.025 total time= 2.1min\n",
      "[CV 10/10; 3/4] START activation=tanh...........................................\n",
      "[CV 10/10; 3/4] END ...........activation=tanh;, score=-0.056 total time= 1.8min\n",
      "[CV 1/10; 4/4] START activation=relu............................................\n",
      "[CV 1/10; 4/4] END .............activation=relu;, score=0.009 total time=  56.4s\n",
      "[CV 2/10; 4/4] START activation=relu............................................\n",
      "[CV 2/10; 4/4] END ............activation=relu;, score=-0.016 total time= 1.3min\n",
      "[CV 3/10; 4/4] START activation=relu............................................\n",
      "[CV 3/10; 4/4] END ............activation=relu;, score=-0.017 total time= 1.1min\n",
      "[CV 4/10; 4/4] START activation=relu............................................\n",
      "[CV 4/10; 4/4] END .............activation=relu;, score=0.004 total time= 1.5min\n",
      "[CV 5/10; 4/4] START activation=relu............................................\n",
      "[CV 5/10; 4/4] END ............activation=relu;, score=-0.098 total time= 1.3min\n",
      "[CV 6/10; 4/4] START activation=relu............................................\n",
      "[CV 6/10; 4/4] END .............activation=relu;, score=0.060 total time=  59.4s\n",
      "[CV 7/10; 4/4] START activation=relu............................................\n",
      "[CV 7/10; 4/4] END .............activation=relu;, score=0.011 total time=  56.7s\n",
      "[CV 8/10; 4/4] START activation=relu............................................\n",
      "[CV 8/10; 4/4] END ............activation=relu;, score=-0.022 total time= 1.3min\n",
      "[CV 9/10; 4/4] START activation=relu............................................\n",
      "[CV 9/10; 4/4] END .............activation=relu;, score=0.012 total time= 1.0min\n",
      "[CV 10/10; 4/4] START activation=relu...........................................\n",
      "[CV 10/10; 4/4] END ...........activation=relu;, score=-0.077 total time= 1.1min\n"
     ]
    }
   ],
   "source": [
    "from sklearn.linear_model import LinearRegression\n",
    "\n",
    "full_model=Pipeline([('union', union),\n",
    "                    ('linear_regression', LinearRegression())])\n",
    "full_model.fit(data, star_ratings)"
   ]
  },
  {
   "cell_type": "code",
   "execution_count": null,
   "id": "9cc9f1ee",
   "metadata": {
    "slideshow": null
   },
   "outputs": [],
   "source": [
    "grader.score('ml__full_model', full_model.predict)  # Edit to appropriate name"
   ]
  },
  {
   "cell_type": "markdown",
   "id": "93fe2451",
   "metadata": {
    "slideshow": null
   },
   "source": [
    "**Extension:** Try a non-linear model such as [`RandomForestRegressor`](http://scikit-learn.org/stable/modules/generated/sklearn.ensemble.RandomForestRegressor.html#sklearn.ensemble.RandomForestRegressor) to blend the predictions of the four models. Are you able to get better results? If so, what do you think it's learning how to do?"
   ]
  },
  {
   "cell_type": "markdown",
   "id": "3ef6fd99",
   "metadata": {
    "slideshow": null
   },
   "source": [
    "*Copyright &copy; 2023 Pragmatic Institute. This content is licensed solely for personal use. Redistribution or publication of this material is strictly prohibited.*"
   ]
  }
 ],
 "metadata": {
  "kernelspec": {
   "display_name": "Python3",
   "language": "python",
   "name": "python3"
  },
  "language_info": {
   "codemirror_mode": {
    "name": "ipython",
    "version": 3
   },
   "file_extension": ".py",
   "mimetype": "text/x-python",
   "name": "python",
   "nbconvert_exporter": "python",
   "pygments_lexer": "ipython3",
   "version": "3.10.8"
  },
  "nbclean": true
 },
 "nbformat": 4,
 "nbformat_minor": 5
}
