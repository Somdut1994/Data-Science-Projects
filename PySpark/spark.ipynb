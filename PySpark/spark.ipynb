{
 "cells": [
  {
   "cell_type": "code",
   "execution_count": 1,
   "id": "be4b6c1c",
   "metadata": {
    "slideshow": null
   },
   "outputs": [],
   "source": [
    "import seaborn as sns\n",
    "sns.set()"
   ]
  },
  {
   "cell_type": "code",
   "execution_count": 2,
   "id": "2915ce0f",
   "metadata": {
    "slideshow": null
   },
   "outputs": [],
   "source": [
    "from static_grader import grader"
   ]
  },
  {
   "cell_type": "markdown",
   "id": "29f865a1",
   "metadata": {
    "slideshow": null
   },
   "source": [
    "# Spark Miniproject\n"
   ]
  },
  {
   "cell_type": "markdown",
   "id": "fc25b183",
   "metadata": {
    "slideshow": null
   },
   "source": [
    "Stack Overflow is a collaboratively edited question-and-answer site originally focused on programming topics. Because of the variety of features tracked, including a variety of feedback metrics, it allows for some open-ended analysis of user behavior on the site.\n",
    "\n",
    "Stack Exchange (the parent organization) provides an anonymized [data dump](https://archive.org/details/stackexchange), and we'll use Spark to perform data manipulation, analysis, and machine learning on this data set. As a side note, there's also an online data explorer which allows you to query the data interactively.\n",
    "\n",
    "*Consider*: Do we need to use Spark to work with this data set? What are our alternatives?"
   ]
  },
  {
   "cell_type": "markdown",
   "id": "1c18065b",
   "metadata": {
    "slideshow": null
   },
   "source": [
    "## Workflow\n"
   ]
  },
  {
   "cell_type": "markdown",
   "id": "ba1284fe",
   "metadata": {
    "slideshow": null
   },
   "source": [
    "**All questions in this miniproject can be done locally in this notebook (i.e. on your Jupyter pod).**  \n",
    "\n",
    "You are free to try running on a cloud service, but note that we have no resources to pay for you to try out these services.  (New users often get a limited amount of free credit to try a service.)  Also, the grader library will not be available, so you would have to get your answers into this notebook to submit to the grader.   See the appropriate lecture notebooks for information on how to use cloud services if you want to try them out.\n",
    "\n",
    "Python example workflow when **not** running in a Jupyter notebook:\n",
    "\n",
    "1. Edit source code in your `main.py` file, classes in a separate `classes.py` (class definitions need to be written in a separate file and then included at runtime).\n",
    "1. If you are using a cloud service, in order to make your code more flexible, it's recommended to incorporate command-line arguments that specify the location of the input data and where output should be written.\n",
    "``` python\n",
    "# Command line arguments using sysv or argparse in Python\n",
    "if __name__ == '__main__':\n",
    "    main(ARGS.input_dir, ARGS.output_dir)\n",
    "```\n",
    "1. Run locally using the `spark-submit` program on a chunk using, eg., `$SPARK_HOME/bin/spark-submit --py-files src/classes.py src/main.py data/stats results/stats/`  Note that long jobs using `spark-submit` may not finish before your server gets automatically shut down (our server only checks for running Jupyter notebooks to avoid shutting down).  \n",
    "1. Run on Amazon Web Services (AWS) once your testing and development are done.  Note that you will also have to load all of the input data on an AWS bucket.  (Similar statements apply if you were to use Google Cloud Platform (GCP) or other services.)  \n",
    "\n",
    "General tips when using `spark-submit` or working on a cloud service:\n",
    "* Try `cat output_dir/* | sort -n -t , -k 1.2 -o sorted_output` to concatenate your output files, which will be in `part-xxxxx` format.\n",
    "* You can alternatively access an interactive PySpark shell on your Jupyter pod with this command: `$SPARK_HOME/bin/pyspark`"
   ]
  },
  {
   "cell_type": "markdown",
   "id": "5ccf3e24",
   "metadata": {
    "slideshow": null
   },
   "source": [
    "## Accessing the data\n"
   ]
  },
  {
   "cell_type": "markdown",
   "id": "dc49c77f",
   "metadata": {
    "slideshow": null
   },
   "source": [
    "The data is available on S3 (`s3://dataincubator-course/spark-stack-data`). There are three sub-folders, `allUsers`, `allPosts`, and `allVotes` which contain Gzipped XML.  The `allPosts` sub-folder will contain data with the following format:\n",
    "\n",
    "``` html\n",
    "<row Body=\"&lt;p&gt;I always validate my web pages, and I recommend you do the same BUT many large company websites DO NOT and cannot validate because the importance of the website looking exactly the same on all systems requires rules to be broken. &lt;/p&gt;&#10;&#10;&lt;p&gt;In general, valid websites help your page look good even on odd configurations (like cell phones) so you should always at least try to make it validate.&lt;/p&gt;&#10;\" CommentCount=\"0\" CreationDate=\"2008-10-12T20:26:29.397\" Id=\"195995\" LastActivityDate=\"2008-10-12T20:26:29.397\" OwnerDisplayName=\"Eric Wendelin\" OwnerUserId=\"25066\" ParentId=\"195973\" PostTypeId=\"2\" Score=\"0\" />\n",
    "```\n",
    "\n",
    "Data from the much smaller `stats.stackexchange.com` website (called \"Cross Validated\") is available in the same format on S3 (`s3://dataincubator-course/spark-stats-data`). This smaller data set will be used below in most questions to avoid working with the full data set for every question.\n",
    "\n",
    "The full schema is available as a text file, which can be downloaded with the following command."
   ]
  },
  {
   "cell_type": "code",
   "execution_count": 3,
   "id": "24bf9a69",
   "metadata": {
    "slideshow": null
   },
   "outputs": [
    {
     "name": "stdout",
     "output_type": "stream",
     "text": [
      "Completed 4.6 KiB/4.6 KiB (43.8 KiB/s) with 1 file(s) remaining\r",
      "download: s3://dataincubator-course/spark-stats-data/stack_exchange_schema.txt to ./stack_exchange_schema.txt\r\n"
     ]
    }
   ],
   "source": [
    "!aws s3 cp s3://dataincubator-course/spark-stats-data/stack_exchange_schema.txt ."
   ]
  },
  {
   "cell_type": "markdown",
   "id": "3d1d886f",
   "metadata": {
    "slideshow": null
   },
   "source": [
    "You can either get the data by running the appropriate S3 commands in the terminal, or by running this block for the smaller stats data set:"
   ]
  },
  {
   "cell_type": "code",
   "execution_count": 4,
   "id": "6a6bf1b0",
   "metadata": {
    "slideshow": null
   },
   "outputs": [],
   "source": [
    "!mkdir -p spark-stats-data\n",
    "!aws s3 sync --exclude '*' --include 'all*' s3://dataincubator-course/spark-stats-data/ ./spark-stats-data\n",
    "!aws s3 sync --exclude '*' --include 'posts*zip' s3://dataincubator-course/spark-stats-data/ ./spark-stats-data"
   ]
  },
  {
   "cell_type": "markdown",
   "id": "ca0f4c36",
   "metadata": {
    "slideshow": null
   },
   "source": [
    "And to get the much larger full data set (be warned, this can take 20 or more minutes, so you may want to run it in the terminal to avoid locking up the notebook):"
   ]
  },
  {
   "cell_type": "code",
   "execution_count": 5,
   "id": "09bb2fb4",
   "metadata": {
    "slideshow": null
   },
   "outputs": [],
   "source": [
    "!mkdir -p spark-stack-data\n",
    "!aws s3 sync --exclude '*' --include 'all*' s3://dataincubator-course/spark-stack-data/ ./spark-stack-data"
   ]
  },
  {
   "cell_type": "markdown",
   "id": "f0efcb68",
   "metadata": {
    "slideshow": null
   },
   "source": [
    "## Data input and parsing\n"
   ]
  },
  {
   "cell_type": "markdown",
   "id": "4232d89f",
   "metadata": {
    "slideshow": null
   },
   "source": [
    "Some rows are split across multiple lines; these can be discarded. Incorrectly formatted XML can also be ignored. It is enough to simply skip problematic rows, the loss of data will not significantly impact our results on these large data sets.\n",
    "\n",
    "**You will need to handle XML parsing yourself.  Our solution uses `lxml.etree` in Python, and we would recommend using this tool yourself to handle the XML parsing.**\n",
    "\n",
    "The goal should be to have a parsing function that can be applied to the input data to access any desired XML elements. You might find it convenient to represent the post, votes, users, etc. data using [`namedtuples`](https://docs.python.org/3/library/collections.html?highlight=namedtuple#collections.namedtuple)."
   ]
  },
  {
   "cell_type": "markdown",
   "id": "fb35c468",
   "metadata": {
    "slideshow": null
   },
   "source": [
    "## Structure"
   ]
  },
  {
   "cell_type": "markdown",
   "id": "fb230a9d",
   "metadata": {
    "slideshow": null
   },
   "source": [
    "This miniproject is divided into two parts, called `spark_data` and `spark_ml`. The first part is doing data analysis in spark, on both a small data set and a large one. This consists of the first six questions in the notebook. The second part is using Spark ML to do machine learning, and is the last two questions. They are distinguished both by sections in the notebook and the question names."
   ]
  },
  {
   "cell_type": "markdown",
   "id": "a815810b",
   "metadata": {
    "slideshow": null
   },
   "source": [
    "## Spark data section"
   ]
  },
  {
   "cell_type": "markdown",
   "id": "e47cd6f6",
   "metadata": {
    "slideshow": null
   },
   "source": [
    "## Question 1: Bad XML\n"
   ]
  },
  {
   "cell_type": "markdown",
   "id": "ffa3616b",
   "metadata": {
    "slideshow": null
   },
   "source": [
    "This first question is a simple question to test your parsing code. Create an RDD of Post objects where each Post is a valid row of XML from the small \"Cross Validated\" (stats.stackexchange.com) `allPosts` data set.\n",
    "\n",
    "We are going to take several shortcuts to speed up and simplify our computations.  First, your parsing function should only attempt to parse rows that start with `<row` as these denote actual data entries. This should be done in Spark as the data is being read in from disk, without any pre-Spark processing. \n",
    "\n",
    "Return the total number of XML rows that started with `<row` that were subsequently **rejected** during your XML processing.  Note that the text is Unicode, and contains non-ASCII characters.  You may need to re-encode to UTF-8 (depending on your XML parser).\n",
    "\n",
    "**Note that this cleaned data set will be used for questions 1-5.**  (For questions 6-8, you want to similarly remove improperly formatted XML from that data before proceeding further.)  \n",
    "\n",
    "*Question*: Can you figure out what filters you need to put in place to avoid throwing parsing errors entirely?"
   ]
  },
  {
   "cell_type": "code",
   "execution_count": 3,
   "id": "a17de02c",
   "metadata": {},
   "outputs": [
    {
     "name": "stderr",
     "output_type": "stream",
     "text": [
      "Setting default log level to \"WARN\".\n",
      "To adjust logging level use sc.setLogLevel(newLevel). For SparkR, use setLogLevel(newLevel).\n"
     ]
    }
   ],
   "source": [
    "from pyspark import SparkContext\n",
    "from lxml import etree \n",
    "\n",
    "sc = SparkContext.getOrCreate()\n",
    "\n",
    "def parseLines(xml_string):\n",
    "    parser = etree.XMLParser()\n",
    "    try:\n",
    "        xml_root = etree.fromstring(xml_string, parser)\n",
    "    except Exception:\n",
    "        return False\n",
    "    return True\n",
    "    \n",
    "\n",
    "lines = (sc.textFile('spark-stats-data/allPosts/')\n",
    "           .filter(lambda txt: len(txt.split())>0 and len(txt.split()[0])>=4 and txt.split()[0][:4]=='<row'))\n",
    "\n",
    "good_lines= (sc.textFile('spark-stats-data/allPosts/')\n",
    "               .filter(lambda txt: len(txt.split())>0 and len(txt.split()[0])>=4 and txt.split()[0][:4]=='<row')\n",
    "               .filter(parseLines))\n"
   ]
  },
  {
   "cell_type": "code",
   "execution_count": 7,
   "id": "94518147",
   "metadata": {
    "slideshow": null
   },
   "outputs": [
    {
     "name": "stdout",
     "output_type": "stream",
     "text": [
      "==================\n",
      "Your score: 1.0000\n",
      "==================\n"
     ]
    }
   ],
   "source": [
    "bad_xml = lines.count() - good_lines.count()\n",
    "\n",
    "grader.score('spark_data__bad_xml', bad_xml)"
   ]
  },
  {
   "cell_type": "markdown",
   "id": "5088b6a8",
   "metadata": {
    "slideshow": null
   },
   "source": [
    "## Question 2: Favorites and scores"
   ]
  },
  {
   "cell_type": "markdown",
   "id": "1f00933f",
   "metadata": {
    "slideshow": null
   },
   "source": [
    "We're interested in looking for useful patterns in the data.  If we look at the Post data again (the smaller set, `stats.stackexchange.com`), we see that many things about each post are recorded.  We're going to start by looking to see if there is a relationship between the number of times a post was favorited (the `FavoriteCount`) and the `Score`.  The score is the number of times the post was upvoted minus the number of times it was downvoted, so it is a measure of how much a post was liked.  We'd expect posts with a higher number of favorites to have better scores, since they're both measurements of how good the post is.\n",
    "\n",
    "Let's aggregate posts by the number of favorites, and find the average score for each number of favorites.  Do this for the lowest 50 numbers of favorites.\n",
    "\n",
    "**If any field in the Posts or Users is missing, such as the `FavoriteCount`, you should assume it is zero. _Make this assumption for all questions going forward._**\n",
    "\n",
    "_Note:_ Before submitting, take a look at the numbers.  Do they follow the trend you expect?\n",
    "\n",
    "**Checkpoints**\n",
    "\n",
    "- Total score across all posts: 299469\n",
    "- Mean of first 50 favorite counts (averaging the keys themselves): 24.76"
   ]
  },
  {
   "cell_type": "code",
   "execution_count": 8,
   "id": "cd1ff504",
   "metadata": {},
   "outputs": [],
   "source": [
    "from collections import namedtuple\n",
    "record_tuple = namedtuple('record_tuple', ['postId','FavoriteCount','Score', 'postType'])\n",
    "\n",
    "\n",
    "def parsePost(xml_string):\n",
    "    parser = etree.XMLParser()\n",
    "    xml_root = etree.fromstring(xml_string, parser)\n",
    "    Map=xml_root.attrib\n",
    "    postId=int(Map['Id'])\n",
    "    if 'FavoriteCount' in Map:\n",
    "        FavoriteCount=int(Map['FavoriteCount'])\n",
    "    else:\n",
    "        FavoriteCount=0\n",
    "    if 'Score' in Map:\n",
    "        Score=int(Map['Score'])\n",
    "    else:\n",
    "        Score=0\n",
    "    postType=int(Map['PostTypeId'])\n",
    "    return record_tuple(postId, FavoriteCount, Score, postType)\n",
    "       \n",
    "# xml_list=good_lines.take(10)\n",
    "# for xml_string in xml_list:\n",
    "#     print(parsePost(xml_string))\n",
    "\n",
    "parsedData=(good_lines.map(parsePost)\n",
    "                     .map(lambda record: (record.FavoriteCount, (record.Score, 1)))\n",
    "                     .reduceByKey(lambda a, b: (a[0]+b[0], a[1]+b[1])))\n",
    "favs=parsedData.map(lambda c: (c[0], -1 if c[1][1]==0 else c[1][0]/c[1][1])).distinct()\n",
    "\n",
    "allData=favs.take(10000)\n",
    "allData.sort()\n"
   ]
  },
  {
   "cell_type": "code",
   "execution_count": 9,
   "id": "67a304f1",
   "metadata": {
    "slideshow": null
   },
   "outputs": [
    {
     "name": "stdout",
     "output_type": "stream",
     "text": [
      "==================\n",
      "Your score: 1.0000\n",
      "==================\n"
     ]
    }
   ],
   "source": [
    "favorite_score = allData[:50]\n",
    "\n",
    "grader.score('spark_data__favorite_score', favorite_score)"
   ]
  },
  {
   "cell_type": "markdown",
   "id": "398856b9",
   "metadata": {
    "slideshow": null
   },
   "source": [
    "## Question 3: Answer percentage\n"
   ]
  },
  {
   "cell_type": "markdown",
   "id": "3061487f",
   "metadata": {
    "slideshow": null
   },
   "source": [
    "Investigate the correlation between a user's reputation and the kind of posts they make. For the 99 users with the highest reputation, single out posts which are either questions or answers and look at the percentage of these posts that are answers: *(answers / (answers + questions))*. \n",
    "\n",
    "Return a tuple of their **user ID** and this fraction.\n",
    "\n",
    "You should also return (-1, fraction) to represent the case where you average over all users (so you will return 100 entries total).\n",
    "\n",
    "Again, you only need to run this on the statistics overflow set.\n"
   ]
  },
  {
   "cell_type": "markdown",
   "id": "e7abc009",
   "metadata": {
    "slideshow": null
   },
   "source": [
    "#### Checkpoints"
   ]
  },
  {
   "cell_type": "markdown",
   "id": "4bba8777",
   "metadata": {
    "slideshow": null
   },
   "source": [
    "* Total questions: 52,060\n",
    "* Total answers: 55,304\n",
    "* Top 99 users' average reputation: 11893.464646464647"
   ]
  },
  {
   "cell_type": "code",
   "execution_count": 10,
   "id": "c2e4f6e0",
   "metadata": {},
   "outputs": [],
   "source": [
    "user_lines = (sc.textFile('spark-stats-data/allUsers/')\n",
    "           .filter(lambda txt: len(txt.split())>0 and len(txt.split()[0])>=4 and txt.split()[0][:4]=='<row'))\n",
    "user_lines.take(4)\n",
    "\n",
    "def parseUserLines(xml_string):\n",
    "    parser = etree.XMLParser()\n",
    "    try:\n",
    "        xml_root = etree.fromstring(xml_string, parser)\n",
    "        Map=xml_root.attrib\n",
    "        userId=int(Map['Id'])        \n",
    "    except Exception:\n",
    "        return False\n",
    "    return True\n",
    "\n",
    "record_tuple = namedtuple('record_tuple', ['userId','Reputation'])\n",
    "\n",
    "def parseUser(xml_string):\n",
    "    parser = etree.XMLParser()\n",
    "    xml_root = etree.fromstring(xml_string, parser)\n",
    "    Map=xml_root.attrib\n",
    "    userId=int(Map['Id'])\n",
    "    Reputation=0 if 'Reputation' not in Map else int(Map['Reputation'])\n",
    "    return record_tuple(userId, Reputation)\n",
    "\n",
    "good_user_lines= (user_lines.filter(parseUserLines)\n",
    "                            .map(parseUser))\n",
    "\n",
    "user_summary=(good_user_lines.map(lambda record: (-record.Reputation, record.userId))\n",
    "                             .sortByKey())\n",
    "\n",
    "top_users=[i[1] for i in user_summary.take(99)]"
   ]
  },
  {
   "cell_type": "code",
   "execution_count": 11,
   "id": "06cd7dbe",
   "metadata": {},
   "outputs": [],
   "source": [
    "def FilterUser(xml_string):\n",
    "    parser = etree.XMLParser()\n",
    "    xml_root = etree.fromstring(xml_string, parser)\n",
    "    Map=xml_root.attrib\n",
    "    return 'OwnerUserId' in Map\n",
    "\n",
    "record_tuple = namedtuple('record_tuple', ['userId','postType'])\n",
    "\n",
    "def parseUser(xml_string):\n",
    "    parser = etree.XMLParser()\n",
    "    xml_root = etree.fromstring(xml_string, parser)\n",
    "    Map=xml_root.attrib\n",
    "    userId=int(Map['OwnerUserId'])\n",
    "    postType=int(Map['PostTypeId'])\n",
    "    return record_tuple(userId, postType)\n",
    "\n",
    "userData=(good_lines.filter(FilterUser)\n",
    "                    .map(parseUser)\n",
    "                    .map(lambda record: (record.userId, (1 if record.postType!=1 else 0, 1)))\n",
    "                    .reduceByKey(lambda a, b: (a[0]+b[0], a[1]+b[1])))\n",
    "\n",
    "QnA_summary=(userData.distinct()\n",
    "                     .map(lambda c: (c[0], c[1][0]/c[1][1])))\n",
    "\n",
    "\n",
    "\n",
    "tot_summary=(userData.map(lambda c: (1, (c[1][0], c[1][1])))\n",
    "                     .reduceByKey(lambda a, b: (a[0]+b[0], a[1]+b[1]))\n",
    "                     .distinct()\n",
    "                     .map(lambda c: (c[0], c[1][0]/c[1][1]))).take(1)\n",
    "\n",
    "QnA_summary=QnA_summary.take(QnA_summary.count())\n",
    "\n",
    "from collections import defaultdict\n",
    "frac_map=defaultdict(int)\n",
    "for user, fraction in QnA_summary:\n",
    "    frac_map[user]=fraction\n",
    "\n",
    "\n",
    "answer_percentage=[(-1, tot_summary[0][1])]+[(user, frac_map[user]) for user in top_users]"
   ]
  },
  {
   "cell_type": "code",
   "execution_count": 12,
   "id": "7e76f255",
   "metadata": {
    "slideshow": null
   },
   "outputs": [
    {
     "name": "stdout",
     "output_type": "stream",
     "text": [
      "==================\n",
      "Your score: 1.0000\n",
      "==================\n"
     ]
    }
   ],
   "source": [
    "#answer_percentage = [(7071, 0.9107142857142857)] * 100\n",
    "\n",
    "grader.score('spark_data__answer_percentage', answer_percentage)"
   ]
  },
  {
   "cell_type": "markdown",
   "id": "37eb5716",
   "metadata": {
    "slideshow": null
   },
   "source": [
    "## Question 4: First question"
   ]
  },
  {
   "cell_type": "markdown",
   "id": "fd1c654f",
   "metadata": {
    "slideshow": null
   },
   "source": [
    "We'd expect the first **question** a user asks to be indicative of their future behavior.  We'll dig more into that in the next problem, but for now let's see the relationship between reputation and how long it took each person to ask their first question.\n",
    "\n",
    "For each user that asked a question, find the difference between when their account was created (`CreationDate` for the User) and when they asked their first question (`CreationDate` for their first question).  Return this time difference in days (round down, so 2.7 days counts as 2 days) for the 100 users with the highest reputation, in the form\n",
    "\n",
    "`(UserId, Days)`\n",
    "\n",
    "**Checkpoints**\n",
    "- Users that asked a question: 23134\n",
    "- Average number of days (round each user's days, then average): 30.1074258"
   ]
  },
  {
   "cell_type": "code",
   "execution_count": 13,
   "id": "48d5ebc7",
   "metadata": {},
   "outputs": [],
   "source": [
    "def parseUserLines(xml_string):\n",
    "    parser = etree.XMLParser()\n",
    "    try:\n",
    "        xml_root = etree.fromstring(xml_string, parser)\n",
    "        Map=xml_root.attrib\n",
    "        userId=int(Map['Id'])        \n",
    "    except Exception:\n",
    "        return False\n",
    "    return True\n",
    "\n",
    "user_tuple = namedtuple('user_tuple', ['userId','Reputation', 'CreationDateUser'])\n",
    "\n",
    "def parseUser(xml_string):\n",
    "    parser = etree.XMLParser()\n",
    "    xml_root = etree.fromstring(xml_string, parser)\n",
    "    Map=xml_root.attrib\n",
    "    userId=int(Map['Id'])\n",
    "    Reputation=0 if 'Reputation' not in Map else int(Map['Reputation'])\n",
    "    return user_tuple(userId, Reputation, Map['CreationDate'])\n",
    "\n",
    "userData= (user_lines.filter(parseUserLines)\n",
    "                            .map(parseUser))"
   ]
  },
  {
   "cell_type": "code",
   "execution_count": 14,
   "id": "a7967086",
   "metadata": {},
   "outputs": [],
   "source": [
    "def FilterPost(xml_string):\n",
    "    parser = etree.XMLParser()\n",
    "    xml_root = etree.fromstring(xml_string, parser)\n",
    "    Map=xml_root.attrib\n",
    "    return 'OwnerUserId' in Map\n",
    "\n",
    "post_tuple = namedtuple('post_tuple', ['userId','CreationDatePost', 'isQuestion'])\n",
    "\n",
    "def parsePost(xml_string):\n",
    "    parser = etree.XMLParser()\n",
    "    xml_root = etree.fromstring(xml_string, parser)\n",
    "    Map=xml_root.attrib\n",
    "    userId=int(Map['OwnerUserId'])\n",
    "    return post_tuple(userId, Map['CreationDate'], int(Map['PostTypeId'])==1)\n",
    "\n",
    "postData=(good_lines.filter(FilterPost)\n",
    "                    .map(parsePost)\n",
    "                    .filter(lambda record: record.isQuestion))\n"
   ]
  },
  {
   "cell_type": "code",
   "execution_count": 15,
   "id": "04f03446",
   "metadata": {},
   "outputs": [
    {
     "data": {
      "text/plain": [
       "300"
      ]
     },
     "execution_count": 15,
     "metadata": {},
     "output_type": "execute_result"
    }
   ],
   "source": [
    "min_rep=-(userData.map(lambda record: (-record.Reputation, record.userId))\n",
    "                 .sortByKey()).take(300)[-1][0]\n",
    "userData=userData.filter(lambda record: record.Reputation>=min_rep)\n",
    "userData.count()\n",
    "            "
   ]
  },
  {
   "cell_type": "code",
   "execution_count": 16,
   "id": "6c2a62a4",
   "metadata": {},
   "outputs": [],
   "source": [
    "info=userData.map(lambda c: (c.userId, c.Reputation)).collect()\n",
    "\n",
    "repu_map={}\n",
    "for ID, repu in info:\n",
    "    repu_map[ID]=repu\n",
    "    "
   ]
  },
  {
   "cell_type": "code",
   "execution_count": 17,
   "id": "59eef41c",
   "metadata": {},
   "outputs": [],
   "source": [
    "from datetime import datetime, timedelta\n",
    "\n",
    "UserPostInfo = (postData.map(lambda p: (p.userId, p.CreationDatePost)) \n",
    "                .join(userData.map(lambda u: (u.userId, u.CreationDateUser)))\n",
    "                .reduceByKey(lambda a, b: (min(a[0], b[0]), min(a[1], b[1])))\n",
    "                .map(lambda c: (c[0], int(timedelta.total_seconds(datetime.strptime(c[1][0], \"%Y-%m-%dT%H:%M:%S.%f\")-datetime.strptime(c[1][1], \"%Y-%m-%dT%H:%M:%S.%f\"))/86400)))).collect()\n",
    "\n",
    "first_question_extra=[]\n",
    "for item in UserPostInfo:\n",
    "    first_question_extra.append([repu_map[item[0]], item[0], item[1]])"
   ]
  },
  {
   "cell_type": "code",
   "execution_count": 18,
   "id": "036f006a",
   "metadata": {},
   "outputs": [],
   "source": [
    "first_question=[(i[1], i[2]) for i in sorted(first_question_extra, reverse=True)][:100]"
   ]
  },
  {
   "cell_type": "code",
   "execution_count": 19,
   "id": "7be33154",
   "metadata": {
    "slideshow": null
   },
   "outputs": [
    {
     "name": "stdout",
     "output_type": "stream",
     "text": [
      "==================\n",
      "Your score: 1.0000\n",
      "==================\n"
     ]
    }
   ],
   "source": [
    "#first_question = [(805, 669)] * 100\n",
    "\n",
    "grader.score('spark_data__first_question', first_question)"
   ]
  },
  {
   "cell_type": "markdown",
   "id": "8002f444",
   "metadata": {
    "slideshow": null
   },
   "source": [
    "## Question 5: Identify veterans\n"
   ]
  },
  {
   "cell_type": "markdown",
   "id": "c9a5e040",
   "metadata": {
    "slideshow": null
   },
   "source": [
    "It can be interesting to think about what factors influence a user to remain active on the site over a long period of time. In order not to bias the results towards older users, we'll define a time window between 100 and 150 days after account creation. If the user has made a post in this time, we'll consider them active and well on their way to being veterans of the site; if not, they are inactive and were likely brief users.\n",
    "\n",
    "*Consider*: What other parameterizations of \"activity\" could we use, and how would they differ in terms of splitting our user base?\n",
    "\n",
    "*Consider*: What other biases are still not dealt with, after using the above approach?\n",
    "\n",
    "Let's see if there are differences between the first ever question posts of \"veterans\" vs. \"brief users\". For each group separately, average the score, views, number of answers, and number of favorites of the users' **first question**. Remember, if the score, views, answers, or favorites is missing, you should assume it is zero.\n",
    "\n",
    "*Consider*: What story could you tell from these numbers? How do the numbers support it?\n"
   ]
  },
  {
   "cell_type": "markdown",
   "id": "e3c581de",
   "metadata": {
    "slideshow": null
   },
   "source": [
    "#### Checkpoints"
   ]
  },
  {
   "cell_type": "markdown",
   "id": "0b928556",
   "metadata": {
    "slideshow": null
   },
   "source": [
    "* Total brief users: 24,864\n",
    "* Total veteran users: 2,027"
   ]
  },
  {
   "cell_type": "code",
   "execution_count": 20,
   "id": "80830d96",
   "metadata": {},
   "outputs": [],
   "source": [
    "def FilterUser(xml_string):\n",
    "    parser = etree.XMLParser()\n",
    "    try:\n",
    "        xml_root = etree.fromstring(xml_string, parser)\n",
    "        Map=xml_root.attrib\n",
    "        userId=int(Map['Id'])        \n",
    "    except Exception:\n",
    "        return False\n",
    "    return True\n",
    "\n",
    "user_tuple = namedtuple('user_tuple', ['userId', 'CreationDateUser'])\n",
    "\n",
    "def parseUser(xml_string):\n",
    "    parser = etree.XMLParser()\n",
    "    xml_root = etree.fromstring(xml_string, parser)\n",
    "    Map=xml_root.attrib\n",
    "    userId=int(Map['Id'])\n",
    "    return user_tuple(userId, Map['CreationDate'])\n",
    "\n",
    "userData= (user_lines.filter(FilterUser)\n",
    "                     .map(parseUser))\n",
    "\n",
    "\n",
    "def FilterPost(xml_string):\n",
    "    parser = etree.XMLParser()\n",
    "    xml_root = etree.fromstring(xml_string, parser)\n",
    "    Map=xml_root.attrib\n",
    "    return 'OwnerUserId' in Map\n",
    "\n",
    "post_tuple = namedtuple('post_tuple', ['userId','CreationDatePost', 'FavoriteCount', 'postType', 'AnswerCount', 'Score', 'ViewCount'])\n",
    "\n",
    "def parsePost(xml_string):\n",
    "    parser = etree.XMLParser()\n",
    "    xml_root = etree.fromstring(xml_string, parser)\n",
    "    Map=xml_root.attrib\n",
    "    userId=int(Map['OwnerUserId'])\n",
    "    if 'FavoriteCount' not in Map:\n",
    "        FavoriteCount=0\n",
    "    else:\n",
    "        FavoriteCount=int(Map['FavoriteCount'])\n",
    "    if 'Score' not in Map:\n",
    "        Score=0\n",
    "    else:\n",
    "        Score=int(Map['Score']) \n",
    "    if 'ViewCount' not in Map:\n",
    "        ViewCount=0\n",
    "    else:\n",
    "        ViewCount=int(Map['ViewCount'])   \n",
    "    if 'AnswerCount' not in Map:\n",
    "        AnswerCount=0\n",
    "    else:\n",
    "        AnswerCount=int(Map['AnswerCount'])         \n",
    "    postType=int(Map['PostTypeId'])    \n",
    "    return post_tuple(userId, Map['CreationDate'], FavoriteCount, postType, AnswerCount, Score, ViewCount)\n",
    "\n",
    "postData=(good_lines.filter(FilterPost)\n",
    "                    .map(parsePost))\n"
   ]
  },
  {
   "cell_type": "code",
   "execution_count": 21,
   "id": "dd94776c",
   "metadata": {},
   "outputs": [
    {
     "data": {
      "text/plain": [
       "[freq_user_type(userId=36127, user_type='brief'),\n",
       " freq_user_type(userId=41197, user_type='brief'),\n",
       " freq_user_type(userId=41015, user_type='brief'),\n",
       " freq_user_type(userId=30589, user_type='brief'),\n",
       " freq_user_type(userId=41249, user_type='brief'),\n",
       " freq_user_type(userId=8333, user_type='vet'),\n",
       " freq_user_type(userId=10998, user_type='brief'),\n",
       " freq_user_type(userId=8580, user_type='brief'),\n",
       " freq_user_type(userId=17459, user_type='brief'),\n",
       " freq_user_type(userId=40976, user_type='vet'),\n",
       " freq_user_type(userId=41301, user_type='brief'),\n",
       " freq_user_type(userId=34658, user_type='vet'),\n",
       " freq_user_type(userId=38012, user_type='brief'),\n",
       " freq_user_type(userId=8515, user_type='brief'),\n",
       " freq_user_type(userId=26338, user_type='brief'),\n",
       " freq_user_type(userId=41392, user_type='brief'),\n",
       " freq_user_type(userId=30342, user_type='brief'),\n",
       " freq_user_type(userId=40378, user_type='brief'),\n",
       " freq_user_type(userId=11037, user_type='brief'),\n",
       " freq_user_type(userId=20657, user_type='brief')]"
      ]
     },
     "execution_count": 21,
     "metadata": {},
     "output_type": "execute_result"
    }
   ],
   "source": [
    "def dateDiff(nxt, prev):\n",
    "    prev_time=datetime.strptime(prev, \"%Y-%m-%dT%H:%M:%S.%f\")\n",
    "    nxt_time=datetime.strptime(nxt, \"%Y-%m-%dT%H:%M:%S.%f\")\n",
    "    return int(timedelta.total_seconds(nxt_time-prev_time)/86400)\n",
    "\n",
    "freq_user_type=namedtuple('freq_user_type', ['userId','user_type'])\n",
    "\n",
    "vetInfo = (postData.map(lambda p: (p.userId, p.CreationDatePost)) \n",
    "                        .join(userData.map(lambda u: (u.userId, u.CreationDateUser)))\n",
    "                        .reduceByKey(lambda a, b: b if (dateDiff(b[0], b[1])>=100 and dateDiff(b[0], b[1])<=150) else a)\n",
    "                        .map(lambda c: freq_user_type(c[0], 'vet' if (dateDiff(c[1][0], c[1][1])>=100 and dateDiff(c[1][0], c[1][1])<=150) else 'brief')))\n",
    "\n",
    "vetInfo.take(20)"
   ]
  },
  {
   "cell_type": "code",
   "execution_count": 22,
   "id": "00e92f72",
   "metadata": {},
   "outputs": [],
   "source": [
    "FavScoreSummary=(postData.filter(lambda record: record.postType==1)\n",
    "                         .map(lambda p: (p.userId, (p.FavoriteCount, p.AnswerCount, p.Score, p.ViewCount, p.CreationDatePost)))\n",
    "                         .join(vetInfo.map(lambda v: (v.userId, v.user_type)))\n",
    "                         .map(lambda c: ((c[0], c[1][1]), c[1][0]))\n",
    "                         .reduceByKey(lambda a, b: b if b[4]<a[4] else a)\n",
    "                         .map(lambda c: (c[0][1], (c[1][0], c[1][1], c[1][2], c[1][3], 1)))\n",
    "                         .reduceByKey(lambda a, b: (a[0]+b[0], a[1]+b[1], a[2]+b[2], a[3]+b[3], a[4]+b[4]))).collect() \n",
    "\n",
    "identify_veterans={}\n",
    "for item in FavScoreSummary:\n",
    "    count=item[1][4]\n",
    "    identify_veterans[f\"{item[0]}_favorites\"]=item[1][0]/count\n",
    "    identify_veterans[f\"{item[0]}_answers\"]=item[1][1]/count\n",
    "    identify_veterans[f\"{item[0]}_score\"]=item[1][2]/count\n",
    "    identify_veterans[f\"{item[0]}_views\"]=item[1][3]/count\n"
   ]
  },
  {
   "cell_type": "code",
   "execution_count": 23,
   "id": "cafa12d1",
   "metadata": {},
   "outputs": [
    {
     "data": {
      "text/plain": [
       "{'vet_favorites': 1.2930005425935973,\n",
       " 'vet_answers': 1.2962561041779708,\n",
       " 'vet_score': 3.5322843190450355,\n",
       " 'vet_views': 927.7042864894195,\n",
       " 'brief_favorites': 0.5757105213626953,\n",
       " 'brief_answers': 0.9704968944099379,\n",
       " 'brief_score': 2.100084697910785,\n",
       " 'brief_views': 552.9672971955581}"
      ]
     },
     "execution_count": 23,
     "metadata": {},
     "output_type": "execute_result"
    }
   ],
   "source": [
    "identify_veterans"
   ]
  },
  {
   "cell_type": "code",
   "execution_count": 24,
   "id": "a12ba12e",
   "metadata": {
    "slideshow": null
   },
   "outputs": [
    {
     "name": "stdout",
     "output_type": "stream",
     "text": [
      "==================\n",
      "Your score: 1.0000\n",
      "==================\n"
     ]
    }
   ],
   "source": [
    "grader.score('spark_data__identify_veterans', identify_veterans)"
   ]
  },
  {
   "cell_type": "markdown",
   "id": "cdd48944",
   "metadata": {
    "slideshow": null
   },
   "source": [
    "## Question 6: Identify veterans&mdash;full\n"
   ]
  },
  {
   "cell_type": "markdown",
   "id": "fd648fc1",
   "metadata": {
    "slideshow": null
   },
   "source": [
    "Same as above, but on the full Stack Exchange data set."
   ]
  },
  {
   "cell_type": "markdown",
   "id": "d28bb2b7",
   "metadata": {
    "slideshow": null
   },
   "source": [
    "#### Checkpoints"
   ]
  },
  {
   "cell_type": "markdown",
   "id": "36ddbff2",
   "metadata": {
    "slideshow": null
   },
   "source": [
    "* Total brief users: 1,848,628\n",
    "* Total veteran users: 288,285"
   ]
  },
  {
   "cell_type": "code",
   "execution_count": 4,
   "id": "38c076f7",
   "metadata": {},
   "outputs": [],
   "source": [
    "def parseLines(xml_string):\n",
    "    parser = etree.XMLParser()\n",
    "    try:\n",
    "        xml_root = etree.fromstring(xml_string, parser)\n",
    "    except Exception:\n",
    "        return False\n",
    "    return True\n",
    "\n",
    "\n",
    "good_lines= (sc.textFile('spark-stack-data/allPosts/')\n",
    "               .filter(lambda txt: len(txt.split())>0 and len(txt.split()[0])>=4 and txt.split()[0][:4]=='<row')\n",
    "               .filter(parseLines))\n"
   ]
  },
  {
   "cell_type": "code",
   "execution_count": 26,
   "id": "441a72bb",
   "metadata": {},
   "outputs": [],
   "source": [
    "user_lines = (sc.textFile('spark-stack-data/allUsers/')\n",
    "           .filter(lambda txt: len(txt.split())>0 and len(txt.split()[0])>=4 and txt.split()[0][:4]=='<row'))"
   ]
  },
  {
   "cell_type": "code",
   "execution_count": 27,
   "id": "a581b989",
   "metadata": {},
   "outputs": [],
   "source": [
    "def FilterUser(xml_string):\n",
    "    parser = etree.XMLParser()\n",
    "    try:\n",
    "        xml_root = etree.fromstring(xml_string, parser)\n",
    "        Map=xml_root.attrib\n",
    "        userId=int(Map['Id'])        \n",
    "    except Exception:\n",
    "        return False\n",
    "    return True\n",
    "\n",
    "user_tuple = namedtuple('user_tuple', ['userId', 'CreationDateUser'])\n",
    "\n",
    "def parseUser(xml_string):\n",
    "    parser = etree.XMLParser()\n",
    "    xml_root = etree.fromstring(xml_string, parser)\n",
    "    Map=xml_root.attrib\n",
    "    userId=int(Map['Id'])\n",
    "    return user_tuple(userId, Map['CreationDate'])\n",
    "\n",
    "userData= (user_lines.filter(FilterUser)\n",
    "                     .map(parseUser))\n",
    "\n",
    "\n",
    "def FilterPost(xml_string):\n",
    "    parser = etree.XMLParser()\n",
    "    xml_root = etree.fromstring(xml_string, parser)\n",
    "    Map=xml_root.attrib\n",
    "    return 'OwnerUserId' in Map\n",
    "\n",
    "post_tuple = namedtuple('post_tuple', ['userId','CreationDatePost', 'FavoriteCount', 'postType', 'AnswerCount', 'Score', 'ViewCount'])\n",
    "\n",
    "def parsePost(xml_string):\n",
    "    parser = etree.XMLParser()\n",
    "    xml_root = etree.fromstring(xml_string, parser)\n",
    "    Map=xml_root.attrib\n",
    "    userId=int(Map['OwnerUserId'])\n",
    "    if 'FavoriteCount' not in Map:\n",
    "        FavoriteCount=0\n",
    "    else:\n",
    "        FavoriteCount=int(Map['FavoriteCount'])\n",
    "    if 'Score' not in Map:\n",
    "        Score=0\n",
    "    else:\n",
    "        Score=int(Map['Score']) \n",
    "    if 'ViewCount' not in Map:\n",
    "        ViewCount=0\n",
    "    else:\n",
    "        ViewCount=int(Map['ViewCount'])   \n",
    "    if 'AnswerCount' not in Map:\n",
    "        AnswerCount=0\n",
    "    else:\n",
    "        AnswerCount=int(Map['AnswerCount'])         \n",
    "    postType=int(Map['PostTypeId'])    \n",
    "    return post_tuple(userId, Map['CreationDate'], FavoriteCount, postType, AnswerCount, Score, ViewCount)\n",
    "\n",
    "postData=(good_lines.filter(FilterPost)\n",
    "                    .map(parsePost))\n"
   ]
  },
  {
   "cell_type": "code",
   "execution_count": 28,
   "id": "992204b4",
   "metadata": {},
   "outputs": [],
   "source": [
    "def dateDiff(nxt, prev):\n",
    "    prev_time=datetime.strptime(prev, \"%Y-%m-%dT%H:%M:%S.%f\")\n",
    "    nxt_time=datetime.strptime(nxt, \"%Y-%m-%dT%H:%M:%S.%f\")\n",
    "    return int(timedelta.total_seconds(nxt_time-prev_time)/86400)\n",
    "\n",
    "freq_user_type=namedtuple('freq_user_type', ['userId','user_type'])\n",
    "\n",
    "vetInfo = (postData.map(lambda p: (p.userId, p.CreationDatePost)) \n",
    "                        .join(userData.map(lambda u: (u.userId, u.CreationDateUser)))\n",
    "                        .reduceByKey(lambda a, b: b if (dateDiff(b[0], b[1])>=100 and dateDiff(b[0], b[1])<=150) else a)\n",
    "                        .map(lambda c: freq_user_type(c[0], 'vet' if (dateDiff(c[1][0], c[1][1])>=100 and dateDiff(c[1][0], c[1][1])<=150) else 'brief')))"
   ]
  },
  {
   "cell_type": "code",
   "execution_count": 29,
   "id": "82afb8cf",
   "metadata": {},
   "outputs": [],
   "source": [
    "FavScoreSummary=(postData.filter(lambda record: record.postType==1)\n",
    "                         .map(lambda p: (p.userId, (p.FavoriteCount, p.AnswerCount, p.Score, p.ViewCount, p.CreationDatePost)))\n",
    "                         .join(vetInfo.map(lambda v: (v.userId, v.user_type)))\n",
    "                         .map(lambda c: ((c[0], c[1][1]), c[1][0]))\n",
    "                         .reduceByKey(lambda a, b: b if b[4]<a[4] else a)\n",
    "                         .map(lambda c: (c[0][1], (c[1][0], c[1][1], c[1][2], c[1][3], 1)))\n",
    "                         .reduceByKey(lambda a, b: (a[0]+b[0], a[1]+b[1], a[2]+b[2], a[3]+b[3], a[4]+b[4])))\n",
    "\n",
    "FavScoreSummary=FavScoreSummary.collect() \n",
    "\n",
    "identify_veterans_full={}\n",
    "for item in FavScoreSummary:\n",
    "    count=item[1][4]\n",
    "    identify_veterans_full[f\"{item[0]}_favorites\"]=item[1][0]/count\n",
    "    identify_veterans_full[f\"{item[0]}_answers\"]=item[1][1]/count\n",
    "    identify_veterans_full[f\"{item[0]}_score\"]=item[1][2]/count\n",
    "    identify_veterans_full[f\"{item[0]}_views\"]=item[1][3]/count"
   ]
  },
  {
   "cell_type": "code",
   "execution_count": 30,
   "id": "49e8b126",
   "metadata": {},
   "outputs": [
    {
     "data": {
      "text/plain": [
       "{'vet_favorites': 0.8661474978452715,\n",
       " 'vet_answers': 1.841804785404288,\n",
       " 'vet_score': 2.2561266751584585,\n",
       " 'vet_views': 1841.8189951718825,\n",
       " 'brief_favorites': 0.3854817164205759,\n",
       " 'brief_answers': 1.5033659787554736,\n",
       " 'brief_score': 1.129298016272707,\n",
       " 'brief_views': 1095.1468872554271}"
      ]
     },
     "execution_count": 30,
     "metadata": {},
     "output_type": "execute_result"
    }
   ],
   "source": [
    "identify_veterans_full"
   ]
  },
  {
   "cell_type": "code",
   "execution_count": 31,
   "id": "416d3a0e",
   "metadata": {
    "slideshow": null
   },
   "outputs": [
    {
     "name": "stdout",
     "output_type": "stream",
     "text": [
      "==================\n",
      "Your score: 1.0000\n",
      "==================\n"
     ]
    }
   ],
   "source": [
    "grader.score('spark_data__identify_veterans_full', identify_veterans_full)"
   ]
  },
  {
   "cell_type": "markdown",
   "id": "48cb42d0",
   "metadata": {
    "slideshow": null
   },
   "source": [
    "This ends the `spark_data` section."
   ]
  },
  {
   "cell_type": "markdown",
   "id": "0540f6a7",
   "metadata": {
    "slideshow": null
   },
   "source": [
    "<br><br><br>"
   ]
  },
  {
   "cell_type": "markdown",
   "id": "5f4cc88e",
   "metadata": {
    "slideshow": null
   },
   "source": [
    "## Spark ML questions"
   ]
  },
  {
   "cell_type": "markdown",
   "id": "6f94513e",
   "metadata": {
    "slideshow": null
   },
   "source": [
    "The questions from here forward are associated with the `spark_ml` prefix. They are working with Spark's ML library to do some NLP based analysis on the data."
   ]
  },
  {
   "cell_type": "markdown",
   "id": "3db39885",
   "metadata": {
    "slideshow": null
   },
   "source": [
    "<br><br><br>"
   ]
  },
  {
   "cell_type": "markdown",
   "id": "4e753d7e",
   "metadata": {
    "slideshow": null
   },
   "source": [
    "## Question 7: Word2vec\n"
   ]
  },
  {
   "cell_type": "markdown",
   "id": "64533bd0",
   "metadata": {
    "slideshow": null
   },
   "source": [
    "Word2Vec is one approach for vectorizing text data. The vectorized representations of words in the vocabulary tend to be useful for predicting other words in the document, hence the famous example \"vector('king') - vector('man') + vector('woman') ~= vector('queen')\".\n",
    "\n",
    "Let's see how good a Word2Vec model we can train using the **tags** of each Stack Exchange post as documents (this uses the full data set). Use the implementation of Word2Vec from Spark ML (this will require using DataFrames) to return a list of the top 25 closest synonyms to \"ggplot2\" and their similarity score in tuple format (\"string\", number).\n",
    "\n",
    "The tags appear in the data as one string, you will need to separate them into individual tags. There is no need to further parse them beyond separating them."
   ]
  },
  {
   "cell_type": "markdown",
   "id": "984aa39f",
   "metadata": {
    "slideshow": null
   },
   "source": [
    "#### Parameters\n"
   ]
  },
  {
   "cell_type": "markdown",
   "id": "a2a9fd1c",
   "metadata": {
    "slideshow": null
   },
   "source": [
    "The dimensionality of the vector space should be 100. The random seed should be 42 in `PySpark`.\n"
   ]
  },
  {
   "cell_type": "markdown",
   "id": "ca9470a5",
   "metadata": {
    "slideshow": null
   },
   "source": [
    "#### Checkpoints"
   ]
  },
  {
   "cell_type": "markdown",
   "id": "777d8ec8",
   "metadata": {
    "slideshow": null
   },
   "source": [
    "* Mean of the top 25 cosine similarities: 0.8012362027168274"
   ]
  },
  {
   "cell_type": "code",
   "execution_count": 4,
   "id": "83bac0be",
   "metadata": {},
   "outputs": [
    {
     "name": "stderr",
     "output_type": "stream",
     "text": [
      "Setting default log level to \"WARN\".\n",
      "To adjust logging level use sc.setLogLevel(newLevel). For SparkR, use setLogLevel(newLevel).\n"
     ]
    }
   ],
   "source": [
    "from pyspark import SparkContext\n",
    "from lxml import etree \n",
    "\n",
    "sc = SparkContext.getOrCreate()\n",
    "\n",
    "def parseLines(xml_string):\n",
    "    parser = etree.XMLParser()\n",
    "    try:\n",
    "        xml_root = etree.fromstring(xml_string, parser)\n",
    "    except Exception:\n",
    "        return False\n",
    "    return True\n",
    "\n",
    "good_lines_small= (sc.textFile('spark-stats-data/allPosts/')\n",
    "               .filter(lambda txt: len(txt.split())>0 and len(txt.split()[0])>=4 and txt.split()[0][:4]=='<row')\n",
    "               .filter(parseLines))\n",
    "\n",
    "good_lines= (sc.textFile('spark-stack-data/allPosts/')\n",
    "               .filter(lambda txt: len(txt.split())>0 and len(txt.split()[0])>=4 and txt.split()[0][:4]=='<row')\n",
    "               .filter(parseLines))"
   ]
  },
  {
   "cell_type": "code",
   "execution_count": 71,
   "id": "9f3a0403",
   "metadata": {},
   "outputs": [],
   "source": [
    "from collections import namedtuple\n",
    "import itertools\n",
    "import numpy as np\n",
    "\n",
    "tag_tuple = namedtuple('tag_tuple', ['Tags'])\n",
    "\n",
    "def FilterPostTag(xml_string):\n",
    "    parser = etree.XMLParser()\n",
    "    xml_root = etree.fromstring(xml_string, parser)\n",
    "    Map=xml_root.attrib\n",
    "    return 'Tags' in Map\n",
    "\n",
    "def parsePostTag(xml_string):\n",
    "    parser = etree.XMLParser()\n",
    "    xml_root = etree.fromstring(xml_string, parser)\n",
    "    Map=xml_root.attrib\n",
    "    t=[i.split('>') for i in Map['Tags'].split('<')]\n",
    "    flat_t=list(itertools.chain(*t))\n",
    "    filtered_tag=[]\n",
    "    for item in flat_t:\n",
    "        if item:\n",
    "            filtered_tag.append(item.lower())\n",
    "    return tag_tuple(' '.join(filtered_tag))\n",
    "\n",
    "postData=(good_lines.filter(FilterPostTag)\n",
    "                    .map(parsePostTag))"
   ]
  },
  {
   "cell_type": "code",
   "execution_count": 72,
   "id": "dccf7407",
   "metadata": {},
   "outputs": [],
   "source": [
    "from pyspark.ml.feature import Word2Vec\n",
    "from pyspark import Row\n",
    "from pyspark.sql import SQLContext\n",
    "sqlContext = SQLContext(sc)\n",
    "\n",
    "#postDF = postData.toDF(['Tags'])\n",
    "postDF = postData.map(lambda p: Row(Tags=p.Tags.split())).toDF()"
   ]
  },
  {
   "cell_type": "code",
   "execution_count": 73,
   "id": "b505e856",
   "metadata": {},
   "outputs": [
    {
     "data": {
      "text/plain": [
       "[('lattice', 0.889565646648407),\n",
       " ('r-grid', 0.8570672869682312),\n",
       " ('plotmath', 0.8206846714019775),\n",
       " ('line-plot', 0.8155351877212524),\n",
       " ('boxplot', 0.8144579529762268),\n",
       " ('levelplot', 0.8125491142272949),\n",
       " ('plotrix', 0.8074321746826172),\n",
       " ('rgl', 0.8073427677154541),\n",
       " ('ecdf', 0.8068481683731079),\n",
       " ('r-factor', 0.8009346127510071),\n",
       " ('gridextra', 0.7989692091941833),\n",
       " ('density-plot', 0.7983241081237793),\n",
       " ('mgcv', 0.7955276370048523),\n",
       " ('categorical-data', 0.7920693755149841),\n",
       " ('melt', 0.7909421324729919),\n",
       " ('quantile', 0.7893455028533936),\n",
       " ('ggvis', 0.7883593440055847),\n",
       " ('ggdendro', 0.7859241366386414),\n",
       " ('lm', 0.7855767011642456),\n",
       " ('gtable', 0.7838269472122192),\n",
       " ('standard-error', 0.7834439277648926),\n",
       " ('loess', 0.7813327312469482),\n",
       " ('hmisc', 0.7783301472663879),\n",
       " ('plot', 0.7775034308433533),\n",
       " ('geom-text', 0.776115894317627)]"
      ]
     },
     "execution_count": 73,
     "metadata": {},
     "output_type": "execute_result"
    }
   ],
   "source": [
    "model = Word2Vec(vectorSize=100, inputCol=\"Tags\", outputCol=\"result\", seed=42).fit(postDF)\n",
    "word2vec=model.findSynonymsArray('ggplot2', 25)\n",
    "word2vec"
   ]
  },
  {
   "cell_type": "code",
   "execution_count": 74,
   "id": "591cd968",
   "metadata": {
    "slideshow": null
   },
   "outputs": [
    {
     "name": "stdout",
     "output_type": "stream",
     "text": [
      "==================\n",
      "Your score: 1.0000\n",
      "==================\n"
     ]
    },
    {
     "name": "stderr",
     "output_type": "stream",
     "text": [
      "----------------------------------------\n",
      "Exception occurred during processing of request from ('127.0.0.1', 40892)\n",
      "Traceback (most recent call last):\n",
      "  File \"/usr/local/lib/python3.10/socketserver.py\", line 316, in _handle_request_noblock\n",
      "    self.process_request(request, client_address)\n",
      "  File \"/usr/local/lib/python3.10/socketserver.py\", line 347, in process_request\n",
      "    self.finish_request(request, client_address)\n",
      "  File \"/usr/local/lib/python3.10/socketserver.py\", line 360, in finish_request\n",
      "    self.RequestHandlerClass(request, client_address, self)\n",
      "  File \"/usr/local/lib/python3.10/socketserver.py\", line 747, in __init__\n",
      "    self.handle()\n",
      "  File \"/usr/local/spark/python/pyspark/accumulators.py\", line 262, in handle\n",
      "    poll(accum_updates)\n",
      "  File \"/usr/local/spark/python/pyspark/accumulators.py\", line 235, in poll\n",
      "    if func():\n",
      "  File \"/usr/local/spark/python/pyspark/accumulators.py\", line 239, in accum_updates\n",
      "    num_updates = read_int(self.rfile)\n",
      "  File \"/usr/local/spark/python/pyspark/serializers.py\", line 564, in read_int\n",
      "    raise EOFError\n",
      "EOFError\n",
      "----------------------------------------\n"
     ]
    }
   ],
   "source": [
    "#word2vec = [(\"data.frame\", 0.772650957107544)] * 25\n",
    "\n",
    "grader.score('spark_ml__word2vec', word2vec)"
   ]
  },
  {
   "cell_type": "markdown",
   "id": "1cb67c60",
   "metadata": {
    "slideshow": null
   },
   "source": [
    "## Question 8: Classification\n"
   ]
  },
  {
   "cell_type": "markdown",
   "id": "d7c3f88d",
   "metadata": {
    "slideshow": null
   },
   "source": [
    "We'd like to see if we can predict the tags of a **question** from its body text. Instead of predicting specific tags, we will instead try to predict if a question contains one of the top ten most common tags.  \n",
    "\n",
    "To this end, we have separated out a train and a test set from the original data.  The training and tests sets were downloaded with the stats data at the beginning of the notebook.  You can also get them from S3:\n",
    "  * `s3://dataincubator-course/spark-stats-data/posts_train.zip`\n",
    "  * `s3://dataincubator-course/spark-stats-data/posts_test.zip`\n",
    "\n",
    "This will involve two steps: first, find the ten most common tags for questions in the training data set (the tags have been removed from the test set). Then train a learner to predict from the text of the question (the `Body` attribute) if it should have one of those ten tags in it - you will need to process the question text with NLP techniques such as splitting the text into tokens.\n",
    "\n",
    "Since we can't reliably pickle Spark models, instead return a list of your predictions, sorted by the question's `Id`.  This sorting is very important, as our grader expects the results to be submitted in a particular order. These predictions should be `0` if the question isn't expected to have a tag in the top ten, and `1` if it is.\n",
    "\n",
    "As an example, if our top tags include `spark` and `python`, and we had the following questions:\n",
    "\n",
    "```\n",
    "<row Body=\"...\" Id=\"1740\" Tags=\"<machine-learning><spark><regression>\" ... />\n",
    "<row Body=\"...\" Id=\"723\" Tags=\"<statistics><neurons>\" ... />\n",
    "<row Body=\"...\" Id=\"2740\" Tags=\"<functional><python><spark><pyspark>\" ... />\n",
    "```\n",
    "\n",
    "We would expect to return `[0, 1, 1]` (for the order `[723, 1740, 2740]`).  You may need to do some format manipulation in your DataFrame to get this."
   ]
  },
  {
   "cell_type": "markdown",
   "id": "492b4be9",
   "metadata": {
    "slideshow": null
   },
   "source": [
    "#### Checkpoints"
   ]
  },
  {
   "cell_type": "markdown",
   "id": "4aac32ab",
   "metadata": {
    "slideshow": null
   },
   "source": [
    "- Number of training posts with a tag in the top 10: `22525`\n",
    "- Number without: `19540`"
   ]
  },
  {
   "cell_type": "code",
   "execution_count": 3,
   "id": "3dbce7ac",
   "metadata": {
    "slideshow": null
   },
   "outputs": [
    {
     "name": "stdout",
     "output_type": "stream",
     "text": [
      "Archive:  spark-stats-data/posts_train.zip\n",
      "Archive:  spark-stats-data/posts_test.zip\n"
     ]
    }
   ],
   "source": [
    "!unzip -u -d spark-stats-data/train spark-stats-data/posts_train.zip\n",
    "!unzip -u -d spark-stats-data/test spark-stats-data/posts_test.zip"
   ]
  },
  {
   "cell_type": "code",
   "execution_count": 139,
   "id": "f63f1a05",
   "metadata": {},
   "outputs": [],
   "source": [
    "from pyspark import SparkContext\n",
    "from lxml import etree \n",
    "from collections import namedtuple\n",
    "import itertools\n",
    "\n",
    "sc = SparkContext.getOrCreate()\n",
    "\n",
    "def parseLines(xml_string):\n",
    "    parser = etree.XMLParser()\n",
    "    try:\n",
    "        xml_root = etree.fromstring(xml_string, parser)\n",
    "    except Exception:\n",
    "        return False\n",
    "    return True\n",
    "\n",
    "training_lines= (sc.textFile('spark-stats-data/train/')\n",
    "               .filter(lambda txt: len(txt.split())>0 and len(txt.split()[0])>=4 and txt.split()[0][:4]=='<row')\n",
    "               .filter(parseLines))\n",
    "\n",
    "\n",
    "\n",
    "post_tuple = namedtuple('tag_tuple', ['Body', 'Tags'])\n",
    "\n",
    "def FilterPostTag(xml_string):\n",
    "    parser = etree.XMLParser()\n",
    "    xml_root = etree.fromstring(xml_string, parser)\n",
    "    Map=xml_root.attrib\n",
    "    return 'Tags' in Map and 'Body' in Map and int(Map['PostTypeId'])==1\n",
    "\n",
    "def parsePostTag(xml_string):\n",
    "    parser = etree.XMLParser()\n",
    "    xml_root = etree.fromstring(xml_string, parser)\n",
    "    Map=xml_root.attrib\n",
    "    t=[i.split('>') for i in Map['Tags'].split('<')]\n",
    "    flat_t=list(itertools.chain(*t))\n",
    "    filtered_tag=[]\n",
    "    for item in flat_t:\n",
    "        if item:\n",
    "            filtered_tag.append(item.lower())\n",
    "    return post_tuple(Map['Body'], filtered_tag)\n",
    "\n",
    "trainingPosts=(training_lines.filter(FilterPostTag)\n",
    "                    .map(parsePostTag))\n"
   ]
  },
  {
   "cell_type": "code",
   "execution_count": 140,
   "id": "8b80ebf2",
   "metadata": {},
   "outputs": [],
   "source": [
    "from pyspark.ml.feature import CountVectorizer\n",
    "from pyspark import Row\n",
    "from pyspark.sql import SQLContext\n",
    "\n",
    "sqlContext = SQLContext(sc)\n",
    "\n",
    "postDF = trainingPosts.map(lambda p: Row(Tags=p.Tags)).toDF()\n",
    "model = CountVectorizer(inputCol=\"Tags\", outputCol=\"Counts\").fit(postDF)\n",
    "postDF_counts=model.transform(postDF)\n",
    "                           "
   ]
  },
  {
   "cell_type": "code",
   "execution_count": 141,
   "id": "2e188f58",
   "metadata": {},
   "outputs": [
    {
     "data": {
      "text/plain": [
       "{'correlation',\n",
       " 'distributions',\n",
       " 'hypothesis-testing',\n",
       " 'logistic',\n",
       " 'machine-learning',\n",
       " 'probability',\n",
       " 'r',\n",
       " 'regression',\n",
       " 'self-study',\n",
       " 'time-series'}"
      ]
     },
     "execution_count": 141,
     "metadata": {},
     "output_type": "execute_result"
    }
   ],
   "source": [
    "import pyspark.sql.functions as f\n",
    "import heapq\n",
    "\n",
    "combined_df = (\n",
    "    postDF_counts.select(f.explode('Tags').alias('col'))\n",
    "      .select(f.collect_list('col').alias('Tags'))\n",
    ")\n",
    "\n",
    "counts = model.transform(combined_df).select('Counts').collect()\n",
    "vocabMap=dict(zip(model.vocabulary, counts[0]['Counts'].values))\n",
    "\n",
    "top10=[]\n",
    "for item in vocabMap:\n",
    "    count=vocabMap[item]\n",
    "    if len(top10)<10:\n",
    "        heapq.heappush(top10, [count, item])\n",
    "    elif top10[0][0]<count:\n",
    "        heapq.heappushpop(top10, [count, item])\n",
    "\n",
    "top10=set([i[1] for i in top10])\n",
    "top10        "
   ]
  },
  {
   "cell_type": "code",
   "execution_count": 142,
   "id": "f1fbc301",
   "metadata": {},
   "outputs": [],
   "source": [
    "tagLabel_tuple = namedtuple('tagLabel_tuple', ['Body', 'label'])\n",
    "\n",
    "def mapTagLabel(postTuple):\n",
    "    isThere=False\n",
    "    for tag in postTuple.Tags:\n",
    "        if tag in top10:\n",
    "            isThere=True\n",
    "            break\n",
    "    return tagLabel_tuple(postTuple.Body, int(isThere))\n",
    "        \n",
    "trainingPostsLabeled=trainingPosts.map(mapTagLabel)"
   ]
  },
  {
   "cell_type": "code",
   "execution_count": 143,
   "id": "e2b32f58",
   "metadata": {},
   "outputs": [],
   "source": [
    "from pyspark.ml.classification import LogisticRegression\n",
    "from pyspark.ml.feature import HashingTF, Tokenizer\n",
    "\n",
    "tokenizer = Tokenizer(inputCol='Body', outputCol='words')\n",
    "hashingTF = HashingTF(inputCol=tokenizer.getOutputCol(), outputCol='features')\n",
    "logreg = LogisticRegression(maxIter=10, regParam=1.0)\n",
    "\n",
    "tokens = tokenizer.transform(trainingPostsLabeled.toDF())\n",
    "hashes = hashingTF.transform(tokens)\n",
    "model = logreg.fit(hashes)"
   ]
  },
  {
   "cell_type": "code",
   "execution_count": 150,
   "id": "388f87a2",
   "metadata": {},
   "outputs": [],
   "source": [
    "test_tuple = namedtuple('test_tuple', ['ID', 'Body'])\n",
    "\n",
    "def filterTest(xml_string):\n",
    "    parser = etree.XMLParser()\n",
    "    xml_root = etree.fromstring(xml_string, parser)\n",
    "    Map=xml_root.attrib\n",
    "    return int(Map['PostTypeId'])==1\n",
    "\n",
    "def parseTest(xml_string):\n",
    "    parser = etree.XMLParser()\n",
    "    xml_root = etree.fromstring(xml_string, parser)\n",
    "    Map=xml_root.attrib\n",
    "    return test_tuple(int(Map['Id']), Map['Body'])\n",
    "\n",
    "\n",
    "testData=(sc.textFile('spark-stats-data/test/')\n",
    "               .filter(lambda txt: len(txt.split())>0 and len(txt.split()[0])>=4 and txt.split()[0][:4]=='<row')\n",
    "               .filter(parseLines)\n",
    "               .filter(filterTest)         \n",
    "               .map(parseTest))"
   ]
  },
  {
   "cell_type": "code",
   "execution_count": 151,
   "id": "fca9bf77",
   "metadata": {},
   "outputs": [
    {
     "data": {
      "text/plain": [
       "4649"
      ]
     },
     "execution_count": 151,
     "metadata": {},
     "output_type": "execute_result"
    }
   ],
   "source": [
    "testData.count()"
   ]
  },
  {
   "cell_type": "code",
   "execution_count": 152,
   "id": "0003c86c",
   "metadata": {},
   "outputs": [
    {
     "name": "stdout",
     "output_type": "stream",
     "text": [
      "Row(ID=73939, prediction=1.0)\n",
      "Row(ID=74047, prediction=0.0)\n",
      "Row(ID=74050, prediction=0.0)\n",
      "Row(ID=74054, prediction=1.0)\n",
      "Row(ID=74066, prediction=1.0)\n"
     ]
    }
   ],
   "source": [
    "test_tokens = tokenizer.transform(testData.toDF())\n",
    "test_hashes = hashingTF.transform(test_tokens)\n",
    "\n",
    "predictions = model.transform(test_hashes)\n",
    "selected = predictions.select('ID', 'prediction')\n",
    "n=0\n",
    "for row in selected.take(5):\n",
    "    print(row)"
   ]
  },
  {
   "cell_type": "code",
   "execution_count": 169,
   "id": "04fc4df3",
   "metadata": {},
   "outputs": [],
   "source": [
    "from pyspark.ml import Pipeline\n",
    "pipeline = Pipeline(stages=[tokenizer, hashingTF, logreg])\n",
    "from pyspark.ml.tuning import CrossValidator, ParamGridBuilder\n",
    "from pyspark.ml.evaluation import BinaryClassificationEvaluator\n",
    "\n",
    "paramGrid = (ParamGridBuilder() \n",
    "    .addGrid(hashingTF.numFeatures, [1000, 2000, 3000, 4000, 5000, 6000, 7000]) \n",
    "    .addGrid(logreg.regParam, [10, 1, .1, 0.01, 0.001]) \n",
    "    .build())\n",
    "\n",
    "crossval = CrossValidator(estimator=pipeline,\n",
    "                          estimatorParamMaps=paramGrid,\n",
    "                          evaluator=BinaryClassificationEvaluator(),\n",
    "                          numFolds=10,\n",
    "                          seed=42)\n",
    "\n",
    "cvModel = crossval.fit(trainingPostsLabeled.toDF())\n",
    "\n",
    "better_predictions = cvModel.transform(testData.toDF())"
   ]
  },
  {
   "cell_type": "code",
   "execution_count": 170,
   "id": "aa903e3a",
   "metadata": {},
   "outputs": [],
   "source": [
    "#better_predictions.select('ID', 'prediction')\n",
    "final_pred=better_predictions.select('ID', 'prediction').collect()"
   ]
  },
  {
   "cell_type": "code",
   "execution_count": 171,
   "id": "dcb96b83",
   "metadata": {},
   "outputs": [],
   "source": [
    "classification=[i[1] for i in sorted([[row['ID'], int(row['prediction'])] for row in final_pred])]"
   ]
  },
  {
   "cell_type": "code",
   "execution_count": 172,
   "id": "b13d977d",
   "metadata": {},
   "outputs": [
    {
     "data": {
      "text/plain": [
       "4649"
      ]
     },
     "execution_count": 172,
     "metadata": {},
     "output_type": "execute_result"
    }
   ],
   "source": [
    "len(classification)"
   ]
  },
  {
   "cell_type": "code",
   "execution_count": 173,
   "id": "743f8070",
   "metadata": {
    "slideshow": null
   },
   "outputs": [
    {
     "name": "stdout",
     "output_type": "stream",
     "text": [
      "==================\n",
      "Your score: 0.9189\n",
      "==================\n"
     ]
    }
   ],
   "source": [
    "#classification = [0] * 4649\n",
    "\n",
    "grader.score('spark_ml__classification', classification)"
   ]
  },
  {
   "cell_type": "markdown",
   "id": "137e73ec",
   "metadata": {
    "slideshow": null
   },
   "source": [
    "## K-means (ungraded)\n"
   ]
  },
  {
   "cell_type": "markdown",
   "id": "4b75688c",
   "metadata": {
    "slideshow": null
   },
   "source": [
    "From your trained Word2Vec model, pass the vectors into a K-means clustering algorithm. Create a plot of the sum of squared error by calculating the square root of the sum of the squared distances for each point and its assigned cluster. For an independent variable use either the number of clusters k or the dimension of the Word2Vec vectorization."
   ]
  },
  {
   "cell_type": "markdown",
   "id": "3ef6fd99",
   "metadata": {
    "slideshow": null
   },
   "source": [
    "*Copyright &copy; 2023 Pragmatic Institute. This content is licensed solely for personal use. Redistribution or publication of this material is strictly prohibited.*"
   ]
  }
 ],
 "metadata": {
  "kernelspec": {
   "display_name": "Python3",
   "language": "python",
   "name": "python3"
  },
  "language_info": {
   "codemirror_mode": {
    "name": "ipython",
    "version": 3
   },
   "file_extension": ".py",
   "mimetype": "text/x-python",
   "name": "python",
   "nbconvert_exporter": "python",
   "pygments_lexer": "ipython3",
   "version": "3.10.8"
  },
  "nbclean": true
 },
 "nbformat": 4,
 "nbformat_minor": 5
}
