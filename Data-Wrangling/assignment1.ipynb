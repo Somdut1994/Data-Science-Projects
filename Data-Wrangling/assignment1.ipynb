{
 "cells": [
  {
   "cell_type": "code",
   "execution_count": 3,
   "id": "35026ef9",
   "metadata": {
    "slideshow": null
   },
   "outputs": [],
   "source": [
    "import seaborn as sns\n",
    "sns.set()"
   ]
  },
  {
   "cell_type": "code",
   "execution_count": 4,
   "id": "42b93555",
   "metadata": {
    "slideshow": null
   },
   "outputs": [],
   "source": [
    "from static_grader import grader"
   ]
  },
  {
   "cell_type": "markdown",
   "id": "25ada033",
   "metadata": {
    "slideshow": null
   },
   "source": [
    "# Assignment 1: Introduction to the Grader\n"
   ]
  },
  {
   "cell_type": "markdown",
   "id": "7b4766c7",
   "metadata": {
    "slideshow": null
   },
   "source": [
    "Each miniproject comes in the form of a Jupyter notebook, like this one.  This first section will give a high-level description of the problem, as well as link to any data that you may need.  Following that, there will be a series of questions.  Each will have a cell with a call to the `grader.score` function.  Your job is to prepare an answer to be submitted to this function.  Sometimes that answer will be in the form of a static result; sometimes it will be a function that will process input from the grader.  The `grader.score` function will submit your answer to the grader and display a grade in the range 0 to 1.\n",
    "\n",
    "Be sure to run the cells at the top of the notebook to load the `grader.score` function."
   ]
  },
  {
   "cell_type": "markdown",
   "id": "f3a6e646",
   "metadata": {
    "slideshow": null
   },
   "source": [
    "# Questions\n"
   ]
  },
  {
   "cell_type": "markdown",
   "id": "2dfcde8c",
   "metadata": {
    "slideshow": null
   },
   "source": [
    "## five_primes\n"
   ]
  },
  {
   "cell_type": "markdown",
   "id": "958d2245",
   "metadata": {
    "slideshow": null
   },
   "source": [
    "In some questions, you will be asked to simply return a list of results.  In this case, you are to return a list of the first five primes.  Edit the cell below to create this list."
   ]
  },
  {
   "cell_type": "code",
   "execution_count": 10,
   "id": "cc5a19d6",
   "metadata": {
    "slideshow": null
   },
   "outputs": [
    {
     "name": "stdout",
     "output_type": "stream",
     "text": [
      "[2, 3, 5, 7, 11]\n"
     ]
    }
   ],
   "source": [
    "primes = []\n",
    "\n",
    "start_num=2\n",
    "n=0\n",
    "while n<5:\n",
    "    mid_num=int(start_num**(0.5))\n",
    "    primeFlag=True\n",
    "    for i in range(2, mid_num+1):\n",
    "        if start_num%i==0:\n",
    "            primeFlag=False\n",
    "            break\n",
    "    if primeFlag:\n",
    "        primes.append(start_num)\n",
    "        n+=1\n",
    "    start_num+=1\n",
    "print(primes)"
   ]
  },
  {
   "cell_type": "markdown",
   "id": "a7479151",
   "metadata": {
    "slideshow": null
   },
   "source": [
    "Now, all we have to do is submit that list to the grader:"
   ]
  },
  {
   "cell_type": "code",
   "execution_count": 11,
   "id": "33ebe008",
   "metadata": {
    "slideshow": null
   },
   "outputs": [
    {
     "name": "stdout",
     "output_type": "stream",
     "text": [
      "==================\n",
      "Your score: 1.0000\n",
      "==================\n"
     ]
    }
   ],
   "source": [
    "grader.score(\"assignment1__five_primes\", primes)"
   ]
  },
  {
   "cell_type": "markdown",
   "id": "48e4edb2",
   "metadata": {
    "slideshow": null
   },
   "source": [
    "## square\n"
   ]
  },
  {
   "cell_type": "markdown",
   "id": "659cd4db",
   "metadata": {
    "slideshow": null
   },
   "source": [
    "Other questions will require you to build a function that takes some input and returns a specified output.  Build a function that takes a list of numbers as input and returns a list of their squares."
   ]
  },
  {
   "cell_type": "code",
   "execution_count": 12,
   "id": "469e7560",
   "metadata": {
    "slideshow": null
   },
   "outputs": [],
   "source": [
    "def square(x):\n",
    "    res=[]\n",
    "    for item in x:\n",
    "        res.append(item**2)\n",
    "    return res\n",
    "    "
   ]
  },
  {
   "cell_type": "markdown",
   "id": "8df60c26",
   "metadata": {
    "slideshow": null
   },
   "source": [
    "In this case, the `grader.score` method will ask the grader for the input, pass it to your function, and report the output back for grading. Before we submit our answer to the grader, let's discuss `grader.check`.\n",
    "\n",
    "For some questions, we have checks along the way. These checks let you know if there's any potential problems with your solution. If the expression in `grader.check` is `True`, it will return `True`. If not, it will raise a `ValueError` and we should see how we can resolve the issue. In the check below, we make sure that the length of the output list is the same as the input list."
   ]
  },
  {
   "cell_type": "code",
   "execution_count": 13,
   "id": "d4f70857",
   "metadata": {
    "slideshow": null
   },
   "outputs": [
    {
     "data": {
      "text/plain": [
       "True"
      ]
     },
     "execution_count": 13,
     "metadata": {},
     "output_type": "execute_result"
    }
   ],
   "source": [
    "# Check to see that the input and output list are the same length.\n",
    "grader.check(len(square([0, 1, 2])) == 3)"
   ]
  },
  {
   "cell_type": "markdown",
   "id": "b71f709b",
   "metadata": {
    "slideshow": null
   },
   "source": [
    "Now that we have passed the check, let's submit our `square` function."
   ]
  },
  {
   "cell_type": "code",
   "execution_count": 14,
   "id": "a9b88ab1",
   "metadata": {
    "slideshow": null
   },
   "outputs": [
    {
     "name": "stdout",
     "output_type": "stream",
     "text": [
      "==================\n",
      "Your score: 1.0000\n",
      "==================\n"
     ]
    }
   ],
   "source": [
    "grader.score(\"assignment1__square\", square)"
   ]
  },
  {
   "cell_type": "markdown",
   "id": "3ef6fd99",
   "metadata": {
    "slideshow": null
   },
   "source": [
    "*Copyright &copy; 2022 Pragmatic Institute. This content is licensed solely for personal use. Redistribution or publication of this material is strictly prohibited.*"
   ]
  }
 ],
 "metadata": {
  "kernelspec": {
   "display_name": "Python3",
   "language": "python",
   "name": "python3"
  },
  "language_info": {
   "codemirror_mode": {
    "name": "ipython",
    "version": 3
   },
   "file_extension": ".py",
   "mimetype": "text/x-python",
   "name": "python",
   "nbconvert_exporter": "python",
   "pygments_lexer": "ipython3",
   "version": "3.10.8"
  },
  "nbclean": true
 },
 "nbformat": 4,
 "nbformat_minor": 5
}
